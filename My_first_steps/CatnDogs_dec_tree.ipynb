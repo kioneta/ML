{
  "cells": [
    {
      "cell_type": "markdown",
      "metadata": {
        "id": "view-in-github",
        "colab_type": "text"
      },
      "source": [
        "<a href=\"https://colab.research.google.com/github/kioneta/ML_first_steps/blob/main/CatnDogs.ipynb\" target=\"_parent\"><img src=\"https://colab.research.google.com/assets/colab-badge.svg\" alt=\"Open In Colab\"/></a>"
      ]
    },
    {
      "cell_type": "code",
      "execution_count": null,
      "id": "201b3173",
      "metadata": {
        "id": "201b3173",
        "outputId": "745bb2c2-f764-4322-fbbe-49dbfb44ca99"
      },
      "outputs": [
        {
          "data": {
            "text/html": [
              "<style>svg{width: 30% !important; height: 60% !important;} </style>"
            ],
            "text/plain": [
              "<IPython.core.display.HTML object>"
            ]
          },
          "execution_count": 1,
          "metadata": {},
          "output_type": "execute_result"
        }
      ],
      "source": [
        "from sklearn import tree\n",
        "import pandas as pd\n",
        "import matplotlib.pyplot as plt\n",
        "import seaborn as sns\n",
        "%matplotlib inline\n",
        "import numpy as np\n",
        "from sklearn.model_selection import train_test_split\n",
        "from IPython.display import SVG\n",
        "from graphviz import Source\n",
        "from IPython.display import display\n",
        "from sklearn.model_selection import cross_val_score\n",
        "from IPython.display import HTML\n",
        "style = \"<style>svg{width: 30% !important; height: 60% !important;} </style>\"\n",
        "HTML(style)"
      ]
    },
    {
      "cell_type": "code",
      "execution_count": null,
      "id": "e0f6f5b4",
      "metadata": {
        "id": "e0f6f5b4"
      },
      "outputs": [],
      "source": [
        "df_train = pd.read_csv('https://stepik.org/media/attachments/course/4852/dogs_n_cats.csv')"
      ]
    },
    {
      "cell_type": "code",
      "execution_count": null,
      "id": "63227192",
      "metadata": {
        "id": "63227192",
        "outputId": "4c19626f-677e-4de7-c453-ebe2f28d2f9f"
      },
      "outputs": [
        {
          "data": {
            "text/html": [
              "<div>\n",
              "<style scoped>\n",
              "    .dataframe tbody tr th:only-of-type {\n",
              "        vertical-align: middle;\n",
              "    }\n",
              "\n",
              "    .dataframe tbody tr th {\n",
              "        vertical-align: top;\n",
              "    }\n",
              "\n",
              "    .dataframe thead th {\n",
              "        text-align: right;\n",
              "    }\n",
              "</style>\n",
              "<table border=\"1\" class=\"dataframe\">\n",
              "  <thead>\n",
              "    <tr style=\"text-align: right;\">\n",
              "      <th></th>\n",
              "      <th>Длина</th>\n",
              "      <th>Высота</th>\n",
              "      <th>Шерстист</th>\n",
              "      <th>Гавкает</th>\n",
              "      <th>Лазает по деревьям</th>\n",
              "      <th>Вид</th>\n",
              "    </tr>\n",
              "  </thead>\n",
              "  <tbody>\n",
              "    <tr>\n",
              "      <th>0</th>\n",
              "      <td>15</td>\n",
              "      <td>18.0</td>\n",
              "      <td>1</td>\n",
              "      <td>1</td>\n",
              "      <td>0</td>\n",
              "      <td>собачка</td>\n",
              "    </tr>\n",
              "    <tr>\n",
              "      <th>1</th>\n",
              "      <td>20</td>\n",
              "      <td>24.0</td>\n",
              "      <td>1</td>\n",
              "      <td>0</td>\n",
              "      <td>0</td>\n",
              "      <td>собачка</td>\n",
              "    </tr>\n",
              "    <tr>\n",
              "      <th>2</th>\n",
              "      <td>34</td>\n",
              "      <td>40.8</td>\n",
              "      <td>1</td>\n",
              "      <td>1</td>\n",
              "      <td>0</td>\n",
              "      <td>собачка</td>\n",
              "    </tr>\n",
              "    <tr>\n",
              "      <th>3</th>\n",
              "      <td>26</td>\n",
              "      <td>31.2</td>\n",
              "      <td>1</td>\n",
              "      <td>1</td>\n",
              "      <td>0</td>\n",
              "      <td>собачка</td>\n",
              "    </tr>\n",
              "    <tr>\n",
              "      <th>4</th>\n",
              "      <td>16</td>\n",
              "      <td>19.2</td>\n",
              "      <td>1</td>\n",
              "      <td>1</td>\n",
              "      <td>0</td>\n",
              "      <td>собачка</td>\n",
              "    </tr>\n",
              "  </tbody>\n",
              "</table>\n",
              "</div>"
            ],
            "text/plain": [
              "   Длина  Высота  Шерстист  Гавкает  Лазает по деревьям      Вид\n",
              "0     15    18.0         1        1                   0  собачка\n",
              "1     20    24.0         1        0                   0  собачка\n",
              "2     34    40.8         1        1                   0  собачка\n",
              "3     26    31.2         1        1                   0  собачка\n",
              "4     16    19.2         1        1                   0  собачка"
            ]
          },
          "execution_count": 3,
          "metadata": {},
          "output_type": "execute_result"
        }
      ],
      "source": [
        "df_train.head()"
      ]
    },
    {
      "cell_type": "code",
      "execution_count": null,
      "id": "f880f39f",
      "metadata": {
        "id": "f880f39f",
        "outputId": "464cc561-47a3-47c9-d075-8321dd0856b7"
      },
      "outputs": [
        {
          "data": {
            "text/plain": [
              "Длина                 0\n",
              "Высота                0\n",
              "Шерстист              0\n",
              "Гавкает               0\n",
              "Лазает по деревьям    0\n",
              "Вид                   0\n",
              "dtype: int64"
            ]
          },
          "execution_count": 4,
          "metadata": {},
          "output_type": "execute_result"
        }
      ],
      "source": [
        "df_train.isnull().sum()"
      ]
    },
    {
      "cell_type": "code",
      "execution_count": null,
      "id": "5a8fdffa",
      "metadata": {
        "id": "5a8fdffa",
        "outputId": "48e6c410-715c-4ad7-f0c6-578367341556"
      },
      "outputs": [
        {
          "data": {
            "text/plain": [
              "array([0, 1], dtype=int64)"
            ]
          },
          "execution_count": 23,
          "metadata": {},
          "output_type": "execute_result"
        }
      ],
      "source": [
        "df_train['Лазает по деревьям'].unique()"
      ]
    },
    {
      "cell_type": "code",
      "execution_count": null,
      "id": "a532d105",
      "metadata": {
        "id": "a532d105"
      },
      "outputs": [],
      "source": [
        "X = df_train.iloc[:,:-1]\n",
        "y= df_train['Вид']"
      ]
    },
    {
      "cell_type": "code",
      "execution_count": null,
      "id": "b42381ce",
      "metadata": {
        "id": "b42381ce"
      },
      "outputs": [],
      "source": [
        "X_train, X_test,y_train, y_test = train_test_split(X, y, test_size = 0.33, random_state=42)"
      ]
    },
    {
      "cell_type": "code",
      "execution_count": null,
      "id": "aedb3339",
      "metadata": {
        "id": "aedb3339",
        "outputId": "4e0e8e01-93b7-4231-e518-083408befbdc"
      },
      "outputs": [
        {
          "data": {
            "text/plain": [
              "(670, 5)"
            ]
          },
          "execution_count": 30,
          "metadata": {},
          "output_type": "execute_result"
        }
      ],
      "source": [
        "X_train.shape"
      ]
    },
    {
      "cell_type": "code",
      "execution_count": null,
      "id": "436167c4",
      "metadata": {
        "id": "436167c4"
      },
      "outputs": [],
      "source": [
        "clf = tree.DecisionTreeClassifier() #создаем объект к которому можем использовать методы"
      ]
    },
    {
      "cell_type": "code",
      "execution_count": null,
      "id": "e01cb9ec",
      "metadata": {
        "id": "e01cb9ec"
      },
      "outputs": [],
      "source": [
        "max_depth_values = range(1,100)"
      ]
    },
    {
      "cell_type": "code",
      "execution_count": null,
      "id": "b1ea9f43",
      "metadata": {
        "id": "b1ea9f43",
        "outputId": "0c51eae4-87a2-4b1b-d78b-9d69647f4083"
      },
      "outputs": [
        {
          "data": {
            "text/plain": [
              "1.0"
            ]
          },
          "execution_count": 34,
          "metadata": {},
          "output_type": "execute_result"
        }
      ],
      "source": [
        "cross_val_score(clf,X_train, y_train, cv=5).mean()\n",
        "#разбиваем все точки на 5 групп и считаем их как тест и трейн"
      ]
    },
    {
      "cell_type": "code",
      "execution_count": null,
      "id": "64cafcee",
      "metadata": {
        "id": "64cafcee"
      },
      "outputs": [],
      "source": [
        "scores_data = pd.DataFrame()"
      ]
    },
    {
      "cell_type": "code",
      "execution_count": null,
      "id": "469ddea2",
      "metadata": {
        "collapsed": true,
        "id": "469ddea2",
        "outputId": "645faf51-4348-40cd-ea6d-66099973fc55"
      },
      "outputs": [
        {
          "name": "stderr",
          "output_type": "stream",
          "text": [
            "C:\\Users\\Kristina\\AppData\\Local\\Temp\\ipykernel_9148\\3033521014.py:13: FutureWarning: The frame.append method is deprecated and will be removed from pandas in a future version. Use pandas.concat instead.\n",
            "  scores_data = scores_data.append(temp_score_data)\n",
            "C:\\Users\\Kristina\\AppData\\Local\\Temp\\ipykernel_9148\\3033521014.py:13: FutureWarning: The frame.append method is deprecated and will be removed from pandas in a future version. Use pandas.concat instead.\n",
            "  scores_data = scores_data.append(temp_score_data)\n",
            "C:\\Users\\Kristina\\AppData\\Local\\Temp\\ipykernel_9148\\3033521014.py:13: FutureWarning: The frame.append method is deprecated and will be removed from pandas in a future version. Use pandas.concat instead.\n",
            "  scores_data = scores_data.append(temp_score_data)\n",
            "C:\\Users\\Kristina\\AppData\\Local\\Temp\\ipykernel_9148\\3033521014.py:13: FutureWarning: The frame.append method is deprecated and will be removed from pandas in a future version. Use pandas.concat instead.\n",
            "  scores_data = scores_data.append(temp_score_data)\n",
            "C:\\Users\\Kristina\\AppData\\Local\\Temp\\ipykernel_9148\\3033521014.py:13: FutureWarning: The frame.append method is deprecated and will be removed from pandas in a future version. Use pandas.concat instead.\n",
            "  scores_data = scores_data.append(temp_score_data)\n",
            "C:\\Users\\Kristina\\AppData\\Local\\Temp\\ipykernel_9148\\3033521014.py:13: FutureWarning: The frame.append method is deprecated and will be removed from pandas in a future version. Use pandas.concat instead.\n",
            "  scores_data = scores_data.append(temp_score_data)\n",
            "C:\\Users\\Kristina\\AppData\\Local\\Temp\\ipykernel_9148\\3033521014.py:13: FutureWarning: The frame.append method is deprecated and will be removed from pandas in a future version. Use pandas.concat instead.\n",
            "  scores_data = scores_data.append(temp_score_data)\n",
            "C:\\Users\\Kristina\\AppData\\Local\\Temp\\ipykernel_9148\\3033521014.py:13: FutureWarning: The frame.append method is deprecated and will be removed from pandas in a future version. Use pandas.concat instead.\n",
            "  scores_data = scores_data.append(temp_score_data)\n",
            "C:\\Users\\Kristina\\AppData\\Local\\Temp\\ipykernel_9148\\3033521014.py:13: FutureWarning: The frame.append method is deprecated and will be removed from pandas in a future version. Use pandas.concat instead.\n",
            "  scores_data = scores_data.append(temp_score_data)\n",
            "C:\\Users\\Kristina\\AppData\\Local\\Temp\\ipykernel_9148\\3033521014.py:13: FutureWarning: The frame.append method is deprecated and will be removed from pandas in a future version. Use pandas.concat instead.\n",
            "  scores_data = scores_data.append(temp_score_data)\n",
            "C:\\Users\\Kristina\\AppData\\Local\\Temp\\ipykernel_9148\\3033521014.py:13: FutureWarning: The frame.append method is deprecated and will be removed from pandas in a future version. Use pandas.concat instead.\n",
            "  scores_data = scores_data.append(temp_score_data)\n",
            "C:\\Users\\Kristina\\AppData\\Local\\Temp\\ipykernel_9148\\3033521014.py:13: FutureWarning: The frame.append method is deprecated and will be removed from pandas in a future version. Use pandas.concat instead.\n",
            "  scores_data = scores_data.append(temp_score_data)\n",
            "C:\\Users\\Kristina\\AppData\\Local\\Temp\\ipykernel_9148\\3033521014.py:13: FutureWarning: The frame.append method is deprecated and will be removed from pandas in a future version. Use pandas.concat instead.\n",
            "  scores_data = scores_data.append(temp_score_data)\n",
            "C:\\Users\\Kristina\\AppData\\Local\\Temp\\ipykernel_9148\\3033521014.py:13: FutureWarning: The frame.append method is deprecated and will be removed from pandas in a future version. Use pandas.concat instead.\n",
            "  scores_data = scores_data.append(temp_score_data)\n",
            "C:\\Users\\Kristina\\AppData\\Local\\Temp\\ipykernel_9148\\3033521014.py:13: FutureWarning: The frame.append method is deprecated and will be removed from pandas in a future version. Use pandas.concat instead.\n",
            "  scores_data = scores_data.append(temp_score_data)\n",
            "C:\\Users\\Kristina\\AppData\\Local\\Temp\\ipykernel_9148\\3033521014.py:13: FutureWarning: The frame.append method is deprecated and will be removed from pandas in a future version. Use pandas.concat instead.\n",
            "  scores_data = scores_data.append(temp_score_data)\n",
            "C:\\Users\\Kristina\\AppData\\Local\\Temp\\ipykernel_9148\\3033521014.py:13: FutureWarning: The frame.append method is deprecated and will be removed from pandas in a future version. Use pandas.concat instead.\n",
            "  scores_data = scores_data.append(temp_score_data)\n",
            "C:\\Users\\Kristina\\AppData\\Local\\Temp\\ipykernel_9148\\3033521014.py:13: FutureWarning: The frame.append method is deprecated and will be removed from pandas in a future version. Use pandas.concat instead.\n",
            "  scores_data = scores_data.append(temp_score_data)\n",
            "C:\\Users\\Kristina\\AppData\\Local\\Temp\\ipykernel_9148\\3033521014.py:13: FutureWarning: The frame.append method is deprecated and will be removed from pandas in a future version. Use pandas.concat instead.\n",
            "  scores_data = scores_data.append(temp_score_data)\n",
            "C:\\Users\\Kristina\\AppData\\Local\\Temp\\ipykernel_9148\\3033521014.py:13: FutureWarning: The frame.append method is deprecated and will be removed from pandas in a future version. Use pandas.concat instead.\n",
            "  scores_data = scores_data.append(temp_score_data)\n",
            "C:\\Users\\Kristina\\AppData\\Local\\Temp\\ipykernel_9148\\3033521014.py:13: FutureWarning: The frame.append method is deprecated and will be removed from pandas in a future version. Use pandas.concat instead.\n",
            "  scores_data = scores_data.append(temp_score_data)\n",
            "C:\\Users\\Kristina\\AppData\\Local\\Temp\\ipykernel_9148\\3033521014.py:13: FutureWarning: The frame.append method is deprecated and will be removed from pandas in a future version. Use pandas.concat instead.\n",
            "  scores_data = scores_data.append(temp_score_data)\n",
            "C:\\Users\\Kristina\\AppData\\Local\\Temp\\ipykernel_9148\\3033521014.py:13: FutureWarning: The frame.append method is deprecated and will be removed from pandas in a future version. Use pandas.concat instead.\n",
            "  scores_data = scores_data.append(temp_score_data)\n",
            "C:\\Users\\Kristina\\AppData\\Local\\Temp\\ipykernel_9148\\3033521014.py:13: FutureWarning: The frame.append method is deprecated and will be removed from pandas in a future version. Use pandas.concat instead.\n",
            "  scores_data = scores_data.append(temp_score_data)\n",
            "C:\\Users\\Kristina\\AppData\\Local\\Temp\\ipykernel_9148\\3033521014.py:13: FutureWarning: The frame.append method is deprecated and will be removed from pandas in a future version. Use pandas.concat instead.\n",
            "  scores_data = scores_data.append(temp_score_data)\n",
            "C:\\Users\\Kristina\\AppData\\Local\\Temp\\ipykernel_9148\\3033521014.py:13: FutureWarning: The frame.append method is deprecated and will be removed from pandas in a future version. Use pandas.concat instead.\n",
            "  scores_data = scores_data.append(temp_score_data)\n",
            "C:\\Users\\Kristina\\AppData\\Local\\Temp\\ipykernel_9148\\3033521014.py:13: FutureWarning: The frame.append method is deprecated and will be removed from pandas in a future version. Use pandas.concat instead.\n",
            "  scores_data = scores_data.append(temp_score_data)\n",
            "C:\\Users\\Kristina\\AppData\\Local\\Temp\\ipykernel_9148\\3033521014.py:13: FutureWarning: The frame.append method is deprecated and will be removed from pandas in a future version. Use pandas.concat instead.\n",
            "  scores_data = scores_data.append(temp_score_data)\n",
            "C:\\Users\\Kristina\\AppData\\Local\\Temp\\ipykernel_9148\\3033521014.py:13: FutureWarning: The frame.append method is deprecated and will be removed from pandas in a future version. Use pandas.concat instead.\n",
            "  scores_data = scores_data.append(temp_score_data)\n",
            "C:\\Users\\Kristina\\AppData\\Local\\Temp\\ipykernel_9148\\3033521014.py:13: FutureWarning: The frame.append method is deprecated and will be removed from pandas in a future version. Use pandas.concat instead.\n",
            "  scores_data = scores_data.append(temp_score_data)\n",
            "C:\\Users\\Kristina\\AppData\\Local\\Temp\\ipykernel_9148\\3033521014.py:13: FutureWarning: The frame.append method is deprecated and will be removed from pandas in a future version. Use pandas.concat instead.\n",
            "  scores_data = scores_data.append(temp_score_data)\n",
            "C:\\Users\\Kristina\\AppData\\Local\\Temp\\ipykernel_9148\\3033521014.py:13: FutureWarning: The frame.append method is deprecated and will be removed from pandas in a future version. Use pandas.concat instead.\n",
            "  scores_data = scores_data.append(temp_score_data)\n",
            "C:\\Users\\Kristina\\AppData\\Local\\Temp\\ipykernel_9148\\3033521014.py:13: FutureWarning: The frame.append method is deprecated and will be removed from pandas in a future version. Use pandas.concat instead.\n",
            "  scores_data = scores_data.append(temp_score_data)\n",
            "C:\\Users\\Kristina\\AppData\\Local\\Temp\\ipykernel_9148\\3033521014.py:13: FutureWarning: The frame.append method is deprecated and will be removed from pandas in a future version. Use pandas.concat instead.\n",
            "  scores_data = scores_data.append(temp_score_data)\n",
            "C:\\Users\\Kristina\\AppData\\Local\\Temp\\ipykernel_9148\\3033521014.py:13: FutureWarning: The frame.append method is deprecated and will be removed from pandas in a future version. Use pandas.concat instead.\n",
            "  scores_data = scores_data.append(temp_score_data)\n",
            "C:\\Users\\Kristina\\AppData\\Local\\Temp\\ipykernel_9148\\3033521014.py:13: FutureWarning: The frame.append method is deprecated and will be removed from pandas in a future version. Use pandas.concat instead.\n",
            "  scores_data = scores_data.append(temp_score_data)\n",
            "C:\\Users\\Kristina\\AppData\\Local\\Temp\\ipykernel_9148\\3033521014.py:13: FutureWarning: The frame.append method is deprecated and will be removed from pandas in a future version. Use pandas.concat instead.\n",
            "  scores_data = scores_data.append(temp_score_data)\n",
            "C:\\Users\\Kristina\\AppData\\Local\\Temp\\ipykernel_9148\\3033521014.py:13: FutureWarning: The frame.append method is deprecated and will be removed from pandas in a future version. Use pandas.concat instead.\n",
            "  scores_data = scores_data.append(temp_score_data)\n",
            "C:\\Users\\Kristina\\AppData\\Local\\Temp\\ipykernel_9148\\3033521014.py:13: FutureWarning: The frame.append method is deprecated and will be removed from pandas in a future version. Use pandas.concat instead.\n",
            "  scores_data = scores_data.append(temp_score_data)\n",
            "C:\\Users\\Kristina\\AppData\\Local\\Temp\\ipykernel_9148\\3033521014.py:13: FutureWarning: The frame.append method is deprecated and will be removed from pandas in a future version. Use pandas.concat instead.\n",
            "  scores_data = scores_data.append(temp_score_data)\n",
            "C:\\Users\\Kristina\\AppData\\Local\\Temp\\ipykernel_9148\\3033521014.py:13: FutureWarning: The frame.append method is deprecated and will be removed from pandas in a future version. Use pandas.concat instead.\n",
            "  scores_data = scores_data.append(temp_score_data)\n"
          ]
        },
        {
          "name": "stderr",
          "output_type": "stream",
          "text": [
            "C:\\Users\\Kristina\\AppData\\Local\\Temp\\ipykernel_9148\\3033521014.py:13: FutureWarning: The frame.append method is deprecated and will be removed from pandas in a future version. Use pandas.concat instead.\n",
            "  scores_data = scores_data.append(temp_score_data)\n",
            "C:\\Users\\Kristina\\AppData\\Local\\Temp\\ipykernel_9148\\3033521014.py:13: FutureWarning: The frame.append method is deprecated and will be removed from pandas in a future version. Use pandas.concat instead.\n",
            "  scores_data = scores_data.append(temp_score_data)\n",
            "C:\\Users\\Kristina\\AppData\\Local\\Temp\\ipykernel_9148\\3033521014.py:13: FutureWarning: The frame.append method is deprecated and will be removed from pandas in a future version. Use pandas.concat instead.\n",
            "  scores_data = scores_data.append(temp_score_data)\n",
            "C:\\Users\\Kristina\\AppData\\Local\\Temp\\ipykernel_9148\\3033521014.py:13: FutureWarning: The frame.append method is deprecated and will be removed from pandas in a future version. Use pandas.concat instead.\n",
            "  scores_data = scores_data.append(temp_score_data)\n",
            "C:\\Users\\Kristina\\AppData\\Local\\Temp\\ipykernel_9148\\3033521014.py:13: FutureWarning: The frame.append method is deprecated and will be removed from pandas in a future version. Use pandas.concat instead.\n",
            "  scores_data = scores_data.append(temp_score_data)\n",
            "C:\\Users\\Kristina\\AppData\\Local\\Temp\\ipykernel_9148\\3033521014.py:13: FutureWarning: The frame.append method is deprecated and will be removed from pandas in a future version. Use pandas.concat instead.\n",
            "  scores_data = scores_data.append(temp_score_data)\n",
            "C:\\Users\\Kristina\\AppData\\Local\\Temp\\ipykernel_9148\\3033521014.py:13: FutureWarning: The frame.append method is deprecated and will be removed from pandas in a future version. Use pandas.concat instead.\n",
            "  scores_data = scores_data.append(temp_score_data)\n",
            "C:\\Users\\Kristina\\AppData\\Local\\Temp\\ipykernel_9148\\3033521014.py:13: FutureWarning: The frame.append method is deprecated and will be removed from pandas in a future version. Use pandas.concat instead.\n",
            "  scores_data = scores_data.append(temp_score_data)\n",
            "C:\\Users\\Kristina\\AppData\\Local\\Temp\\ipykernel_9148\\3033521014.py:13: FutureWarning: The frame.append method is deprecated and will be removed from pandas in a future version. Use pandas.concat instead.\n",
            "  scores_data = scores_data.append(temp_score_data)\n",
            "C:\\Users\\Kristina\\AppData\\Local\\Temp\\ipykernel_9148\\3033521014.py:13: FutureWarning: The frame.append method is deprecated and will be removed from pandas in a future version. Use pandas.concat instead.\n",
            "  scores_data = scores_data.append(temp_score_data)\n",
            "C:\\Users\\Kristina\\AppData\\Local\\Temp\\ipykernel_9148\\3033521014.py:13: FutureWarning: The frame.append method is deprecated and will be removed from pandas in a future version. Use pandas.concat instead.\n",
            "  scores_data = scores_data.append(temp_score_data)\n",
            "C:\\Users\\Kristina\\AppData\\Local\\Temp\\ipykernel_9148\\3033521014.py:13: FutureWarning: The frame.append method is deprecated and will be removed from pandas in a future version. Use pandas.concat instead.\n",
            "  scores_data = scores_data.append(temp_score_data)\n",
            "C:\\Users\\Kristina\\AppData\\Local\\Temp\\ipykernel_9148\\3033521014.py:13: FutureWarning: The frame.append method is deprecated and will be removed from pandas in a future version. Use pandas.concat instead.\n",
            "  scores_data = scores_data.append(temp_score_data)\n",
            "C:\\Users\\Kristina\\AppData\\Local\\Temp\\ipykernel_9148\\3033521014.py:13: FutureWarning: The frame.append method is deprecated and will be removed from pandas in a future version. Use pandas.concat instead.\n",
            "  scores_data = scores_data.append(temp_score_data)\n",
            "C:\\Users\\Kristina\\AppData\\Local\\Temp\\ipykernel_9148\\3033521014.py:13: FutureWarning: The frame.append method is deprecated and will be removed from pandas in a future version. Use pandas.concat instead.\n",
            "  scores_data = scores_data.append(temp_score_data)\n",
            "C:\\Users\\Kristina\\AppData\\Local\\Temp\\ipykernel_9148\\3033521014.py:13: FutureWarning: The frame.append method is deprecated and will be removed from pandas in a future version. Use pandas.concat instead.\n",
            "  scores_data = scores_data.append(temp_score_data)\n",
            "C:\\Users\\Kristina\\AppData\\Local\\Temp\\ipykernel_9148\\3033521014.py:13: FutureWarning: The frame.append method is deprecated and will be removed from pandas in a future version. Use pandas.concat instead.\n",
            "  scores_data = scores_data.append(temp_score_data)\n",
            "C:\\Users\\Kristina\\AppData\\Local\\Temp\\ipykernel_9148\\3033521014.py:13: FutureWarning: The frame.append method is deprecated and will be removed from pandas in a future version. Use pandas.concat instead.\n",
            "  scores_data = scores_data.append(temp_score_data)\n",
            "C:\\Users\\Kristina\\AppData\\Local\\Temp\\ipykernel_9148\\3033521014.py:13: FutureWarning: The frame.append method is deprecated and will be removed from pandas in a future version. Use pandas.concat instead.\n",
            "  scores_data = scores_data.append(temp_score_data)\n",
            "C:\\Users\\Kristina\\AppData\\Local\\Temp\\ipykernel_9148\\3033521014.py:13: FutureWarning: The frame.append method is deprecated and will be removed from pandas in a future version. Use pandas.concat instead.\n",
            "  scores_data = scores_data.append(temp_score_data)\n",
            "C:\\Users\\Kristina\\AppData\\Local\\Temp\\ipykernel_9148\\3033521014.py:13: FutureWarning: The frame.append method is deprecated and will be removed from pandas in a future version. Use pandas.concat instead.\n",
            "  scores_data = scores_data.append(temp_score_data)\n",
            "C:\\Users\\Kristina\\AppData\\Local\\Temp\\ipykernel_9148\\3033521014.py:13: FutureWarning: The frame.append method is deprecated and will be removed from pandas in a future version. Use pandas.concat instead.\n",
            "  scores_data = scores_data.append(temp_score_data)\n",
            "C:\\Users\\Kristina\\AppData\\Local\\Temp\\ipykernel_9148\\3033521014.py:13: FutureWarning: The frame.append method is deprecated and will be removed from pandas in a future version. Use pandas.concat instead.\n",
            "  scores_data = scores_data.append(temp_score_data)\n",
            "C:\\Users\\Kristina\\AppData\\Local\\Temp\\ipykernel_9148\\3033521014.py:13: FutureWarning: The frame.append method is deprecated and will be removed from pandas in a future version. Use pandas.concat instead.\n",
            "  scores_data = scores_data.append(temp_score_data)\n",
            "C:\\Users\\Kristina\\AppData\\Local\\Temp\\ipykernel_9148\\3033521014.py:13: FutureWarning: The frame.append method is deprecated and will be removed from pandas in a future version. Use pandas.concat instead.\n",
            "  scores_data = scores_data.append(temp_score_data)\n",
            "C:\\Users\\Kristina\\AppData\\Local\\Temp\\ipykernel_9148\\3033521014.py:13: FutureWarning: The frame.append method is deprecated and will be removed from pandas in a future version. Use pandas.concat instead.\n",
            "  scores_data = scores_data.append(temp_score_data)\n",
            "C:\\Users\\Kristina\\AppData\\Local\\Temp\\ipykernel_9148\\3033521014.py:13: FutureWarning: The frame.append method is deprecated and will be removed from pandas in a future version. Use pandas.concat instead.\n",
            "  scores_data = scores_data.append(temp_score_data)\n",
            "C:\\Users\\Kristina\\AppData\\Local\\Temp\\ipykernel_9148\\3033521014.py:13: FutureWarning: The frame.append method is deprecated and will be removed from pandas in a future version. Use pandas.concat instead.\n",
            "  scores_data = scores_data.append(temp_score_data)\n",
            "C:\\Users\\Kristina\\AppData\\Local\\Temp\\ipykernel_9148\\3033521014.py:13: FutureWarning: The frame.append method is deprecated and will be removed from pandas in a future version. Use pandas.concat instead.\n",
            "  scores_data = scores_data.append(temp_score_data)\n",
            "C:\\Users\\Kristina\\AppData\\Local\\Temp\\ipykernel_9148\\3033521014.py:13: FutureWarning: The frame.append method is deprecated and will be removed from pandas in a future version. Use pandas.concat instead.\n",
            "  scores_data = scores_data.append(temp_score_data)\n",
            "C:\\Users\\Kristina\\AppData\\Local\\Temp\\ipykernel_9148\\3033521014.py:13: FutureWarning: The frame.append method is deprecated and will be removed from pandas in a future version. Use pandas.concat instead.\n",
            "  scores_data = scores_data.append(temp_score_data)\n",
            "C:\\Users\\Kristina\\AppData\\Local\\Temp\\ipykernel_9148\\3033521014.py:13: FutureWarning: The frame.append method is deprecated and will be removed from pandas in a future version. Use pandas.concat instead.\n",
            "  scores_data = scores_data.append(temp_score_data)\n",
            "C:\\Users\\Kristina\\AppData\\Local\\Temp\\ipykernel_9148\\3033521014.py:13: FutureWarning: The frame.append method is deprecated and will be removed from pandas in a future version. Use pandas.concat instead.\n",
            "  scores_data = scores_data.append(temp_score_data)\n",
            "C:\\Users\\Kristina\\AppData\\Local\\Temp\\ipykernel_9148\\3033521014.py:13: FutureWarning: The frame.append method is deprecated and will be removed from pandas in a future version. Use pandas.concat instead.\n",
            "  scores_data = scores_data.append(temp_score_data)\n",
            "C:\\Users\\Kristina\\AppData\\Local\\Temp\\ipykernel_9148\\3033521014.py:13: FutureWarning: The frame.append method is deprecated and will be removed from pandas in a future version. Use pandas.concat instead.\n",
            "  scores_data = scores_data.append(temp_score_data)\n",
            "C:\\Users\\Kristina\\AppData\\Local\\Temp\\ipykernel_9148\\3033521014.py:13: FutureWarning: The frame.append method is deprecated and will be removed from pandas in a future version. Use pandas.concat instead.\n",
            "  scores_data = scores_data.append(temp_score_data)\n",
            "C:\\Users\\Kristina\\AppData\\Local\\Temp\\ipykernel_9148\\3033521014.py:13: FutureWarning: The frame.append method is deprecated and will be removed from pandas in a future version. Use pandas.concat instead.\n",
            "  scores_data = scores_data.append(temp_score_data)\n",
            "C:\\Users\\Kristina\\AppData\\Local\\Temp\\ipykernel_9148\\3033521014.py:13: FutureWarning: The frame.append method is deprecated and will be removed from pandas in a future version. Use pandas.concat instead.\n",
            "  scores_data = scores_data.append(temp_score_data)\n",
            "C:\\Users\\Kristina\\AppData\\Local\\Temp\\ipykernel_9148\\3033521014.py:13: FutureWarning: The frame.append method is deprecated and will be removed from pandas in a future version. Use pandas.concat instead.\n",
            "  scores_data = scores_data.append(temp_score_data)\n",
            "C:\\Users\\Kristina\\AppData\\Local\\Temp\\ipykernel_9148\\3033521014.py:13: FutureWarning: The frame.append method is deprecated and will be removed from pandas in a future version. Use pandas.concat instead.\n",
            "  scores_data = scores_data.append(temp_score_data)\n",
            "C:\\Users\\Kristina\\AppData\\Local\\Temp\\ipykernel_9148\\3033521014.py:13: FutureWarning: The frame.append method is deprecated and will be removed from pandas in a future version. Use pandas.concat instead.\n",
            "  scores_data = scores_data.append(temp_score_data)\n",
            "C:\\Users\\Kristina\\AppData\\Local\\Temp\\ipykernel_9148\\3033521014.py:13: FutureWarning: The frame.append method is deprecated and will be removed from pandas in a future version. Use pandas.concat instead.\n",
            "  scores_data = scores_data.append(temp_score_data)\n"
          ]
        },
        {
          "name": "stderr",
          "output_type": "stream",
          "text": [
            "C:\\Users\\Kristina\\AppData\\Local\\Temp\\ipykernel_9148\\3033521014.py:13: FutureWarning: The frame.append method is deprecated and will be removed from pandas in a future version. Use pandas.concat instead.\n",
            "  scores_data = scores_data.append(temp_score_data)\n",
            "C:\\Users\\Kristina\\AppData\\Local\\Temp\\ipykernel_9148\\3033521014.py:13: FutureWarning: The frame.append method is deprecated and will be removed from pandas in a future version. Use pandas.concat instead.\n",
            "  scores_data = scores_data.append(temp_score_data)\n",
            "C:\\Users\\Kristina\\AppData\\Local\\Temp\\ipykernel_9148\\3033521014.py:13: FutureWarning: The frame.append method is deprecated and will be removed from pandas in a future version. Use pandas.concat instead.\n",
            "  scores_data = scores_data.append(temp_score_data)\n",
            "C:\\Users\\Kristina\\AppData\\Local\\Temp\\ipykernel_9148\\3033521014.py:13: FutureWarning: The frame.append method is deprecated and will be removed from pandas in a future version. Use pandas.concat instead.\n",
            "  scores_data = scores_data.append(temp_score_data)\n",
            "C:\\Users\\Kristina\\AppData\\Local\\Temp\\ipykernel_9148\\3033521014.py:13: FutureWarning: The frame.append method is deprecated and will be removed from pandas in a future version. Use pandas.concat instead.\n",
            "  scores_data = scores_data.append(temp_score_data)\n",
            "C:\\Users\\Kristina\\AppData\\Local\\Temp\\ipykernel_9148\\3033521014.py:13: FutureWarning: The frame.append method is deprecated and will be removed from pandas in a future version. Use pandas.concat instead.\n",
            "  scores_data = scores_data.append(temp_score_data)\n",
            "C:\\Users\\Kristina\\AppData\\Local\\Temp\\ipykernel_9148\\3033521014.py:13: FutureWarning: The frame.append method is deprecated and will be removed from pandas in a future version. Use pandas.concat instead.\n",
            "  scores_data = scores_data.append(temp_score_data)\n",
            "C:\\Users\\Kristina\\AppData\\Local\\Temp\\ipykernel_9148\\3033521014.py:13: FutureWarning: The frame.append method is deprecated and will be removed from pandas in a future version. Use pandas.concat instead.\n",
            "  scores_data = scores_data.append(temp_score_data)\n",
            "C:\\Users\\Kristina\\AppData\\Local\\Temp\\ipykernel_9148\\3033521014.py:13: FutureWarning: The frame.append method is deprecated and will be removed from pandas in a future version. Use pandas.concat instead.\n",
            "  scores_data = scores_data.append(temp_score_data)\n",
            "C:\\Users\\Kristina\\AppData\\Local\\Temp\\ipykernel_9148\\3033521014.py:13: FutureWarning: The frame.append method is deprecated and will be removed from pandas in a future version. Use pandas.concat instead.\n",
            "  scores_data = scores_data.append(temp_score_data)\n",
            "C:\\Users\\Kristina\\AppData\\Local\\Temp\\ipykernel_9148\\3033521014.py:13: FutureWarning: The frame.append method is deprecated and will be removed from pandas in a future version. Use pandas.concat instead.\n",
            "  scores_data = scores_data.append(temp_score_data)\n",
            "C:\\Users\\Kristina\\AppData\\Local\\Temp\\ipykernel_9148\\3033521014.py:13: FutureWarning: The frame.append method is deprecated and will be removed from pandas in a future version. Use pandas.concat instead.\n",
            "  scores_data = scores_data.append(temp_score_data)\n",
            "C:\\Users\\Kristina\\AppData\\Local\\Temp\\ipykernel_9148\\3033521014.py:13: FutureWarning: The frame.append method is deprecated and will be removed from pandas in a future version. Use pandas.concat instead.\n",
            "  scores_data = scores_data.append(temp_score_data)\n",
            "C:\\Users\\Kristina\\AppData\\Local\\Temp\\ipykernel_9148\\3033521014.py:13: FutureWarning: The frame.append method is deprecated and will be removed from pandas in a future version. Use pandas.concat instead.\n",
            "  scores_data = scores_data.append(temp_score_data)\n",
            "C:\\Users\\Kristina\\AppData\\Local\\Temp\\ipykernel_9148\\3033521014.py:13: FutureWarning: The frame.append method is deprecated and will be removed from pandas in a future version. Use pandas.concat instead.\n",
            "  scores_data = scores_data.append(temp_score_data)\n",
            "C:\\Users\\Kristina\\AppData\\Local\\Temp\\ipykernel_9148\\3033521014.py:13: FutureWarning: The frame.append method is deprecated and will be removed from pandas in a future version. Use pandas.concat instead.\n",
            "  scores_data = scores_data.append(temp_score_data)\n"
          ]
        }
      ],
      "source": [
        "for max_depth in max_depth_values:\n",
        "    clf = tree.DecisionTreeClassifier(criterion='entropy', max_depth=max_depth)\n",
        "    clf.fit(X_train, y_train)\n",
        "    train_score = clf.score(X_train, y_train)\n",
        "    test_score = clf.score(X_test,y_test)\n",
        "\n",
        "    mean_cross_val_score = cross_val_score(clf,X_train, y_train, cv=5).mean()\n",
        "    #записываем среднее значение и при кросс валидации\n",
        "    temp_score_data = pd.DataFrame({'max_depth': [max_depth],\n",
        "                                    'train_score': [train_score],\n",
        "                                    'test_score': [test_score],\n",
        "                                    'cross_val_score': [mean_cross_val_score]})\n",
        "    scores_data = scores_data.append(temp_score_data)\n",
        "# Прогоняем углубление дерева решения и для каждого варианта записываем дф"
      ]
    },
    {
      "cell_type": "code",
      "execution_count": null,
      "id": "55795010",
      "metadata": {
        "id": "55795010"
      },
      "outputs": [],
      "source": [
        "scores_data_long = pd.melt(scores_data, id_vars=['max_depth'], value_vars=['train_score', 'test_score', 'cross_val_score'],\n",
        "                          var_name='set_type', value_name='score')\n",
        "#преобразовываем в нужный формат данные"
      ]
    },
    {
      "cell_type": "code",
      "execution_count": null,
      "id": "2bb46ff8",
      "metadata": {
        "id": "2bb46ff8",
        "outputId": "e1142afb-384b-4ab3-fbe1-85a7c0b8b8e2"
      },
      "outputs": [
        {
          "data": {
            "text/plain": [
              "<AxesSubplot:xlabel='max_depth', ylabel='score'>"
            ]
          },
          "execution_count": 39,
          "metadata": {},
          "output_type": "execute_result"
        },
        {
          "data": {
            "image/png": "[encoded data removed]",
            "text/plain": [
              "<Figure size 432x288 with 1 Axes>"
            ]
          },
          "metadata": {
            "needs_background": "light"
          },
          "output_type": "display_data"
        }
      ],
      "source": [
        "sns.lineplot(x = 'max_depth',y  = 'score', hue='set_type', data = scores_data_long)"
      ]
    },
    {
      "cell_type": "code",
      "execution_count": null,
      "id": "76884b41",
      "metadata": {
        "id": "76884b41",
        "outputId": "d51aa4b6-11f2-4830-8e7a-9086a9fae11a"
      },
      "outputs": [
        {
          "data": {
            "text/plain": [
              "[Text(0.5, 0.75, 'X[0] <= 14.5\\nentropy = 1.0\\nsamples = 670\\nvalue = [335, 335]'),\n",
              " Text(0.25, 0.25, 'entropy = 0.0\\nsamples = 335\\nvalue = [335, 0]'),\n",
              " Text(0.75, 0.25, 'entropy = 0.0\\nsamples = 335\\nvalue = [0, 335]')]"
            ]
          },
          "execution_count": 40,
          "metadata": {},
          "output_type": "execute_result"
        },
        {
          "data": {
            "image/png": "[encoded data removed]",
            "text/plain": [
              "<Figure size 432x288 with 1 Axes>"
            ]
          },
          "metadata": {
            "needs_background": "light"
          },
          "output_type": "display_data"
        }
      ],
      "source": [
        "tree.plot_tree(clf.fit(X_train, y_train))"
      ]
    },
    {
      "cell_type": "code",
      "execution_count": null,
      "id": "83eac14a",
      "metadata": {
        "id": "83eac14a",
        "outputId": "e335e18f-20cb-4f38-a9aa-1c7936d62c57"
      },
      "outputs": [
        {
          "data": {
            "text/plain": [
              "[Text(0.5, 0.75, 'X[0] <= 14.5\\nentropy = 1.0\\nsamples = 330\\nvalue = [165, 165]'),\n",
              " Text(0.25, 0.25, 'entropy = 0.0\\nsamples = 165\\nvalue = [165, 0]'),\n",
              " Text(0.75, 0.25, 'entropy = 0.0\\nsamples = 165\\nvalue = [0, 165]')]"
            ]
          },
          "execution_count": 41,
          "metadata": {},
          "output_type": "execute_result"
        },
        {
          "data": {
            "image/png": "[encoded data removed]",
            "text/plain": [
              "<Figure size 432x288 with 1 Axes>"
            ]
          },
          "metadata": {
            "needs_background": "light"
          },
          "output_type": "display_data"
        }
      ],
      "source": [
        "tree.plot_tree(clf.fit(X_test, y_test))"
      ]
    },
    {
      "cell_type": "code",
      "execution_count": null,
      "id": "ec6bbb52",
      "metadata": {
        "id": "ec6bbb52",
        "outputId": "c467536f-014b-4bc1-b0ca-961563269633"
      },
      "outputs": [
        {
          "data": {
            "text/plain": [
              "count    1000.00000\n",
              "mean       16.96800\n",
              "std         8.88977\n",
              "min         5.00000\n",
              "25%         9.00000\n",
              "50%        14.50000\n",
              "75%        25.00000\n",
              "max        34.00000\n",
              "Name: Длина, dtype: float64"
            ]
          },
          "execution_count": 42,
          "metadata": {},
          "output_type": "execute_result"
        }
      ],
      "source": [
        "df_train['Длина'].describe()"
      ]
    },
    {
      "cell_type": "code",
      "execution_count": null,
      "id": "c51e9ed5",
      "metadata": {
        "id": "c51e9ed5"
      },
      "outputs": [],
      "source": [
        "df_predict = pd.read_json('dataset_209691_15.txt')"
      ]
    },
    {
      "cell_type": "code",
      "execution_count": null,
      "id": "5ee1ddef",
      "metadata": {
        "id": "5ee1ddef",
        "outputId": "1578b1af-9c28-4f91-958d-8a8740d1c8bb"
      },
      "outputs": [
        {
          "data": {
            "text/html": [
              "<div>\n",
              "<style scoped>\n",
              "    .dataframe tbody tr th:only-of-type {\n",
              "        vertical-align: middle;\n",
              "    }\n",
              "\n",
              "    .dataframe tbody tr th {\n",
              "        vertical-align: top;\n",
              "    }\n",
              "\n",
              "    .dataframe thead th {\n",
              "        text-align: right;\n",
              "    }\n",
              "</style>\n",
              "<table border=\"1\" class=\"dataframe\">\n",
              "  <thead>\n",
              "    <tr style=\"text-align: right;\">\n",
              "      <th></th>\n",
              "      <th>Длина</th>\n",
              "      <th>Высота</th>\n",
              "      <th>Шерстист</th>\n",
              "      <th>Гавкает</th>\n",
              "      <th>Лазает по деревьям</th>\n",
              "    </tr>\n",
              "  </thead>\n",
              "  <tbody>\n",
              "    <tr>\n",
              "      <th>0</th>\n",
              "      <td>24</td>\n",
              "      <td>28.8</td>\n",
              "      <td>1</td>\n",
              "      <td>1</td>\n",
              "      <td>0</td>\n",
              "    </tr>\n",
              "    <tr>\n",
              "      <th>1</th>\n",
              "      <td>29</td>\n",
              "      <td>34.8</td>\n",
              "      <td>1</td>\n",
              "      <td>1</td>\n",
              "      <td>0</td>\n",
              "    </tr>\n",
              "    <tr>\n",
              "      <th>2</th>\n",
              "      <td>34</td>\n",
              "      <td>40.8</td>\n",
              "      <td>1</td>\n",
              "      <td>1</td>\n",
              "      <td>0</td>\n",
              "    </tr>\n",
              "    <tr>\n",
              "      <th>3</th>\n",
              "      <td>20</td>\n",
              "      <td>24.0</td>\n",
              "      <td>1</td>\n",
              "      <td>1</td>\n",
              "      <td>0</td>\n",
              "    </tr>\n",
              "    <tr>\n",
              "      <th>4</th>\n",
              "      <td>31</td>\n",
              "      <td>37.2</td>\n",
              "      <td>1</td>\n",
              "      <td>1</td>\n",
              "      <td>0</td>\n",
              "    </tr>\n",
              "  </tbody>\n",
              "</table>\n",
              "</div>"
            ],
            "text/plain": [
              "   Длина  Высота  Шерстист  Гавкает  Лазает по деревьям\n",
              "0     24    28.8         1        1                   0\n",
              "1     29    34.8         1        1                   0\n",
              "2     34    40.8         1        1                   0\n",
              "3     20    24.0         1        1                   0\n",
              "4     31    37.2         1        1                   0"
            ]
          },
          "execution_count": 46,
          "metadata": {},
          "output_type": "execute_result"
        }
      ],
      "source": [
        "df_predict.head()"
      ]
    },
    {
      "cell_type": "code",
      "execution_count": null,
      "id": "0a4f58ac",
      "metadata": {
        "id": "0a4f58ac",
        "outputId": "6aa26c9a-25a6-418b-f9bb-e3e11db63a3c"
      },
      "outputs": [
        {
          "data": {
            "text/plain": [
              "array(['собачка', 'собачка', 'собачка', 'собачка', 'собачка', 'собачка',\n",
              "       'собачка', 'собачка', 'собачка', 'собачка', 'собачка', 'собачка',\n",
              "       'собачка', 'собачка', 'собачка', 'собачка', 'собачка', 'собачка',\n",
              "       'собачка', 'собачка', 'собачка', 'собачка', 'собачка', 'собачка',\n",
              "       'собачка', 'собачка', 'собачка', 'собачка', 'собачка', 'собачка',\n",
              "       'собачка', 'собачка', 'собачка', 'собачка', 'собачка', 'собачка',\n",
              "       'собачка', 'собачка', 'собачка', 'собачка', 'собачка', 'собачка',\n",
              "       'собачка', 'собачка', 'собачка', 'собачка', 'котик', 'котик',\n",
              "       'котик', 'котик', 'котик', 'котик', 'котик', 'котик', 'котик',\n",
              "       'котик', 'котик', 'котик', 'котик', 'котик', 'котик', 'котик',\n",
              "       'котик', 'котик', 'котик', 'котик', 'котик', 'котик', 'котик',\n",
              "       'котик', 'котик', 'котик', 'котик', 'котик', 'котик', 'котик',\n",
              "       'котик', 'котик', 'котик', 'котик', 'котик', 'котик', 'котик',\n",
              "       'котик', 'котик', 'котик', 'котик', 'котик', 'котик', 'котик',\n",
              "       'котик', 'котик', 'котик', 'котик', 'котик', 'котик', 'котик',\n",
              "       'котик', 'котик', 'котик'], dtype=object)"
            ]
          },
          "execution_count": 47,
          "metadata": {},
          "output_type": "execute_result"
        }
      ],
      "source": [
        "clf.predict(df_predict)"
      ]
    },
    {
      "cell_type": "code",
      "execution_count": null,
      "id": "a3470ab7",
      "metadata": {
        "id": "a3470ab7"
      },
      "outputs": [],
      "source": [
        "result= clf.predict(df_predict)"
      ]
    },
    {
      "cell_type": "code",
      "execution_count": null,
      "id": "e57eb470",
      "metadata": {
        "id": "e57eb470",
        "outputId": "be5e5e60-7d68-4e8a-e2db-e7b6a8e51138"
      },
      "outputs": [
        {
          "data": {
            "text/plain": [
              "46"
            ]
          },
          "execution_count": 50,
          "metadata": {},
          "output_type": "execute_result"
        }
      ],
      "source": [
        "pd.Series(result)[result == 'собачка'].count()"
      ]
    },
    {
      "cell_type": "code",
      "execution_count": null,
      "id": "e5d20ba1",
      "metadata": {
        "id": "e5d20ba1"
      },
      "outputs": [],
      "source": []
    }
  ],
  "metadata": {
    "kernelspec": {
      "display_name": "Python 3 (ipykernel)",
      "language": "python",
      "name": "python3"
    },
    "language_info": {
      "codemirror_mode": {
        "name": "ipython",
        "version": 3
      },
      "file_extension": ".py",
      "mimetype": "text/x-python",
      "name": "python",
      "nbconvert_exporter": "python",
      "pygments_lexer": "ipython3",
      "version": "3.10.5"
    },
    "colab": {
      "provenance": [],
      "include_colab_link": true
    }
  },
  "nbformat": 4,
  "nbformat_minor": 5
}

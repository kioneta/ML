{
  "cells": [
    {
      "cell_type": "markdown",
      "metadata": {
        "id": "view-in-github",
        "colab_type": "text"
      },
      "source": [
        "<a href=\"https://colab.research.google.com/github/kioneta/ML_first_steps/blob/main/Iris.ipynb\" target=\"_parent\"><img src=\"https://colab.research.google.com/assets/colab-badge.svg\" alt=\"Open In Colab\"/></a>"
      ]
    },
    {
      "cell_type": "code",
      "execution_count": null,
      "id": "59cb94b5",
      "metadata": {
        "id": "59cb94b5"
      },
      "outputs": [],
      "source": [
        "from sklearn import tree\n",
        "import pandas as pd\n",
        "import matplotlib.pyplot as plt\n",
        "import seaborn as sns\n",
        "%matplotlib inline"
      ]
    },
    {
      "cell_type": "code",
      "execution_count": null,
      "id": "7767a41e",
      "metadata": {
        "id": "7767a41e"
      },
      "outputs": [],
      "source": [
        "import numpy as np"
      ]
    },
    {
      "cell_type": "code",
      "execution_count": null,
      "id": "cbe48884",
      "metadata": {
        "id": "cbe48884"
      },
      "outputs": [],
      "source": [
        "from sklearn.model_selection import train_test_split"
      ]
    },
    {
      "cell_type": "code",
      "execution_count": null,
      "id": "491e3b4e",
      "metadata": {
        "id": "491e3b4e"
      },
      "outputs": [],
      "source": [
        "from IPython.display import SVG\n",
        "from graphviz import Source\n",
        "from IPython.display import display\n",
        "from sklearn.model_selection import cross_val_score"
      ]
    },
    {
      "cell_type": "code",
      "execution_count": null,
      "id": "1726d393",
      "metadata": {
        "id": "1726d393",
        "outputId": "ae137d75-c764-4c06-bbb8-ff8c448a6daf"
      },
      "outputs": [
        {
          "data": {
            "text/html": [
              "<style>svg{width: 30 !important; height: 60 !important;} </style>"
            ],
            "text/plain": [
              "<IPython.core.display.HTML object>"
            ]
          },
          "execution_count": 38,
          "metadata": {},
          "output_type": "execute_result"
        }
      ],
      "source": [
        "from IPython.display import HTML\n",
        "style = \"<style>svg{width: 30% !important; height: 60% !important;} </style>\"\n",
        "HTML(style)"
      ]
    },
    {
      "cell_type": "code",
      "execution_count": null,
      "id": "d810c4a6",
      "metadata": {
        "id": "d810c4a6"
      },
      "outputs": [],
      "source": [
        "df_train = pd.read_csv('https://stepik.org/media/attachments/course/4852/train_iris.csv', index_col=0)"
      ]
    },
    {
      "cell_type": "code",
      "execution_count": null,
      "id": "cc92fa7a",
      "metadata": {
        "id": "cc92fa7a"
      },
      "outputs": [],
      "source": [
        "df_test = pd.read_csv('https://stepik.org/media/attachments/course/4852/test_iris.csv', index_col=0)"
      ]
    },
    {
      "cell_type": "code",
      "execution_count": null,
      "id": "4414463e",
      "metadata": {
        "id": "4414463e",
        "outputId": "c459929a-0a90-4189-ad8e-d7e5a736e40e"
      },
      "outputs": [
        {
          "data": {
            "text/html": [
              "<div>\n",
              "<style scoped>\n",
              "    .dataframe tbody tr th:only-of-type {\n",
              "        vertical-align: middle;\n",
              "    }\n",
              "\n",
              "    .dataframe tbody tr th {\n",
              "        vertical-align: top;\n",
              "    }\n",
              "\n",
              "    .dataframe thead th {\n",
              "        text-align: right;\n",
              "    }\n",
              "</style>\n",
              "<table border=\"1\" class=\"dataframe\">\n",
              "  <thead>\n",
              "    <tr style=\"text-align: right;\">\n",
              "      <th></th>\n",
              "      <th>sepal length</th>\n",
              "      <th>sepal width</th>\n",
              "      <th>petal length</th>\n",
              "      <th>petal width</th>\n",
              "      <th>species</th>\n",
              "    </tr>\n",
              "  </thead>\n",
              "  <tbody>\n",
              "    <tr>\n",
              "      <th>130</th>\n",
              "      <td>7.4</td>\n",
              "      <td>2.8</td>\n",
              "      <td>6.1</td>\n",
              "      <td>1.9</td>\n",
              "      <td>2</td>\n",
              "    </tr>\n",
              "    <tr>\n",
              "      <th>7</th>\n",
              "      <td>5.0</td>\n",
              "      <td>3.4</td>\n",
              "      <td>1.5</td>\n",
              "      <td>0.2</td>\n",
              "      <td>0</td>\n",
              "    </tr>\n",
              "    <tr>\n",
              "      <th>11</th>\n",
              "      <td>4.8</td>\n",
              "      <td>3.4</td>\n",
              "      <td>1.6</td>\n",
              "      <td>0.2</td>\n",
              "      <td>0</td>\n",
              "    </tr>\n",
              "    <tr>\n",
              "      <th>142</th>\n",
              "      <td>5.8</td>\n",
              "      <td>2.7</td>\n",
              "      <td>5.1</td>\n",
              "      <td>1.9</td>\n",
              "      <td>2</td>\n",
              "    </tr>\n",
              "    <tr>\n",
              "      <th>109</th>\n",
              "      <td>7.2</td>\n",
              "      <td>3.6</td>\n",
              "      <td>6.1</td>\n",
              "      <td>2.5</td>\n",
              "      <td>2</td>\n",
              "    </tr>\n",
              "    <tr>\n",
              "      <th>42</th>\n",
              "      <td>4.4</td>\n",
              "      <td>3.2</td>\n",
              "      <td>1.3</td>\n",
              "      <td>0.2</td>\n",
              "      <td>0</td>\n",
              "    </tr>\n",
              "    <tr>\n",
              "      <th>82</th>\n",
              "      <td>5.8</td>\n",
              "      <td>2.7</td>\n",
              "      <td>3.9</td>\n",
              "      <td>1.2</td>\n",
              "      <td>1</td>\n",
              "    </tr>\n",
              "    <tr>\n",
              "      <th>120</th>\n",
              "      <td>6.9</td>\n",
              "      <td>3.2</td>\n",
              "      <td>5.7</td>\n",
              "      <td>2.3</td>\n",
              "      <td>2</td>\n",
              "    </tr>\n",
              "    <tr>\n",
              "      <th>127</th>\n",
              "      <td>6.1</td>\n",
              "      <td>3.0</td>\n",
              "      <td>4.9</td>\n",
              "      <td>1.8</td>\n",
              "      <td>2</td>\n",
              "    </tr>\n",
              "    <tr>\n",
              "      <th>98</th>\n",
              "      <td>5.1</td>\n",
              "      <td>2.5</td>\n",
              "      <td>3.0</td>\n",
              "      <td>1.1</td>\n",
              "      <td>1</td>\n",
              "    </tr>\n",
              "  </tbody>\n",
              "</table>\n",
              "</div>"
            ],
            "text/plain": [
              "     sepal length  sepal width  petal length  petal width  species\n",
              "130           7.4          2.8           6.1          1.9        2\n",
              "7             5.0          3.4           1.5          0.2        0\n",
              "11            4.8          3.4           1.6          0.2        0\n",
              "142           5.8          2.7           5.1          1.9        2\n",
              "109           7.2          3.6           6.1          2.5        2\n",
              "42            4.4          3.2           1.3          0.2        0\n",
              "82            5.8          2.7           3.9          1.2        1\n",
              "120           6.9          3.2           5.7          2.3        2\n",
              "127           6.1          3.0           4.9          1.8        2\n",
              "98            5.1          2.5           3.0          1.1        1"
            ]
          },
          "execution_count": 7,
          "metadata": {},
          "output_type": "execute_result"
        }
      ],
      "source": [
        "df_train.head(10)"
      ]
    },
    {
      "cell_type": "code",
      "execution_count": null,
      "id": "20c0e7dc",
      "metadata": {
        "id": "20c0e7dc",
        "outputId": "c643610b-0ac8-4059-e690-87d3c0aa4bf3"
      },
      "outputs": [
        {
          "data": {
            "text/plain": [
              "sepal length    0\n",
              "sepal width     0\n",
              "petal length    0\n",
              "petal width     0\n",
              "species         0\n",
              "dtype: int64"
            ]
          },
          "execution_count": 8,
          "metadata": {},
          "output_type": "execute_result"
        }
      ],
      "source": [
        "#смотрим где много пропущено значений\n",
        "df_train.isnull().sum()"
      ]
    },
    {
      "cell_type": "code",
      "execution_count": null,
      "id": "6227d532",
      "metadata": {
        "id": "6227d532"
      },
      "outputs": [],
      "source": [
        "X_train = df_train.iloc[:,:-1]"
      ]
    },
    {
      "cell_type": "code",
      "execution_count": null,
      "id": "0e17bd18",
      "metadata": {
        "id": "0e17bd18"
      },
      "outputs": [],
      "source": [
        "y_train = df_train.species"
      ]
    },
    {
      "cell_type": "code",
      "execution_count": null,
      "id": "8f7fd364",
      "metadata": {
        "id": "8f7fd364"
      },
      "outputs": [],
      "source": [
        "my_awesome_tree = tree.DecisionTreeClassifier(criterion='entropy')"
      ]
    },
    {
      "cell_type": "code",
      "execution_count": null,
      "id": "635148f5",
      "metadata": {
        "id": "635148f5"
      },
      "outputs": [],
      "source": [
        "X_test = df_test.iloc[:,:-1]"
      ]
    },
    {
      "cell_type": "code",
      "execution_count": null,
      "id": "3cd26fd7",
      "metadata": {
        "id": "3cd26fd7"
      },
      "outputs": [],
      "source": [
        "y_test = df_test.species"
      ]
    },
    {
      "cell_type": "code",
      "execution_count": null,
      "id": "5534a027",
      "metadata": {
        "id": "5534a027"
      },
      "outputs": [],
      "source": [
        "#X_train, X_test,y_train, y_test = train_test_split(X, y, test_size = 0.33, random_state=42)\n",
        "# Разбиваем выборку на тренировочную часть и тестовую"
      ]
    },
    {
      "cell_type": "code",
      "execution_count": null,
      "id": "6af14307",
      "metadata": {
        "id": "6af14307",
        "outputId": "22335dd7-9e4a-4b60-8699-b0dead7a9196"
      },
      "outputs": [
        {
          "data": {
            "text/plain": [
              "(100, 4)"
            ]
          },
          "execution_count": 49,
          "metadata": {},
          "output_type": "execute_result"
        }
      ],
      "source": [
        "X_train.shape"
      ]
    },
    {
      "cell_type": "code",
      "execution_count": null,
      "id": "b6cb0be6",
      "metadata": {
        "id": "b6cb0be6",
        "outputId": "728f08af-5173-4676-c243-1c3250efc63c"
      },
      "outputs": [
        {
          "data": {
            "text/plain": [
              "(50, 4)"
            ]
          },
          "execution_count": 50,
          "metadata": {},
          "output_type": "execute_result"
        }
      ],
      "source": [
        "X_test.shape"
      ]
    },
    {
      "cell_type": "code",
      "execution_count": null,
      "id": "77e9f9d4",
      "metadata": {
        "id": "77e9f9d4"
      },
      "outputs": [],
      "source": [
        "max_depth_values = range(1,100)"
      ]
    },
    {
      "cell_type": "code",
      "execution_count": null,
      "id": "b866b6a1",
      "metadata": {
        "id": "b866b6a1"
      },
      "outputs": [],
      "source": [
        "scores_data = pd.DataFrame()"
      ]
    },
    {
      "cell_type": "code",
      "execution_count": null,
      "id": "e87d6e8d",
      "metadata": {
        "id": "e87d6e8d",
        "outputId": "dab7ab7f-db0f-4f68-dfa9-00f17ad4f42a"
      },
      "outputs": [
        {
          "data": {
            "text/plain": [
              "0.9600000000000002"
            ]
          },
          "execution_count": 51,
          "metadata": {},
          "output_type": "execute_result"
        }
      ],
      "source": [
        "#Проводим кросс-валидацию. Разбиваем все точки на 5 групп и считаем их как тест и трейн\n",
        "cross_val_score(my_awesome_tree,X_train, y_train, cv=5).mean()"
      ]
    },
    {
      "cell_type": "code",
      "execution_count": null,
      "id": "ec370003",
      "metadata": {
        "id": "ec370003"
      },
      "outputs": [],
      "source": [
        "rs = np.random.seed(0)"
      ]
    },
    {
      "cell_type": "code",
      "execution_count": null,
      "id": "243a2aef",
      "metadata": {
        "collapsed": true,
        "id": "243a2aef",
        "outputId": "3452627d-9267-4dec-aadf-8efad6205daf"
      },
      "outputs": [
        {
          "name": "stderr",
          "output_type": "stream",
          "text": [
            "C:\\Users\\Kristina\\AppData\\Local\\Temp\\ipykernel_13788\\4223696134.py:13: FutureWarning: The frame.append method is deprecated and will be removed from pandas in a future version. Use pandas.concat instead.\n",
            "  scores_data = scores_data.append(temp_score_data)\n",
            "C:\\Users\\Kristina\\AppData\\Local\\Temp\\ipykernel_13788\\4223696134.py:13: FutureWarning: The frame.append method is deprecated and will be removed from pandas in a future version. Use pandas.concat instead.\n",
            "  scores_data = scores_data.append(temp_score_data)\n",
            "C:\\Users\\Kristina\\AppData\\Local\\Temp\\ipykernel_13788\\4223696134.py:13: FutureWarning: The frame.append method is deprecated and will be removed from pandas in a future version. Use pandas.concat instead.\n",
            "  scores_data = scores_data.append(temp_score_data)\n",
            "C:\\Users\\Kristina\\AppData\\Local\\Temp\\ipykernel_13788\\4223696134.py:13: FutureWarning: The frame.append method is deprecated and will be removed from pandas in a future version. Use pandas.concat instead.\n",
            "  scores_data = scores_data.append(temp_score_data)\n",
            "C:\\Users\\Kristina\\AppData\\Local\\Temp\\ipykernel_13788\\4223696134.py:13: FutureWarning: The frame.append method is deprecated and will be removed from pandas in a future version. Use pandas.concat instead.\n",
            "  scores_data = scores_data.append(temp_score_data)\n",
            "C:\\Users\\Kristina\\AppData\\Local\\Temp\\ipykernel_13788\\4223696134.py:13: FutureWarning: The frame.append method is deprecated and will be removed from pandas in a future version. Use pandas.concat instead.\n",
            "  scores_data = scores_data.append(temp_score_data)\n",
            "C:\\Users\\Kristina\\AppData\\Local\\Temp\\ipykernel_13788\\4223696134.py:13: FutureWarning: The frame.append method is deprecated and will be removed from pandas in a future version. Use pandas.concat instead.\n",
            "  scores_data = scores_data.append(temp_score_data)\n",
            "C:\\Users\\Kristina\\AppData\\Local\\Temp\\ipykernel_13788\\4223696134.py:13: FutureWarning: The frame.append method is deprecated and will be removed from pandas in a future version. Use pandas.concat instead.\n",
            "  scores_data = scores_data.append(temp_score_data)\n",
            "C:\\Users\\Kristina\\AppData\\Local\\Temp\\ipykernel_13788\\4223696134.py:13: FutureWarning: The frame.append method is deprecated and will be removed from pandas in a future version. Use pandas.concat instead.\n",
            "  scores_data = scores_data.append(temp_score_data)\n",
            "C:\\Users\\Kristina\\AppData\\Local\\Temp\\ipykernel_13788\\4223696134.py:13: FutureWarning: The frame.append method is deprecated and will be removed from pandas in a future version. Use pandas.concat instead.\n",
            "  scores_data = scores_data.append(temp_score_data)\n",
            "C:\\Users\\Kristina\\AppData\\Local\\Temp\\ipykernel_13788\\4223696134.py:13: FutureWarning: The frame.append method is deprecated and will be removed from pandas in a future version. Use pandas.concat instead.\n",
            "  scores_data = scores_data.append(temp_score_data)\n",
            "C:\\Users\\Kristina\\AppData\\Local\\Temp\\ipykernel_13788\\4223696134.py:13: FutureWarning: The frame.append method is deprecated and will be removed from pandas in a future version. Use pandas.concat instead.\n",
            "  scores_data = scores_data.append(temp_score_data)\n",
            "C:\\Users\\Kristina\\AppData\\Local\\Temp\\ipykernel_13788\\4223696134.py:13: FutureWarning: The frame.append method is deprecated and will be removed from pandas in a future version. Use pandas.concat instead.\n",
            "  scores_data = scores_data.append(temp_score_data)\n",
            "C:\\Users\\Kristina\\AppData\\Local\\Temp\\ipykernel_13788\\4223696134.py:13: FutureWarning: The frame.append method is deprecated and will be removed from pandas in a future version. Use pandas.concat instead.\n",
            "  scores_data = scores_data.append(temp_score_data)\n",
            "C:\\Users\\Kristina\\AppData\\Local\\Temp\\ipykernel_13788\\4223696134.py:13: FutureWarning: The frame.append method is deprecated and will be removed from pandas in a future version. Use pandas.concat instead.\n",
            "  scores_data = scores_data.append(temp_score_data)\n",
            "C:\\Users\\Kristina\\AppData\\Local\\Temp\\ipykernel_13788\\4223696134.py:13: FutureWarning: The frame.append method is deprecated and will be removed from pandas in a future version. Use pandas.concat instead.\n",
            "  scores_data = scores_data.append(temp_score_data)\n",
            "C:\\Users\\Kristina\\AppData\\Local\\Temp\\ipykernel_13788\\4223696134.py:13: FutureWarning: The frame.append method is deprecated and will be removed from pandas in a future version. Use pandas.concat instead.\n",
            "  scores_data = scores_data.append(temp_score_data)\n",
            "C:\\Users\\Kristina\\AppData\\Local\\Temp\\ipykernel_13788\\4223696134.py:13: FutureWarning: The frame.append method is deprecated and will be removed from pandas in a future version. Use pandas.concat instead.\n",
            "  scores_data = scores_data.append(temp_score_data)\n",
            "C:\\Users\\Kristina\\AppData\\Local\\Temp\\ipykernel_13788\\4223696134.py:13: FutureWarning: The frame.append method is deprecated and will be removed from pandas in a future version. Use pandas.concat instead.\n",
            "  scores_data = scores_data.append(temp_score_data)\n",
            "C:\\Users\\Kristina\\AppData\\Local\\Temp\\ipykernel_13788\\4223696134.py:13: FutureWarning: The frame.append method is deprecated and will be removed from pandas in a future version. Use pandas.concat instead.\n",
            "  scores_data = scores_data.append(temp_score_data)\n",
            "C:\\Users\\Kristina\\AppData\\Local\\Temp\\ipykernel_13788\\4223696134.py:13: FutureWarning: The frame.append method is deprecated and will be removed from pandas in a future version. Use pandas.concat instead.\n",
            "  scores_data = scores_data.append(temp_score_data)\n",
            "C:\\Users\\Kristina\\AppData\\Local\\Temp\\ipykernel_13788\\4223696134.py:13: FutureWarning: The frame.append method is deprecated and will be removed from pandas in a future version. Use pandas.concat instead.\n",
            "  scores_data = scores_data.append(temp_score_data)\n",
            "C:\\Users\\Kristina\\AppData\\Local\\Temp\\ipykernel_13788\\4223696134.py:13: FutureWarning: The frame.append method is deprecated and will be removed from pandas in a future version. Use pandas.concat instead.\n",
            "  scores_data = scores_data.append(temp_score_data)\n",
            "C:\\Users\\Kristina\\AppData\\Local\\Temp\\ipykernel_13788\\4223696134.py:13: FutureWarning: The frame.append method is deprecated and will be removed from pandas in a future version. Use pandas.concat instead.\n",
            "  scores_data = scores_data.append(temp_score_data)\n",
            "C:\\Users\\Kristina\\AppData\\Local\\Temp\\ipykernel_13788\\4223696134.py:13: FutureWarning: The frame.append method is deprecated and will be removed from pandas in a future version. Use pandas.concat instead.\n",
            "  scores_data = scores_data.append(temp_score_data)\n",
            "C:\\Users\\Kristina\\AppData\\Local\\Temp\\ipykernel_13788\\4223696134.py:13: FutureWarning: The frame.append method is deprecated and will be removed from pandas in a future version. Use pandas.concat instead.\n",
            "  scores_data = scores_data.append(temp_score_data)\n",
            "C:\\Users\\Kristina\\AppData\\Local\\Temp\\ipykernel_13788\\4223696134.py:13: FutureWarning: The frame.append method is deprecated and will be removed from pandas in a future version. Use pandas.concat instead.\n",
            "  scores_data = scores_data.append(temp_score_data)\n",
            "C:\\Users\\Kristina\\AppData\\Local\\Temp\\ipykernel_13788\\4223696134.py:13: FutureWarning: The frame.append method is deprecated and will be removed from pandas in a future version. Use pandas.concat instead.\n",
            "  scores_data = scores_data.append(temp_score_data)\n",
            "C:\\Users\\Kristina\\AppData\\Local\\Temp\\ipykernel_13788\\4223696134.py:13: FutureWarning: The frame.append method is deprecated and will be removed from pandas in a future version. Use pandas.concat instead.\n",
            "  scores_data = scores_data.append(temp_score_data)\n",
            "C:\\Users\\Kristina\\AppData\\Local\\Temp\\ipykernel_13788\\4223696134.py:13: FutureWarning: The frame.append method is deprecated and will be removed from pandas in a future version. Use pandas.concat instead.\n",
            "  scores_data = scores_data.append(temp_score_data)\n",
            "C:\\Users\\Kristina\\AppData\\Local\\Temp\\ipykernel_13788\\4223696134.py:13: FutureWarning: The frame.append method is deprecated and will be removed from pandas in a future version. Use pandas.concat instead.\n",
            "  scores_data = scores_data.append(temp_score_data)\n",
            "C:\\Users\\Kristina\\AppData\\Local\\Temp\\ipykernel_13788\\4223696134.py:13: FutureWarning: The frame.append method is deprecated and will be removed from pandas in a future version. Use pandas.concat instead.\n",
            "  scores_data = scores_data.append(temp_score_data)\n",
            "C:\\Users\\Kristina\\AppData\\Local\\Temp\\ipykernel_13788\\4223696134.py:13: FutureWarning: The frame.append method is deprecated and will be removed from pandas in a future version. Use pandas.concat instead.\n",
            "  scores_data = scores_data.append(temp_score_data)\n",
            "C:\\Users\\Kristina\\AppData\\Local\\Temp\\ipykernel_13788\\4223696134.py:13: FutureWarning: The frame.append method is deprecated and will be removed from pandas in a future version. Use pandas.concat instead.\n",
            "  scores_data = scores_data.append(temp_score_data)\n",
            "C:\\Users\\Kristina\\AppData\\Local\\Temp\\ipykernel_13788\\4223696134.py:13: FutureWarning: The frame.append method is deprecated and will be removed from pandas in a future version. Use pandas.concat instead.\n",
            "  scores_data = scores_data.append(temp_score_data)\n",
            "C:\\Users\\Kristina\\AppData\\Local\\Temp\\ipykernel_13788\\4223696134.py:13: FutureWarning: The frame.append method is deprecated and will be removed from pandas in a future version. Use pandas.concat instead.\n",
            "  scores_data = scores_data.append(temp_score_data)\n",
            "C:\\Users\\Kristina\\AppData\\Local\\Temp\\ipykernel_13788\\4223696134.py:13: FutureWarning: The frame.append method is deprecated and will be removed from pandas in a future version. Use pandas.concat instead.\n",
            "  scores_data = scores_data.append(temp_score_data)\n",
            "C:\\Users\\Kristina\\AppData\\Local\\Temp\\ipykernel_13788\\4223696134.py:13: FutureWarning: The frame.append method is deprecated and will be removed from pandas in a future version. Use pandas.concat instead.\n",
            "  scores_data = scores_data.append(temp_score_data)\n",
            "C:\\Users\\Kristina\\AppData\\Local\\Temp\\ipykernel_13788\\4223696134.py:13: FutureWarning: The frame.append method is deprecated and will be removed from pandas in a future version. Use pandas.concat instead.\n",
            "  scores_data = scores_data.append(temp_score_data)\n",
            "C:\\Users\\Kristina\\AppData\\Local\\Temp\\ipykernel_13788\\4223696134.py:13: FutureWarning: The frame.append method is deprecated and will be removed from pandas in a future version. Use pandas.concat instead.\n",
            "  scores_data = scores_data.append(temp_score_data)\n",
            "C:\\Users\\Kristina\\AppData\\Local\\Temp\\ipykernel_13788\\4223696134.py:13: FutureWarning: The frame.append method is deprecated and will be removed from pandas in a future version. Use pandas.concat instead.\n",
            "  scores_data = scores_data.append(temp_score_data)\n"
          ]
        },
        {
          "name": "stderr",
          "output_type": "stream",
          "text": [
            "C:\\Users\\Kristina\\AppData\\Local\\Temp\\ipykernel_13788\\4223696134.py:13: FutureWarning: The frame.append method is deprecated and will be removed from pandas in a future version. Use pandas.concat instead.\n",
            "  scores_data = scores_data.append(temp_score_data)\n",
            "C:\\Users\\Kristina\\AppData\\Local\\Temp\\ipykernel_13788\\4223696134.py:13: FutureWarning: The frame.append method is deprecated and will be removed from pandas in a future version. Use pandas.concat instead.\n",
            "  scores_data = scores_data.append(temp_score_data)\n",
            "C:\\Users\\Kristina\\AppData\\Local\\Temp\\ipykernel_13788\\4223696134.py:13: FutureWarning: The frame.append method is deprecated and will be removed from pandas in a future version. Use pandas.concat instead.\n",
            "  scores_data = scores_data.append(temp_score_data)\n",
            "C:\\Users\\Kristina\\AppData\\Local\\Temp\\ipykernel_13788\\4223696134.py:13: FutureWarning: The frame.append method is deprecated and will be removed from pandas in a future version. Use pandas.concat instead.\n",
            "  scores_data = scores_data.append(temp_score_data)\n",
            "C:\\Users\\Kristina\\AppData\\Local\\Temp\\ipykernel_13788\\4223696134.py:13: FutureWarning: The frame.append method is deprecated and will be removed from pandas in a future version. Use pandas.concat instead.\n",
            "  scores_data = scores_data.append(temp_score_data)\n",
            "C:\\Users\\Kristina\\AppData\\Local\\Temp\\ipykernel_13788\\4223696134.py:13: FutureWarning: The frame.append method is deprecated and will be removed from pandas in a future version. Use pandas.concat instead.\n",
            "  scores_data = scores_data.append(temp_score_data)\n",
            "C:\\Users\\Kristina\\AppData\\Local\\Temp\\ipykernel_13788\\4223696134.py:13: FutureWarning: The frame.append method is deprecated and will be removed from pandas in a future version. Use pandas.concat instead.\n",
            "  scores_data = scores_data.append(temp_score_data)\n",
            "C:\\Users\\Kristina\\AppData\\Local\\Temp\\ipykernel_13788\\4223696134.py:13: FutureWarning: The frame.append method is deprecated and will be removed from pandas in a future version. Use pandas.concat instead.\n",
            "  scores_data = scores_data.append(temp_score_data)\n",
            "C:\\Users\\Kristina\\AppData\\Local\\Temp\\ipykernel_13788\\4223696134.py:13: FutureWarning: The frame.append method is deprecated and will be removed from pandas in a future version. Use pandas.concat instead.\n",
            "  scores_data = scores_data.append(temp_score_data)\n",
            "C:\\Users\\Kristina\\AppData\\Local\\Temp\\ipykernel_13788\\4223696134.py:13: FutureWarning: The frame.append method is deprecated and will be removed from pandas in a future version. Use pandas.concat instead.\n",
            "  scores_data = scores_data.append(temp_score_data)\n",
            "C:\\Users\\Kristina\\AppData\\Local\\Temp\\ipykernel_13788\\4223696134.py:13: FutureWarning: The frame.append method is deprecated and will be removed from pandas in a future version. Use pandas.concat instead.\n",
            "  scores_data = scores_data.append(temp_score_data)\n",
            "C:\\Users\\Kristina\\AppData\\Local\\Temp\\ipykernel_13788\\4223696134.py:13: FutureWarning: The frame.append method is deprecated and will be removed from pandas in a future version. Use pandas.concat instead.\n",
            "  scores_data = scores_data.append(temp_score_data)\n",
            "C:\\Users\\Kristina\\AppData\\Local\\Temp\\ipykernel_13788\\4223696134.py:13: FutureWarning: The frame.append method is deprecated and will be removed from pandas in a future version. Use pandas.concat instead.\n",
            "  scores_data = scores_data.append(temp_score_data)\n",
            "C:\\Users\\Kristina\\AppData\\Local\\Temp\\ipykernel_13788\\4223696134.py:13: FutureWarning: The frame.append method is deprecated and will be removed from pandas in a future version. Use pandas.concat instead.\n",
            "  scores_data = scores_data.append(temp_score_data)\n",
            "C:\\Users\\Kristina\\AppData\\Local\\Temp\\ipykernel_13788\\4223696134.py:13: FutureWarning: The frame.append method is deprecated and will be removed from pandas in a future version. Use pandas.concat instead.\n",
            "  scores_data = scores_data.append(temp_score_data)\n",
            "C:\\Users\\Kristina\\AppData\\Local\\Temp\\ipykernel_13788\\4223696134.py:13: FutureWarning: The frame.append method is deprecated and will be removed from pandas in a future version. Use pandas.concat instead.\n",
            "  scores_data = scores_data.append(temp_score_data)\n",
            "C:\\Users\\Kristina\\AppData\\Local\\Temp\\ipykernel_13788\\4223696134.py:13: FutureWarning: The frame.append method is deprecated and will be removed from pandas in a future version. Use pandas.concat instead.\n",
            "  scores_data = scores_data.append(temp_score_data)\n",
            "C:\\Users\\Kristina\\AppData\\Local\\Temp\\ipykernel_13788\\4223696134.py:13: FutureWarning: The frame.append method is deprecated and will be removed from pandas in a future version. Use pandas.concat instead.\n",
            "  scores_data = scores_data.append(temp_score_data)\n",
            "C:\\Users\\Kristina\\AppData\\Local\\Temp\\ipykernel_13788\\4223696134.py:13: FutureWarning: The frame.append method is deprecated and will be removed from pandas in a future version. Use pandas.concat instead.\n",
            "  scores_data = scores_data.append(temp_score_data)\n",
            "C:\\Users\\Kristina\\AppData\\Local\\Temp\\ipykernel_13788\\4223696134.py:13: FutureWarning: The frame.append method is deprecated and will be removed from pandas in a future version. Use pandas.concat instead.\n",
            "  scores_data = scores_data.append(temp_score_data)\n",
            "C:\\Users\\Kristina\\AppData\\Local\\Temp\\ipykernel_13788\\4223696134.py:13: FutureWarning: The frame.append method is deprecated and will be removed from pandas in a future version. Use pandas.concat instead.\n",
            "  scores_data = scores_data.append(temp_score_data)\n",
            "C:\\Users\\Kristina\\AppData\\Local\\Temp\\ipykernel_13788\\4223696134.py:13: FutureWarning: The frame.append method is deprecated and will be removed from pandas in a future version. Use pandas.concat instead.\n",
            "  scores_data = scores_data.append(temp_score_data)\n",
            "C:\\Users\\Kristina\\AppData\\Local\\Temp\\ipykernel_13788\\4223696134.py:13: FutureWarning: The frame.append method is deprecated and will be removed from pandas in a future version. Use pandas.concat instead.\n",
            "  scores_data = scores_data.append(temp_score_data)\n",
            "C:\\Users\\Kristina\\AppData\\Local\\Temp\\ipykernel_13788\\4223696134.py:13: FutureWarning: The frame.append method is deprecated and will be removed from pandas in a future version. Use pandas.concat instead.\n",
            "  scores_data = scores_data.append(temp_score_data)\n",
            "C:\\Users\\Kristina\\AppData\\Local\\Temp\\ipykernel_13788\\4223696134.py:13: FutureWarning: The frame.append method is deprecated and will be removed from pandas in a future version. Use pandas.concat instead.\n",
            "  scores_data = scores_data.append(temp_score_data)\n",
            "C:\\Users\\Kristina\\AppData\\Local\\Temp\\ipykernel_13788\\4223696134.py:13: FutureWarning: The frame.append method is deprecated and will be removed from pandas in a future version. Use pandas.concat instead.\n",
            "  scores_data = scores_data.append(temp_score_data)\n",
            "C:\\Users\\Kristina\\AppData\\Local\\Temp\\ipykernel_13788\\4223696134.py:13: FutureWarning: The frame.append method is deprecated and will be removed from pandas in a future version. Use pandas.concat instead.\n",
            "  scores_data = scores_data.append(temp_score_data)\n",
            "C:\\Users\\Kristina\\AppData\\Local\\Temp\\ipykernel_13788\\4223696134.py:13: FutureWarning: The frame.append method is deprecated and will be removed from pandas in a future version. Use pandas.concat instead.\n",
            "  scores_data = scores_data.append(temp_score_data)\n",
            "C:\\Users\\Kristina\\AppData\\Local\\Temp\\ipykernel_13788\\4223696134.py:13: FutureWarning: The frame.append method is deprecated and will be removed from pandas in a future version. Use pandas.concat instead.\n",
            "  scores_data = scores_data.append(temp_score_data)\n",
            "C:\\Users\\Kristina\\AppData\\Local\\Temp\\ipykernel_13788\\4223696134.py:13: FutureWarning: The frame.append method is deprecated and will be removed from pandas in a future version. Use pandas.concat instead.\n",
            "  scores_data = scores_data.append(temp_score_data)\n",
            "C:\\Users\\Kristina\\AppData\\Local\\Temp\\ipykernel_13788\\4223696134.py:13: FutureWarning: The frame.append method is deprecated and will be removed from pandas in a future version. Use pandas.concat instead.\n",
            "  scores_data = scores_data.append(temp_score_data)\n",
            "C:\\Users\\Kristina\\AppData\\Local\\Temp\\ipykernel_13788\\4223696134.py:13: FutureWarning: The frame.append method is deprecated and will be removed from pandas in a future version. Use pandas.concat instead.\n",
            "  scores_data = scores_data.append(temp_score_data)\n",
            "C:\\Users\\Kristina\\AppData\\Local\\Temp\\ipykernel_13788\\4223696134.py:13: FutureWarning: The frame.append method is deprecated and will be removed from pandas in a future version. Use pandas.concat instead.\n",
            "  scores_data = scores_data.append(temp_score_data)\n",
            "C:\\Users\\Kristina\\AppData\\Local\\Temp\\ipykernel_13788\\4223696134.py:13: FutureWarning: The frame.append method is deprecated and will be removed from pandas in a future version. Use pandas.concat instead.\n",
            "  scores_data = scores_data.append(temp_score_data)\n",
            "C:\\Users\\Kristina\\AppData\\Local\\Temp\\ipykernel_13788\\4223696134.py:13: FutureWarning: The frame.append method is deprecated and will be removed from pandas in a future version. Use pandas.concat instead.\n",
            "  scores_data = scores_data.append(temp_score_data)\n",
            "C:\\Users\\Kristina\\AppData\\Local\\Temp\\ipykernel_13788\\4223696134.py:13: FutureWarning: The frame.append method is deprecated and will be removed from pandas in a future version. Use pandas.concat instead.\n",
            "  scores_data = scores_data.append(temp_score_data)\n",
            "C:\\Users\\Kristina\\AppData\\Local\\Temp\\ipykernel_13788\\4223696134.py:13: FutureWarning: The frame.append method is deprecated and will be removed from pandas in a future version. Use pandas.concat instead.\n",
            "  scores_data = scores_data.append(temp_score_data)\n",
            "C:\\Users\\Kristina\\AppData\\Local\\Temp\\ipykernel_13788\\4223696134.py:13: FutureWarning: The frame.append method is deprecated and will be removed from pandas in a future version. Use pandas.concat instead.\n",
            "  scores_data = scores_data.append(temp_score_data)\n"
          ]
        },
        {
          "name": "stderr",
          "output_type": "stream",
          "text": [
            "C:\\Users\\Kristina\\AppData\\Local\\Temp\\ipykernel_13788\\4223696134.py:13: FutureWarning: The frame.append method is deprecated and will be removed from pandas in a future version. Use pandas.concat instead.\n",
            "  scores_data = scores_data.append(temp_score_data)\n",
            "C:\\Users\\Kristina\\AppData\\Local\\Temp\\ipykernel_13788\\4223696134.py:13: FutureWarning: The frame.append method is deprecated and will be removed from pandas in a future version. Use pandas.concat instead.\n",
            "  scores_data = scores_data.append(temp_score_data)\n",
            "C:\\Users\\Kristina\\AppData\\Local\\Temp\\ipykernel_13788\\4223696134.py:13: FutureWarning: The frame.append method is deprecated and will be removed from pandas in a future version. Use pandas.concat instead.\n",
            "  scores_data = scores_data.append(temp_score_data)\n",
            "C:\\Users\\Kristina\\AppData\\Local\\Temp\\ipykernel_13788\\4223696134.py:13: FutureWarning: The frame.append method is deprecated and will be removed from pandas in a future version. Use pandas.concat instead.\n",
            "  scores_data = scores_data.append(temp_score_data)\n",
            "C:\\Users\\Kristina\\AppData\\Local\\Temp\\ipykernel_13788\\4223696134.py:13: FutureWarning: The frame.append method is deprecated and will be removed from pandas in a future version. Use pandas.concat instead.\n",
            "  scores_data = scores_data.append(temp_score_data)\n",
            "C:\\Users\\Kristina\\AppData\\Local\\Temp\\ipykernel_13788\\4223696134.py:13: FutureWarning: The frame.append method is deprecated and will be removed from pandas in a future version. Use pandas.concat instead.\n",
            "  scores_data = scores_data.append(temp_score_data)\n",
            "C:\\Users\\Kristina\\AppData\\Local\\Temp\\ipykernel_13788\\4223696134.py:13: FutureWarning: The frame.append method is deprecated and will be removed from pandas in a future version. Use pandas.concat instead.\n",
            "  scores_data = scores_data.append(temp_score_data)\n",
            "C:\\Users\\Kristina\\AppData\\Local\\Temp\\ipykernel_13788\\4223696134.py:13: FutureWarning: The frame.append method is deprecated and will be removed from pandas in a future version. Use pandas.concat instead.\n",
            "  scores_data = scores_data.append(temp_score_data)\n",
            "C:\\Users\\Kristina\\AppData\\Local\\Temp\\ipykernel_13788\\4223696134.py:13: FutureWarning: The frame.append method is deprecated and will be removed from pandas in a future version. Use pandas.concat instead.\n",
            "  scores_data = scores_data.append(temp_score_data)\n",
            "C:\\Users\\Kristina\\AppData\\Local\\Temp\\ipykernel_13788\\4223696134.py:13: FutureWarning: The frame.append method is deprecated and will be removed from pandas in a future version. Use pandas.concat instead.\n",
            "  scores_data = scores_data.append(temp_score_data)\n",
            "C:\\Users\\Kristina\\AppData\\Local\\Temp\\ipykernel_13788\\4223696134.py:13: FutureWarning: The frame.append method is deprecated and will be removed from pandas in a future version. Use pandas.concat instead.\n",
            "  scores_data = scores_data.append(temp_score_data)\n",
            "C:\\Users\\Kristina\\AppData\\Local\\Temp\\ipykernel_13788\\4223696134.py:13: FutureWarning: The frame.append method is deprecated and will be removed from pandas in a future version. Use pandas.concat instead.\n",
            "  scores_data = scores_data.append(temp_score_data)\n",
            "C:\\Users\\Kristina\\AppData\\Local\\Temp\\ipykernel_13788\\4223696134.py:13: FutureWarning: The frame.append method is deprecated and will be removed from pandas in a future version. Use pandas.concat instead.\n",
            "  scores_data = scores_data.append(temp_score_data)\n",
            "C:\\Users\\Kristina\\AppData\\Local\\Temp\\ipykernel_13788\\4223696134.py:13: FutureWarning: The frame.append method is deprecated and will be removed from pandas in a future version. Use pandas.concat instead.\n",
            "  scores_data = scores_data.append(temp_score_data)\n",
            "C:\\Users\\Kristina\\AppData\\Local\\Temp\\ipykernel_13788\\4223696134.py:13: FutureWarning: The frame.append method is deprecated and will be removed from pandas in a future version. Use pandas.concat instead.\n",
            "  scores_data = scores_data.append(temp_score_data)\n",
            "C:\\Users\\Kristina\\AppData\\Local\\Temp\\ipykernel_13788\\4223696134.py:13: FutureWarning: The frame.append method is deprecated and will be removed from pandas in a future version. Use pandas.concat instead.\n",
            "  scores_data = scores_data.append(temp_score_data)\n",
            "C:\\Users\\Kristina\\AppData\\Local\\Temp\\ipykernel_13788\\4223696134.py:13: FutureWarning: The frame.append method is deprecated and will be removed from pandas in a future version. Use pandas.concat instead.\n",
            "  scores_data = scores_data.append(temp_score_data)\n",
            "C:\\Users\\Kristina\\AppData\\Local\\Temp\\ipykernel_13788\\4223696134.py:13: FutureWarning: The frame.append method is deprecated and will be removed from pandas in a future version. Use pandas.concat instead.\n",
            "  scores_data = scores_data.append(temp_score_data)\n",
            "C:\\Users\\Kristina\\AppData\\Local\\Temp\\ipykernel_13788\\4223696134.py:13: FutureWarning: The frame.append method is deprecated and will be removed from pandas in a future version. Use pandas.concat instead.\n",
            "  scores_data = scores_data.append(temp_score_data)\n",
            "C:\\Users\\Kristina\\AppData\\Local\\Temp\\ipykernel_13788\\4223696134.py:13: FutureWarning: The frame.append method is deprecated and will be removed from pandas in a future version. Use pandas.concat instead.\n",
            "  scores_data = scores_data.append(temp_score_data)\n"
          ]
        }
      ],
      "source": [
        "for max_depth in max_depth_values:\n",
        "    my_awesome_tree = tree.DecisionTreeClassifier(criterion='entropy', max_depth=max_depth, random_state=max_depth)\n",
        "    my_awesome_tree.fit(X_train, y_train)\n",
        "    train_score = my_awesome_tree.score(X_train, y_train)\n",
        "    test_score = my_awesome_tree.score(X_test,y_test)\n",
        "\n",
        "    mean_cross_val_score = cross_val_score(my_awesome_tree,X_train, y_train, cv=5).mean()\n",
        "    #записываем среднее значение и при кросс валидации\n",
        "    temp_score_data = pd.DataFrame({'max_depth': [max_depth],\n",
        "                                    'train_score': [train_score],\n",
        "                                    'test_score': [test_score],\n",
        "                                    'cross_val_score': [mean_cross_val_score]})\n",
        "    scores_data = scores_data.append(temp_score_data)\n",
        "# Прогоняем углубление дерева решения и для каждого варианта записываем дф"
      ]
    },
    {
      "cell_type": "code",
      "execution_count": null,
      "id": "bf027686",
      "metadata": {
        "scrolled": true,
        "id": "bf027686",
        "outputId": "b5ebef87-bbf7-468b-92cf-ae93f5003795"
      },
      "outputs": [
        {
          "data": {
            "text/html": [
              "<div>\n",
              "<style scoped>\n",
              "    .dataframe tbody tr th:only-of-type {\n",
              "        vertical-align: middle;\n",
              "    }\n",
              "\n",
              "    .dataframe tbody tr th {\n",
              "        vertical-align: top;\n",
              "    }\n",
              "\n",
              "    .dataframe thead th {\n",
              "        text-align: right;\n",
              "    }\n",
              "</style>\n",
              "<table border=\"1\" class=\"dataframe\">\n",
              "  <thead>\n",
              "    <tr style=\"text-align: right;\">\n",
              "      <th></th>\n",
              "      <th>max_depth</th>\n",
              "      <th>train_score</th>\n",
              "      <th>test_score</th>\n",
              "      <th>cross_val_score</th>\n",
              "    </tr>\n",
              "  </thead>\n",
              "  <tbody>\n",
              "    <tr>\n",
              "      <th>0</th>\n",
              "      <td>1</td>\n",
              "      <td>0.716418</td>\n",
              "      <td>0.666667</td>\n",
              "      <td>0.716484</td>\n",
              "    </tr>\n",
              "    <tr>\n",
              "      <th>0</th>\n",
              "      <td>2</td>\n",
              "      <td>1.000000</td>\n",
              "      <td>0.909091</td>\n",
              "      <td>1.000000</td>\n",
              "    </tr>\n",
              "    <tr>\n",
              "      <th>0</th>\n",
              "      <td>3</td>\n",
              "      <td>1.000000</td>\n",
              "      <td>0.909091</td>\n",
              "      <td>1.000000</td>\n",
              "    </tr>\n",
              "    <tr>\n",
              "      <th>0</th>\n",
              "      <td>4</td>\n",
              "      <td>1.000000</td>\n",
              "      <td>0.909091</td>\n",
              "      <td>1.000000</td>\n",
              "    </tr>\n",
              "    <tr>\n",
              "      <th>0</th>\n",
              "      <td>5</td>\n",
              "      <td>1.000000</td>\n",
              "      <td>0.909091</td>\n",
              "      <td>1.000000</td>\n",
              "    </tr>\n",
              "  </tbody>\n",
              "</table>\n",
              "</div>"
            ],
            "text/plain": [
              "   max_depth  train_score  test_score  cross_val_score\n",
              "0          1     0.716418    0.666667         0.716484\n",
              "0          2     1.000000    0.909091         1.000000\n",
              "0          3     1.000000    0.909091         1.000000\n",
              "0          4     1.000000    0.909091         1.000000\n",
              "0          5     1.000000    0.909091         1.000000"
            ]
          },
          "execution_count": 59,
          "metadata": {},
          "output_type": "execute_result"
        }
      ],
      "source": [
        "scores_data.head()"
      ]
    },
    {
      "cell_type": "code",
      "execution_count": null,
      "id": "67abddf5",
      "metadata": {
        "id": "67abddf5"
      },
      "outputs": [],
      "source": [
        "#преобразовываем в нужный формат данные\n",
        "scores_data_long = pd.melt(scores_data, id_vars=['max_depth'], value_vars=['train_score', 'test_score', 'cross_val_score'],\n",
        "                          var_name='set_type', value_name='score')"
      ]
    },
    {
      "cell_type": "code",
      "execution_count": null,
      "id": "d0940655",
      "metadata": {
        "scrolled": true,
        "id": "d0940655",
        "outputId": "b66e6bc0-3fa7-4e49-c5fe-5d28e2af07a1"
      },
      "outputs": [
        {
          "data": {
            "text/html": [
              "<div>\n",
              "<style scoped>\n",
              "    .dataframe tbody tr th:only-of-type {\n",
              "        vertical-align: middle;\n",
              "    }\n",
              "\n",
              "    .dataframe tbody tr th {\n",
              "        vertical-align: top;\n",
              "    }\n",
              "\n",
              "    .dataframe thead th {\n",
              "        text-align: right;\n",
              "    }\n",
              "</style>\n",
              "<table border=\"1\" class=\"dataframe\">\n",
              "  <thead>\n",
              "    <tr style=\"text-align: right;\">\n",
              "      <th></th>\n",
              "      <th>max_depth</th>\n",
              "      <th>set_type</th>\n",
              "      <th>score</th>\n",
              "    </tr>\n",
              "  </thead>\n",
              "  <tbody>\n",
              "    <tr>\n",
              "      <th>792</th>\n",
              "      <td>1</td>\n",
              "      <td>cross_val_score</td>\n",
              "      <td>0.716484</td>\n",
              "    </tr>\n",
              "    <tr>\n",
              "      <th>793</th>\n",
              "      <td>2</td>\n",
              "      <td>cross_val_score</td>\n",
              "      <td>1.000000</td>\n",
              "    </tr>\n",
              "    <tr>\n",
              "      <th>794</th>\n",
              "      <td>3</td>\n",
              "      <td>cross_val_score</td>\n",
              "      <td>1.000000</td>\n",
              "    </tr>\n",
              "    <tr>\n",
              "      <th>795</th>\n",
              "      <td>4</td>\n",
              "      <td>cross_val_score</td>\n",
              "      <td>1.000000</td>\n",
              "    </tr>\n",
              "    <tr>\n",
              "      <th>796</th>\n",
              "      <td>5</td>\n",
              "      <td>cross_val_score</td>\n",
              "      <td>1.000000</td>\n",
              "    </tr>\n",
              "    <tr>\n",
              "      <th>797</th>\n",
              "      <td>6</td>\n",
              "      <td>cross_val_score</td>\n",
              "      <td>1.000000</td>\n",
              "    </tr>\n",
              "    <tr>\n",
              "      <th>798</th>\n",
              "      <td>7</td>\n",
              "      <td>cross_val_score</td>\n",
              "      <td>1.000000</td>\n",
              "    </tr>\n",
              "    <tr>\n",
              "      <th>799</th>\n",
              "      <td>8</td>\n",
              "      <td>cross_val_score</td>\n",
              "      <td>1.000000</td>\n",
              "    </tr>\n",
              "    <tr>\n",
              "      <th>800</th>\n",
              "      <td>9</td>\n",
              "      <td>cross_val_score</td>\n",
              "      <td>1.000000</td>\n",
              "    </tr>\n",
              "    <tr>\n",
              "      <th>801</th>\n",
              "      <td>10</td>\n",
              "      <td>cross_val_score</td>\n",
              "      <td>1.000000</td>\n",
              "    </tr>\n",
              "    <tr>\n",
              "      <th>802</th>\n",
              "      <td>11</td>\n",
              "      <td>cross_val_score</td>\n",
              "      <td>1.000000</td>\n",
              "    </tr>\n",
              "    <tr>\n",
              "      <th>803</th>\n",
              "      <td>12</td>\n",
              "      <td>cross_val_score</td>\n",
              "      <td>1.000000</td>\n",
              "    </tr>\n",
              "    <tr>\n",
              "      <th>804</th>\n",
              "      <td>13</td>\n",
              "      <td>cross_val_score</td>\n",
              "      <td>1.000000</td>\n",
              "    </tr>\n",
              "    <tr>\n",
              "      <th>805</th>\n",
              "      <td>14</td>\n",
              "      <td>cross_val_score</td>\n",
              "      <td>1.000000</td>\n",
              "    </tr>\n",
              "    <tr>\n",
              "      <th>806</th>\n",
              "      <td>15</td>\n",
              "      <td>cross_val_score</td>\n",
              "      <td>1.000000</td>\n",
              "    </tr>\n",
              "    <tr>\n",
              "      <th>807</th>\n",
              "      <td>16</td>\n",
              "      <td>cross_val_score</td>\n",
              "      <td>1.000000</td>\n",
              "    </tr>\n",
              "    <tr>\n",
              "      <th>808</th>\n",
              "      <td>17</td>\n",
              "      <td>cross_val_score</td>\n",
              "      <td>1.000000</td>\n",
              "    </tr>\n",
              "    <tr>\n",
              "      <th>809</th>\n",
              "      <td>18</td>\n",
              "      <td>cross_val_score</td>\n",
              "      <td>1.000000</td>\n",
              "    </tr>\n",
              "    <tr>\n",
              "      <th>810</th>\n",
              "      <td>19</td>\n",
              "      <td>cross_val_score</td>\n",
              "      <td>1.000000</td>\n",
              "    </tr>\n",
              "    <tr>\n",
              "      <th>811</th>\n",
              "      <td>20</td>\n",
              "      <td>cross_val_score</td>\n",
              "      <td>1.000000</td>\n",
              "    </tr>\n",
              "  </tbody>\n",
              "</table>\n",
              "</div>"
            ],
            "text/plain": [
              "     max_depth         set_type     score\n",
              "792          1  cross_val_score  0.716484\n",
              "793          2  cross_val_score  1.000000\n",
              "794          3  cross_val_score  1.000000\n",
              "795          4  cross_val_score  1.000000\n",
              "796          5  cross_val_score  1.000000\n",
              "797          6  cross_val_score  1.000000\n",
              "798          7  cross_val_score  1.000000\n",
              "799          8  cross_val_score  1.000000\n",
              "800          9  cross_val_score  1.000000\n",
              "801         10  cross_val_score  1.000000\n",
              "802         11  cross_val_score  1.000000\n",
              "803         12  cross_val_score  1.000000\n",
              "804         13  cross_val_score  1.000000\n",
              "805         14  cross_val_score  1.000000\n",
              "806         15  cross_val_score  1.000000\n",
              "807         16  cross_val_score  1.000000\n",
              "808         17  cross_val_score  1.000000\n",
              "809         18  cross_val_score  1.000000\n",
              "810         19  cross_val_score  1.000000\n",
              "811         20  cross_val_score  1.000000"
            ]
          },
          "execution_count": 61,
          "metadata": {},
          "output_type": "execute_result"
        }
      ],
      "source": [
        "scores_data_long.query('set_type == \"cross_val_score\"').head(20)"
      ]
    },
    {
      "cell_type": "code",
      "execution_count": null,
      "id": "b656a897",
      "metadata": {
        "id": "b656a897"
      },
      "outputs": [],
      "source": [
        "plt.rcParams['figure.figsize']=(10,10)"
      ]
    },
    {
      "cell_type": "code",
      "execution_count": null,
      "id": "b70996a3",
      "metadata": {
        "id": "b70996a3",
        "outputId": "f76687d1-036d-48bc-88fe-95be2ce68f64"
      },
      "outputs": [
        {
          "data": {
            "text/plain": [
              "<AxesSubplot:xlabel='max_depth', ylabel='score'>"
            ]
          },
          "execution_count": 62,
          "metadata": {},
          "output_type": "execute_result"
        },
        {
          "data": {
            "image/png": "[encoded data removed]",
            "text/plain": [
              "<Figure size 720x720 with 1 Axes>"
            ]
          },
          "metadata": {
            "needs_background": "light"
          },
          "output_type": "display_data"
        }
      ],
      "source": [
        "#Визуализируем\n",
        "sns.lineplot(x = 'max_depth',y  = 'score', hue='set_type', data = scores_data_long)"
      ]
    },
    {
      "cell_type": "code",
      "execution_count": null,
      "id": "c40f885f",
      "metadata": {
        "id": "c40f885f"
      },
      "outputs": [],
      "source": []
    }
  ],
  "metadata": {
    "kernelspec": {
      "display_name": "Python 3 (ipykernel)",
      "language": "python",
      "name": "python3"
    },
    "language_info": {
      "codemirror_mode": {
        "name": "ipython",
        "version": 3
      },
      "file_extension": ".py",
      "mimetype": "text/x-python",
      "name": "python",
      "nbconvert_exporter": "python",
      "pygments_lexer": "ipython3",
      "version": "3.10.5"
    },
    "colab": {
      "provenance": [],
      "include_colab_link": true
    }
  },
  "nbformat": 4,
  "nbformat_minor": 5
}

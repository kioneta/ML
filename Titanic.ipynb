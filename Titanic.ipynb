{
  "cells": [
    {
      "cell_type": "markdown",
      "metadata": {
        "id": "view-in-github",
        "colab_type": "text"
      },
      "source": [
        "<a href=\"https://colab.research.google.com/github/kioneta/ML_first_steps/blob/main/Titanic.ipynb\" target=\"_parent\"><img src=\"https://colab.research.google.com/assets/colab-badge.svg\" alt=\"Open In Colab\"/></a>"
      ]
    },
    {
      "cell_type": "code",
      "execution_count": null,
      "id": "5ec4d96a",
      "metadata": {
        "id": "5ec4d96a"
      },
      "outputs": [],
      "source": [
        "from sklearn import tree\n",
        "import pandas as pd\n",
        "import matplotlib.pyplot as plt\n",
        "import seaborn as sns\n",
        "%matplotlib inline"
      ]
    },
    {
      "cell_type": "code",
      "execution_count": null,
      "id": "64b7ff2c",
      "metadata": {
        "id": "64b7ff2c"
      },
      "outputs": [],
      "source": [
        "from IPython.display import SVG\n",
        "from graphviz import Source\n",
        "from IPython.display import display\n",
        "from sklearn.model_selection import cross_val_score"
      ]
    },
    {
      "cell_type": "code",
      "execution_count": null,
      "id": "ae84db71",
      "metadata": {
        "id": "ae84db71",
        "outputId": "e6f92ade-ccb1-40ef-fa3f-ee2ddcf55529"
      },
      "outputs": [
        {
          "data": {
            "text/html": [
              "<style>svg{width: 70% !important; height: 60% !important;} </style>"
            ],
            "text/plain": [
              "<IPython.core.display.HTML object>"
            ]
          },
          "execution_count": 3,
          "metadata": {},
          "output_type": "execute_result"
        }
      ],
      "source": [
        "from IPython.display import HTML\n",
        "style = \"<style>svg{width: 70% !important; height: 60% !important;} </style>\"\n",
        "HTML(style)"
      ]
    },
    {
      "cell_type": "code",
      "execution_count": null,
      "id": "cd06f96f",
      "metadata": {
        "id": "cd06f96f"
      },
      "outputs": [],
      "source": [
        "titanic_data = pd.read_csv('https://stepik.org/media/attachments/course/4852/titanic.csv')"
      ]
    },
    {
      "cell_type": "code",
      "execution_count": null,
      "id": "6ad2774a",
      "metadata": {
        "id": "6ad2774a",
        "outputId": "93d9f4a0-5eb1-40e9-eb8c-0d470032a776"
      },
      "outputs": [
        {
          "data": {
            "text/html": [
              "<div>\n",
              "<style scoped>\n",
              "    .dataframe tbody tr th:only-of-type {\n",
              "        vertical-align: middle;\n",
              "    }\n",
              "\n",
              "    .dataframe tbody tr th {\n",
              "        vertical-align: top;\n",
              "    }\n",
              "\n",
              "    .dataframe thead th {\n",
              "        text-align: right;\n",
              "    }\n",
              "</style>\n",
              "<table border=\"1\" class=\"dataframe\">\n",
              "  <thead>\n",
              "    <tr style=\"text-align: right;\">\n",
              "      <th></th>\n",
              "      <th>PassengerId</th>\n",
              "      <th>Survived</th>\n",
              "      <th>Pclass</th>\n",
              "      <th>Name</th>\n",
              "      <th>Sex</th>\n",
              "      <th>Age</th>\n",
              "      <th>SibSp</th>\n",
              "      <th>Parch</th>\n",
              "      <th>Ticket</th>\n",
              "      <th>Fare</th>\n",
              "      <th>Cabin</th>\n",
              "      <th>Embarked</th>\n",
              "    </tr>\n",
              "  </thead>\n",
              "  <tbody>\n",
              "    <tr>\n",
              "      <th>0</th>\n",
              "      <td>1</td>\n",
              "      <td>0</td>\n",
              "      <td>3</td>\n",
              "      <td>Braund, Mr. Owen Harris</td>\n",
              "      <td>male</td>\n",
              "      <td>22.0</td>\n",
              "      <td>1</td>\n",
              "      <td>0</td>\n",
              "      <td>A/5 21171</td>\n",
              "      <td>7.2500</td>\n",
              "      <td>NaN</td>\n",
              "      <td>S</td>\n",
              "    </tr>\n",
              "    <tr>\n",
              "      <th>1</th>\n",
              "      <td>2</td>\n",
              "      <td>1</td>\n",
              "      <td>1</td>\n",
              "      <td>Cumings, Mrs. John Bradley (Florence Briggs Th...</td>\n",
              "      <td>female</td>\n",
              "      <td>38.0</td>\n",
              "      <td>1</td>\n",
              "      <td>0</td>\n",
              "      <td>PC 17599</td>\n",
              "      <td>71.2833</td>\n",
              "      <td>C85</td>\n",
              "      <td>C</td>\n",
              "    </tr>\n",
              "    <tr>\n",
              "      <th>2</th>\n",
              "      <td>3</td>\n",
              "      <td>1</td>\n",
              "      <td>3</td>\n",
              "      <td>Heikkinen, Miss. Laina</td>\n",
              "      <td>female</td>\n",
              "      <td>26.0</td>\n",
              "      <td>0</td>\n",
              "      <td>0</td>\n",
              "      <td>STON/O2. 3101282</td>\n",
              "      <td>7.9250</td>\n",
              "      <td>NaN</td>\n",
              "      <td>S</td>\n",
              "    </tr>\n",
              "    <tr>\n",
              "      <th>3</th>\n",
              "      <td>4</td>\n",
              "      <td>1</td>\n",
              "      <td>1</td>\n",
              "      <td>Futrelle, Mrs. Jacques Heath (Lily May Peel)</td>\n",
              "      <td>female</td>\n",
              "      <td>35.0</td>\n",
              "      <td>1</td>\n",
              "      <td>0</td>\n",
              "      <td>113803</td>\n",
              "      <td>53.1000</td>\n",
              "      <td>C123</td>\n",
              "      <td>S</td>\n",
              "    </tr>\n",
              "    <tr>\n",
              "      <th>4</th>\n",
              "      <td>5</td>\n",
              "      <td>0</td>\n",
              "      <td>3</td>\n",
              "      <td>Allen, Mr. William Henry</td>\n",
              "      <td>male</td>\n",
              "      <td>35.0</td>\n",
              "      <td>0</td>\n",
              "      <td>0</td>\n",
              "      <td>373450</td>\n",
              "      <td>8.0500</td>\n",
              "      <td>NaN</td>\n",
              "      <td>S</td>\n",
              "    </tr>\n",
              "  </tbody>\n",
              "</table>\n",
              "</div>"
            ],
            "text/plain": [
              "   PassengerId  Survived  Pclass  \\\n",
              "0            1         0       3   \n",
              "1            2         1       1   \n",
              "2            3         1       3   \n",
              "3            4         1       1   \n",
              "4            5         0       3   \n",
              "\n",
              "                                                Name     Sex   Age  SibSp  \\\n",
              "0                            Braund, Mr. Owen Harris    male  22.0      1   \n",
              "1  Cumings, Mrs. John Bradley (Florence Briggs Th...  female  38.0      1   \n",
              "2                             Heikkinen, Miss. Laina  female  26.0      0   \n",
              "3       Futrelle, Mrs. Jacques Heath (Lily May Peel)  female  35.0      1   \n",
              "4                           Allen, Mr. William Henry    male  35.0      0   \n",
              "\n",
              "   Parch            Ticket     Fare Cabin Embarked  \n",
              "0      0         A/5 21171   7.2500   NaN        S  \n",
              "1      0          PC 17599  71.2833   C85        C  \n",
              "2      0  STON/O2. 3101282   7.9250   NaN        S  \n",
              "3      0            113803  53.1000  C123        S  \n",
              "4      0            373450   8.0500   NaN        S  "
            ]
          },
          "execution_count": 5,
          "metadata": {},
          "output_type": "execute_result"
        }
      ],
      "source": [
        "titanic_data.head(5)"
      ]
    },
    {
      "cell_type": "code",
      "execution_count": null,
      "id": "abf63279",
      "metadata": {
        "id": "abf63279",
        "outputId": "3b94099d-61fd-4dcd-be8b-e03adc5445ce"
      },
      "outputs": [
        {
          "data": {
            "text/plain": [
              "PassengerId      0\n",
              "Survived         0\n",
              "Pclass           0\n",
              "Name             0\n",
              "Sex              0\n",
              "Age            177\n",
              "SibSp            0\n",
              "Parch            0\n",
              "Ticket           0\n",
              "Fare             0\n",
              "Cabin          687\n",
              "Embarked         2\n",
              "dtype: int64"
            ]
          },
          "execution_count": 6,
          "metadata": {},
          "output_type": "execute_result"
        }
      ],
      "source": [
        "titanic_data.isnull().sum() #смотрим где много пропущено значений"
      ]
    },
    {
      "cell_type": "code",
      "execution_count": null,
      "id": "05a265aa",
      "metadata": {
        "id": "05a265aa"
      },
      "outputs": [],
      "source": [
        "X = titanic_data.drop(['PassengerId', 'Survived','Name','Ticket','Cabin'], axis = 1)"
      ]
    },
    {
      "cell_type": "code",
      "execution_count": null,
      "id": "1078d900",
      "metadata": {
        "id": "1078d900",
        "outputId": "6edb28d2-41a2-4cff-ad4b-a369bbb3948a"
      },
      "outputs": [
        {
          "data": {
            "text/html": [
              "<div>\n",
              "<style scoped>\n",
              "    .dataframe tbody tr th:only-of-type {\n",
              "        vertical-align: middle;\n",
              "    }\n",
              "\n",
              "    .dataframe tbody tr th {\n",
              "        vertical-align: top;\n",
              "    }\n",
              "\n",
              "    .dataframe thead th {\n",
              "        text-align: right;\n",
              "    }\n",
              "</style>\n",
              "<table border=\"1\" class=\"dataframe\">\n",
              "  <thead>\n",
              "    <tr style=\"text-align: right;\">\n",
              "      <th></th>\n",
              "      <th>Pclass</th>\n",
              "      <th>Sex</th>\n",
              "      <th>Age</th>\n",
              "      <th>SibSp</th>\n",
              "      <th>Parch</th>\n",
              "      <th>Fare</th>\n",
              "      <th>Embarked</th>\n",
              "    </tr>\n",
              "  </thead>\n",
              "  <tbody>\n",
              "    <tr>\n",
              "      <th>0</th>\n",
              "      <td>3</td>\n",
              "      <td>male</td>\n",
              "      <td>22.0</td>\n",
              "      <td>1</td>\n",
              "      <td>0</td>\n",
              "      <td>7.2500</td>\n",
              "      <td>S</td>\n",
              "    </tr>\n",
              "    <tr>\n",
              "      <th>1</th>\n",
              "      <td>1</td>\n",
              "      <td>female</td>\n",
              "      <td>38.0</td>\n",
              "      <td>1</td>\n",
              "      <td>0</td>\n",
              "      <td>71.2833</td>\n",
              "      <td>C</td>\n",
              "    </tr>\n",
              "    <tr>\n",
              "      <th>2</th>\n",
              "      <td>3</td>\n",
              "      <td>female</td>\n",
              "      <td>26.0</td>\n",
              "      <td>0</td>\n",
              "      <td>0</td>\n",
              "      <td>7.9250</td>\n",
              "      <td>S</td>\n",
              "    </tr>\n",
              "    <tr>\n",
              "      <th>3</th>\n",
              "      <td>1</td>\n",
              "      <td>female</td>\n",
              "      <td>35.0</td>\n",
              "      <td>1</td>\n",
              "      <td>0</td>\n",
              "      <td>53.1000</td>\n",
              "      <td>S</td>\n",
              "    </tr>\n",
              "    <tr>\n",
              "      <th>4</th>\n",
              "      <td>3</td>\n",
              "      <td>male</td>\n",
              "      <td>35.0</td>\n",
              "      <td>0</td>\n",
              "      <td>0</td>\n",
              "      <td>8.0500</td>\n",
              "      <td>S</td>\n",
              "    </tr>\n",
              "  </tbody>\n",
              "</table>\n",
              "</div>"
            ],
            "text/plain": [
              "   Pclass     Sex   Age  SibSp  Parch     Fare Embarked\n",
              "0       3    male  22.0      1      0   7.2500        S\n",
              "1       1  female  38.0      1      0  71.2833        C\n",
              "2       3  female  26.0      0      0   7.9250        S\n",
              "3       1  female  35.0      1      0  53.1000        S\n",
              "4       3    male  35.0      0      0   8.0500        S"
            ]
          },
          "execution_count": 8,
          "metadata": {},
          "output_type": "execute_result"
        }
      ],
      "source": [
        "X.head()"
      ]
    },
    {
      "cell_type": "code",
      "execution_count": null,
      "id": "08814c72",
      "metadata": {
        "id": "08814c72"
      },
      "outputs": [],
      "source": [
        "y = titanic_data.Survived"
      ]
    },
    {
      "cell_type": "code",
      "execution_count": null,
      "id": "1ea4e0a1",
      "metadata": {
        "id": "1ea4e0a1"
      },
      "outputs": [],
      "source": [
        "X = pd.get_dummies(X) #преобразовывает стринговые строки в 0 и 1"
      ]
    },
    {
      "cell_type": "code",
      "execution_count": null,
      "id": "78cae454",
      "metadata": {
        "id": "78cae454",
        "outputId": "2f200a1c-e51f-4f9a-ec0d-6abdd33392ec"
      },
      "outputs": [
        {
          "data": {
            "text/html": [
              "<div>\n",
              "<style scoped>\n",
              "    .dataframe tbody tr th:only-of-type {\n",
              "        vertical-align: middle;\n",
              "    }\n",
              "\n",
              "    .dataframe tbody tr th {\n",
              "        vertical-align: top;\n",
              "    }\n",
              "\n",
              "    .dataframe thead th {\n",
              "        text-align: right;\n",
              "    }\n",
              "</style>\n",
              "<table border=\"1\" class=\"dataframe\">\n",
              "  <thead>\n",
              "    <tr style=\"text-align: right;\">\n",
              "      <th></th>\n",
              "      <th>Pclass</th>\n",
              "      <th>Age</th>\n",
              "      <th>SibSp</th>\n",
              "      <th>Parch</th>\n",
              "      <th>Fare</th>\n",
              "      <th>Sex_female</th>\n",
              "      <th>Sex_male</th>\n",
              "      <th>Embarked_C</th>\n",
              "      <th>Embarked_Q</th>\n",
              "      <th>Embarked_S</th>\n",
              "    </tr>\n",
              "  </thead>\n",
              "  <tbody>\n",
              "    <tr>\n",
              "      <th>0</th>\n",
              "      <td>3</td>\n",
              "      <td>22.0</td>\n",
              "      <td>1</td>\n",
              "      <td>0</td>\n",
              "      <td>7.2500</td>\n",
              "      <td>0</td>\n",
              "      <td>1</td>\n",
              "      <td>0</td>\n",
              "      <td>0</td>\n",
              "      <td>1</td>\n",
              "    </tr>\n",
              "    <tr>\n",
              "      <th>1</th>\n",
              "      <td>1</td>\n",
              "      <td>38.0</td>\n",
              "      <td>1</td>\n",
              "      <td>0</td>\n",
              "      <td>71.2833</td>\n",
              "      <td>1</td>\n",
              "      <td>0</td>\n",
              "      <td>1</td>\n",
              "      <td>0</td>\n",
              "      <td>0</td>\n",
              "    </tr>\n",
              "    <tr>\n",
              "      <th>2</th>\n",
              "      <td>3</td>\n",
              "      <td>26.0</td>\n",
              "      <td>0</td>\n",
              "      <td>0</td>\n",
              "      <td>7.9250</td>\n",
              "      <td>1</td>\n",
              "      <td>0</td>\n",
              "      <td>0</td>\n",
              "      <td>0</td>\n",
              "      <td>1</td>\n",
              "    </tr>\n",
              "    <tr>\n",
              "      <th>3</th>\n",
              "      <td>1</td>\n",
              "      <td>35.0</td>\n",
              "      <td>1</td>\n",
              "      <td>0</td>\n",
              "      <td>53.1000</td>\n",
              "      <td>1</td>\n",
              "      <td>0</td>\n",
              "      <td>0</td>\n",
              "      <td>0</td>\n",
              "      <td>1</td>\n",
              "    </tr>\n",
              "    <tr>\n",
              "      <th>4</th>\n",
              "      <td>3</td>\n",
              "      <td>35.0</td>\n",
              "      <td>0</td>\n",
              "      <td>0</td>\n",
              "      <td>8.0500</td>\n",
              "      <td>0</td>\n",
              "      <td>1</td>\n",
              "      <td>0</td>\n",
              "      <td>0</td>\n",
              "      <td>1</td>\n",
              "    </tr>\n",
              "  </tbody>\n",
              "</table>\n",
              "</div>"
            ],
            "text/plain": [
              "   Pclass   Age  SibSp  Parch     Fare  Sex_female  Sex_male  Embarked_C  \\\n",
              "0       3  22.0      1      0   7.2500           0         1           0   \n",
              "1       1  38.0      1      0  71.2833           1         0           1   \n",
              "2       3  26.0      0      0   7.9250           1         0           0   \n",
              "3       1  35.0      1      0  53.1000           1         0           0   \n",
              "4       3  35.0      0      0   8.0500           0         1           0   \n",
              "\n",
              "   Embarked_Q  Embarked_S  \n",
              "0           0           1  \n",
              "1           0           0  \n",
              "2           0           1  \n",
              "3           0           1  \n",
              "4           0           1  "
            ]
          },
          "execution_count": 11,
          "metadata": {},
          "output_type": "execute_result"
        }
      ],
      "source": [
        "X.head()"
      ]
    },
    {
      "cell_type": "code",
      "execution_count": null,
      "id": "01fc7790",
      "metadata": {
        "id": "01fc7790"
      },
      "outputs": [],
      "source": [
        "X = X.fillna({'Age': X.Age.median()}) #Заполняем все пропущенные значения медианным значением"
      ]
    },
    {
      "cell_type": "code",
      "execution_count": null,
      "id": "236284fc",
      "metadata": {
        "id": "236284fc"
      },
      "outputs": [],
      "source": [
        "clf = tree.DecisionTreeClassifier() #создаем объект к которому можем использовать методы"
      ]
    },
    {
      "cell_type": "code",
      "execution_count": null,
      "id": "4a24f98a",
      "metadata": {
        "id": "4a24f98a",
        "outputId": "3727edba-9ea0-4d9e-c2b0-99bae87a8a8c"
      },
      "outputs": [
        {
          "data": {
            "text/html": [
              "<style>#sk-container-id-1 {color: black;background-color: white;}#sk-container-id-1 pre{padding: 0;}#sk-container-id-1 div.sk-toggleable {background-color: white;}#sk-container-id-1 label.sk-toggleable__label {cursor: pointer;display: block;width: 100%;margin-bottom: 0;padding: 0.3em;box-sizing: border-box;text-align: center;}#sk-container-id-1 label.sk-toggleable__label-arrow:before {content: \"▸\";float: left;margin-right: 0.25em;color: #696969;}#sk-container-id-1 label.sk-toggleable__label-arrow:hover:before {color: black;}#sk-container-id-1 div.sk-estimator:hover label.sk-toggleable__label-arrow:before {color: black;}#sk-container-id-1 div.sk-toggleable__content {max-height: 0;max-width: 0;overflow: hidden;text-align: left;background-color: #f0f8ff;}#sk-container-id-1 div.sk-toggleable__content pre {margin: 0.2em;color: black;border-radius: 0.25em;background-color: #f0f8ff;}#sk-container-id-1 input.sk-toggleable__control:checked~div.sk-toggleable__content {max-height: 200px;max-width: 100%;overflow: auto;}#sk-container-id-1 input.sk-toggleable__control:checked~label.sk-toggleable__label-arrow:before {content: \"▾\";}#sk-container-id-1 div.sk-estimator input.sk-toggleable__control:checked~label.sk-toggleable__label {background-color: #d4ebff;}#sk-container-id-1 div.sk-label input.sk-toggleable__control:checked~label.sk-toggleable__label {background-color: #d4ebff;}#sk-container-id-1 input.sk-hidden--visually {border: 0;clip: rect(1px 1px 1px 1px);clip: rect(1px, 1px, 1px, 1px);height: 1px;margin: -1px;overflow: hidden;padding: 0;position: absolute;width: 1px;}#sk-container-id-1 div.sk-estimator {font-family: monospace;background-color: #f0f8ff;border: 1px dotted black;border-radius: 0.25em;box-sizing: border-box;margin-bottom: 0.5em;}#sk-container-id-1 div.sk-estimator:hover {background-color: #d4ebff;}#sk-container-id-1 div.sk-parallel-item::after {content: \"\";width: 100%;border-bottom: 1px solid gray;flex-grow: 1;}#sk-container-id-1 div.sk-label:hover label.sk-toggleable__label {background-color: #d4ebff;}#sk-container-id-1 div.sk-serial::before {content: \"\";position: absolute;border-left: 1px solid gray;box-sizing: border-box;top: 0;bottom: 0;left: 50%;z-index: 0;}#sk-container-id-1 div.sk-serial {display: flex;flex-direction: column;align-items: center;background-color: white;padding-right: 0.2em;padding-left: 0.2em;position: relative;}#sk-container-id-1 div.sk-item {position: relative;z-index: 1;}#sk-container-id-1 div.sk-parallel {display: flex;align-items: stretch;justify-content: center;background-color: white;position: relative;}#sk-container-id-1 div.sk-item::before, #sk-container-id-1 div.sk-parallel-item::before {content: \"\";position: absolute;border-left: 1px solid gray;box-sizing: border-box;top: 0;bottom: 0;left: 50%;z-index: -1;}#sk-container-id-1 div.sk-parallel-item {display: flex;flex-direction: column;z-index: 1;position: relative;background-color: white;}#sk-container-id-1 div.sk-parallel-item:first-child::after {align-self: flex-end;width: 50%;}#sk-container-id-1 div.sk-parallel-item:last-child::after {align-self: flex-start;width: 50%;}#sk-container-id-1 div.sk-parallel-item:only-child::after {width: 0;}#sk-container-id-1 div.sk-dashed-wrapped {border: 1px dashed gray;margin: 0 0.4em 0.5em 0.4em;box-sizing: border-box;padding-bottom: 0.4em;background-color: white;}#sk-container-id-1 div.sk-label label {font-family: monospace;font-weight: bold;display: inline-block;line-height: 1.2em;}#sk-container-id-1 div.sk-label-container {text-align: center;}#sk-container-id-1 div.sk-container {/* jupyter's `normalize.less` sets `[hidden] { display: none; }` but bootstrap.min.css set `[hidden] { display: none !important; }` so we also need the `!important` here to be able to override the default hidden behavior on the sphinx rendered scikit-learn.org. See: https://github.com/scikit-learn/scikit-learn/issues/21755 */display: inline-block !important;position: relative;}#sk-container-id-1 div.sk-text-repr-fallback {display: none;}</style><div id=\"sk-container-id-1\" class=\"sk-top-container\"><div class=\"sk-text-repr-fallback\"><pre>DecisionTreeClassifier()</pre><b>In a Jupyter environment, please rerun this cell to show the HTML representation or trust the notebook. <br />On GitHub, the HTML representation is unable to render, please try loading this page with nbviewer.org.</b></div><div class=\"sk-container\" hidden><div class=\"sk-item\"><div class=\"sk-estimator sk-toggleable\"><input class=\"sk-toggleable__control sk-hidden--visually\" id=\"sk-estimator-id-1\" type=\"checkbox\" checked><label for=\"sk-estimator-id-1\" class=\"sk-toggleable__label sk-toggleable__label-arrow\">DecisionTreeClassifier</label><div class=\"sk-toggleable__content\"><pre>DecisionTreeClassifier()</pre></div></div></div></div></div>"
            ],
            "text/plain": [
              "DecisionTreeClassifier()"
            ]
          },
          "execution_count": 14,
          "metadata": {},
          "output_type": "execute_result"
        }
      ],
      "source": [
        "clf.fit(X, y)"
      ]
    },
    {
      "cell_type": "code",
      "execution_count": null,
      "id": "63fbd11e",
      "metadata": {
        "id": "63fbd11e",
        "outputId": "293e0e6a-366b-4b7a-e328-fde5be21a97c"
      },
      "outputs": [
        {
          "data": {
            "image/png": "[encoded data removed]",
            "text/plain": [
              "<Figure size 432x288 with 1 Axes>"
            ]
          },
          "metadata": {
            "needs_background": "light"
          },
          "output_type": "display_data"
        }
      ],
      "source": [
        "tree.plot_tree(clf, feature_names=list(X),\n",
        "               class_names=['Died', 'Survived'],\n",
        "               filled=True);"
      ]
    },
    {
      "cell_type": "code",
      "execution_count": null,
      "id": "f69b4e64",
      "metadata": {
        "id": "f69b4e64"
      },
      "outputs": [],
      "source": [
        "from sklearn.model_selection import train_test_split"
      ]
    },
    {
      "cell_type": "code",
      "execution_count": null,
      "id": "fafb2b94",
      "metadata": {
        "id": "fafb2b94"
      },
      "outputs": [],
      "source": [
        "X_train, X_test,y_train, y_test = train_test_split(X, y, test_size = 0.33, random_state=42)\n",
        "# Разбиваем выборку на тренировочную часть и тестовую"
      ]
    },
    {
      "cell_type": "code",
      "execution_count": null,
      "id": "15b58f41",
      "metadata": {
        "id": "15b58f41",
        "outputId": "9a50a01d-4f22-4534-ff3a-320005394a03"
      },
      "outputs": [
        {
          "data": {
            "text/plain": [
              "(596, 10)"
            ]
          },
          "execution_count": 18,
          "metadata": {},
          "output_type": "execute_result"
        }
      ],
      "source": [
        "X_train.shape"
      ]
    },
    {
      "cell_type": "code",
      "execution_count": null,
      "id": "6542ceba",
      "metadata": {
        "id": "6542ceba",
        "outputId": "6fb33767-c752-4c35-f9ef-f6bfa28f778f"
      },
      "outputs": [
        {
          "data": {
            "text/plain": [
              "(295, 10)"
            ]
          },
          "execution_count": 19,
          "metadata": {},
          "output_type": "execute_result"
        }
      ],
      "source": [
        "X_test.shape"
      ]
    },
    {
      "cell_type": "code",
      "execution_count": null,
      "id": "1d2324eb",
      "metadata": {
        "id": "1d2324eb",
        "outputId": "286b6173-0671-4774-a85a-13812eb3b7c1"
      },
      "outputs": [
        {
          "data": {
            "text/html": [
              "<style>#sk-container-id-2 {color: black;background-color: white;}#sk-container-id-2 pre{padding: 0;}#sk-container-id-2 div.sk-toggleable {background-color: white;}#sk-container-id-2 label.sk-toggleable__label {cursor: pointer;display: block;width: 100%;margin-bottom: 0;padding: 0.3em;box-sizing: border-box;text-align: center;}#sk-container-id-2 label.sk-toggleable__label-arrow:before {content: \"▸\";float: left;margin-right: 0.25em;color: #696969;}#sk-container-id-2 label.sk-toggleable__label-arrow:hover:before {color: black;}#sk-container-id-2 div.sk-estimator:hover label.sk-toggleable__label-arrow:before {color: black;}#sk-container-id-2 div.sk-toggleable__content {max-height: 0;max-width: 0;overflow: hidden;text-align: left;background-color: #f0f8ff;}#sk-container-id-2 div.sk-toggleable__content pre {margin: 0.2em;color: black;border-radius: 0.25em;background-color: #f0f8ff;}#sk-container-id-2 input.sk-toggleable__control:checked~div.sk-toggleable__content {max-height: 200px;max-width: 100%;overflow: auto;}#sk-container-id-2 input.sk-toggleable__control:checked~label.sk-toggleable__label-arrow:before {content: \"▾\";}#sk-container-id-2 div.sk-estimator input.sk-toggleable__control:checked~label.sk-toggleable__label {background-color: #d4ebff;}#sk-container-id-2 div.sk-label input.sk-toggleable__control:checked~label.sk-toggleable__label {background-color: #d4ebff;}#sk-container-id-2 input.sk-hidden--visually {border: 0;clip: rect(1px 1px 1px 1px);clip: rect(1px, 1px, 1px, 1px);height: 1px;margin: -1px;overflow: hidden;padding: 0;position: absolute;width: 1px;}#sk-container-id-2 div.sk-estimator {font-family: monospace;background-color: #f0f8ff;border: 1px dotted black;border-radius: 0.25em;box-sizing: border-box;margin-bottom: 0.5em;}#sk-container-id-2 div.sk-estimator:hover {background-color: #d4ebff;}#sk-container-id-2 div.sk-parallel-item::after {content: \"\";width: 100%;border-bottom: 1px solid gray;flex-grow: 1;}#sk-container-id-2 div.sk-label:hover label.sk-toggleable__label {background-color: #d4ebff;}#sk-container-id-2 div.sk-serial::before {content: \"\";position: absolute;border-left: 1px solid gray;box-sizing: border-box;top: 0;bottom: 0;left: 50%;z-index: 0;}#sk-container-id-2 div.sk-serial {display: flex;flex-direction: column;align-items: center;background-color: white;padding-right: 0.2em;padding-left: 0.2em;position: relative;}#sk-container-id-2 div.sk-item {position: relative;z-index: 1;}#sk-container-id-2 div.sk-parallel {display: flex;align-items: stretch;justify-content: center;background-color: white;position: relative;}#sk-container-id-2 div.sk-item::before, #sk-container-id-2 div.sk-parallel-item::before {content: \"\";position: absolute;border-left: 1px solid gray;box-sizing: border-box;top: 0;bottom: 0;left: 50%;z-index: -1;}#sk-container-id-2 div.sk-parallel-item {display: flex;flex-direction: column;z-index: 1;position: relative;background-color: white;}#sk-container-id-2 div.sk-parallel-item:first-child::after {align-self: flex-end;width: 50%;}#sk-container-id-2 div.sk-parallel-item:last-child::after {align-self: flex-start;width: 50%;}#sk-container-id-2 div.sk-parallel-item:only-child::after {width: 0;}#sk-container-id-2 div.sk-dashed-wrapped {border: 1px dashed gray;margin: 0 0.4em 0.5em 0.4em;box-sizing: border-box;padding-bottom: 0.4em;background-color: white;}#sk-container-id-2 div.sk-label label {font-family: monospace;font-weight: bold;display: inline-block;line-height: 1.2em;}#sk-container-id-2 div.sk-label-container {text-align: center;}#sk-container-id-2 div.sk-container {/* jupyter's `normalize.less` sets `[hidden] { display: none; }` but bootstrap.min.css set `[hidden] { display: none !important; }` so we also need the `!important` here to be able to override the default hidden behavior on the sphinx rendered scikit-learn.org. See: https://github.com/scikit-learn/scikit-learn/issues/21755 */display: inline-block !important;position: relative;}#sk-container-id-2 div.sk-text-repr-fallback {display: none;}</style><div id=\"sk-container-id-2\" class=\"sk-top-container\"><div class=\"sk-text-repr-fallback\"><pre>DecisionTreeClassifier()</pre><b>In a Jupyter environment, please rerun this cell to show the HTML representation or trust the notebook. <br />On GitHub, the HTML representation is unable to render, please try loading this page with nbviewer.org.</b></div><div class=\"sk-container\" hidden><div class=\"sk-item\"><div class=\"sk-estimator sk-toggleable\"><input class=\"sk-toggleable__control sk-hidden--visually\" id=\"sk-estimator-id-2\" type=\"checkbox\" checked><label for=\"sk-estimator-id-2\" class=\"sk-toggleable__label sk-toggleable__label-arrow\">DecisionTreeClassifier</label><div class=\"sk-toggleable__content\"><pre>DecisionTreeClassifier()</pre></div></div></div></div></div>"
            ],
            "text/plain": [
              "DecisionTreeClassifier()"
            ]
          },
          "execution_count": 20,
          "metadata": {},
          "output_type": "execute_result"
        }
      ],
      "source": [
        "clf.fit(X_train, y_train)"
      ]
    },
    {
      "cell_type": "code",
      "execution_count": null,
      "id": "d1ef62f6",
      "metadata": {
        "id": "d1ef62f6",
        "outputId": "77983e91-33ea-4d2e-ee19-a450ab459fd0"
      },
      "outputs": [
        {
          "data": {
            "text/plain": [
              "0.7288135593220338"
            ]
          },
          "execution_count": 21,
          "metadata": {},
          "output_type": "execute_result"
        }
      ],
      "source": [
        "clf.score(X_test,y_test)"
      ]
    },
    {
      "cell_type": "code",
      "execution_count": null,
      "id": "8ee54f40",
      "metadata": {
        "id": "8ee54f40"
      },
      "outputs": [],
      "source": [
        "clf = tree.DecisionTreeClassifier(criterion='entropy', max_depth=5)"
      ]
    },
    {
      "cell_type": "code",
      "execution_count": null,
      "id": "e63470e3",
      "metadata": {
        "id": "e63470e3"
      },
      "outputs": [],
      "source": [
        "max_depth_values = range(1,100)"
      ]
    },
    {
      "cell_type": "code",
      "execution_count": null,
      "id": "3eeb0197",
      "metadata": {
        "id": "3eeb0197"
      },
      "outputs": [],
      "source": [
        "scores_data = pd.DataFrame()"
      ]
    },
    {
      "cell_type": "code",
      "execution_count": null,
      "id": "daed0c9b",
      "metadata": {
        "id": "daed0c9b",
        "outputId": "84f5a93c-f5cf-4ca6-a695-0c00a517f6b0"
      },
      "outputs": [
        {
          "data": {
            "text/plain": [
              "0.8003921568627451"
            ]
          },
          "execution_count": 25,
          "metadata": {},
          "output_type": "execute_result"
        }
      ],
      "source": [
        "cross_val_score(clf,X_train, y_train, cv=5).mean()\n",
        "#разбиваем все точки на 5 групп и считаем их как тест и трейн"
      ]
    },
    {
      "cell_type": "code",
      "execution_count": null,
      "id": "32d7774c",
      "metadata": {
        "collapsed": true,
        "id": "32d7774c",
        "outputId": "4ca8b665-e812-42bf-eaf8-3e2a0b1a691c"
      },
      "outputs": [
        {
          "name": "stderr",
          "output_type": "stream",
          "text": [
            "C:\\Users\\Kristina\\AppData\\Local\\Temp\\ipykernel_14212\\3033521014.py:13: FutureWarning: The frame.append method is deprecated and will be removed from pandas in a future version. Use pandas.concat instead.\n",
            "  scores_data = scores_data.append(temp_score_data)\n",
            "C:\\Users\\Kristina\\AppData\\Local\\Temp\\ipykernel_14212\\3033521014.py:13: FutureWarning: The frame.append method is deprecated and will be removed from pandas in a future version. Use pandas.concat instead.\n",
            "  scores_data = scores_data.append(temp_score_data)\n",
            "C:\\Users\\Kristina\\AppData\\Local\\Temp\\ipykernel_14212\\3033521014.py:13: FutureWarning: The frame.append method is deprecated and will be removed from pandas in a future version. Use pandas.concat instead.\n",
            "  scores_data = scores_data.append(temp_score_data)\n",
            "C:\\Users\\Kristina\\AppData\\Local\\Temp\\ipykernel_14212\\3033521014.py:13: FutureWarning: The frame.append method is deprecated and will be removed from pandas in a future version. Use pandas.concat instead.\n",
            "  scores_data = scores_data.append(temp_score_data)\n",
            "C:\\Users\\Kristina\\AppData\\Local\\Temp\\ipykernel_14212\\3033521014.py:13: FutureWarning: The frame.append method is deprecated and will be removed from pandas in a future version. Use pandas.concat instead.\n",
            "  scores_data = scores_data.append(temp_score_data)\n",
            "C:\\Users\\Kristina\\AppData\\Local\\Temp\\ipykernel_14212\\3033521014.py:13: FutureWarning: The frame.append method is deprecated and will be removed from pandas in a future version. Use pandas.concat instead.\n",
            "  scores_data = scores_data.append(temp_score_data)\n",
            "C:\\Users\\Kristina\\AppData\\Local\\Temp\\ipykernel_14212\\3033521014.py:13: FutureWarning: The frame.append method is deprecated and will be removed from pandas in a future version. Use pandas.concat instead.\n",
            "  scores_data = scores_data.append(temp_score_data)\n",
            "C:\\Users\\Kristina\\AppData\\Local\\Temp\\ipykernel_14212\\3033521014.py:13: FutureWarning: The frame.append method is deprecated and will be removed from pandas in a future version. Use pandas.concat instead.\n",
            "  scores_data = scores_data.append(temp_score_data)\n",
            "C:\\Users\\Kristina\\AppData\\Local\\Temp\\ipykernel_14212\\3033521014.py:13: FutureWarning: The frame.append method is deprecated and will be removed from pandas in a future version. Use pandas.concat instead.\n",
            "  scores_data = scores_data.append(temp_score_data)\n",
            "C:\\Users\\Kristina\\AppData\\Local\\Temp\\ipykernel_14212\\3033521014.py:13: FutureWarning: The frame.append method is deprecated and will be removed from pandas in a future version. Use pandas.concat instead.\n",
            "  scores_data = scores_data.append(temp_score_data)\n",
            "C:\\Users\\Kristina\\AppData\\Local\\Temp\\ipykernel_14212\\3033521014.py:13: FutureWarning: The frame.append method is deprecated and will be removed from pandas in a future version. Use pandas.concat instead.\n",
            "  scores_data = scores_data.append(temp_score_data)\n",
            "C:\\Users\\Kristina\\AppData\\Local\\Temp\\ipykernel_14212\\3033521014.py:13: FutureWarning: The frame.append method is deprecated and will be removed from pandas in a future version. Use pandas.concat instead.\n",
            "  scores_data = scores_data.append(temp_score_data)\n",
            "C:\\Users\\Kristina\\AppData\\Local\\Temp\\ipykernel_14212\\3033521014.py:13: FutureWarning: The frame.append method is deprecated and will be removed from pandas in a future version. Use pandas.concat instead.\n",
            "  scores_data = scores_data.append(temp_score_data)\n",
            "C:\\Users\\Kristina\\AppData\\Local\\Temp\\ipykernel_14212\\3033521014.py:13: FutureWarning: The frame.append method is deprecated and will be removed from pandas in a future version. Use pandas.concat instead.\n",
            "  scores_data = scores_data.append(temp_score_data)\n",
            "C:\\Users\\Kristina\\AppData\\Local\\Temp\\ipykernel_14212\\3033521014.py:13: FutureWarning: The frame.append method is deprecated and will be removed from pandas in a future version. Use pandas.concat instead.\n",
            "  scores_data = scores_data.append(temp_score_data)\n",
            "C:\\Users\\Kristina\\AppData\\Local\\Temp\\ipykernel_14212\\3033521014.py:13: FutureWarning: The frame.append method is deprecated and will be removed from pandas in a future version. Use pandas.concat instead.\n",
            "  scores_data = scores_data.append(temp_score_data)\n",
            "C:\\Users\\Kristina\\AppData\\Local\\Temp\\ipykernel_14212\\3033521014.py:13: FutureWarning: The frame.append method is deprecated and will be removed from pandas in a future version. Use pandas.concat instead.\n",
            "  scores_data = scores_data.append(temp_score_data)\n",
            "C:\\Users\\Kristina\\AppData\\Local\\Temp\\ipykernel_14212\\3033521014.py:13: FutureWarning: The frame.append method is deprecated and will be removed from pandas in a future version. Use pandas.concat instead.\n",
            "  scores_data = scores_data.append(temp_score_data)\n",
            "C:\\Users\\Kristina\\AppData\\Local\\Temp\\ipykernel_14212\\3033521014.py:13: FutureWarning: The frame.append method is deprecated and will be removed from pandas in a future version. Use pandas.concat instead.\n",
            "  scores_data = scores_data.append(temp_score_data)\n",
            "C:\\Users\\Kristina\\AppData\\Local\\Temp\\ipykernel_14212\\3033521014.py:13: FutureWarning: The frame.append method is deprecated and will be removed from pandas in a future version. Use pandas.concat instead.\n",
            "  scores_data = scores_data.append(temp_score_data)\n",
            "C:\\Users\\Kristina\\AppData\\Local\\Temp\\ipykernel_14212\\3033521014.py:13: FutureWarning: The frame.append method is deprecated and will be removed from pandas in a future version. Use pandas.concat instead.\n",
            "  scores_data = scores_data.append(temp_score_data)\n",
            "C:\\Users\\Kristina\\AppData\\Local\\Temp\\ipykernel_14212\\3033521014.py:13: FutureWarning: The frame.append method is deprecated and will be removed from pandas in a future version. Use pandas.concat instead.\n",
            "  scores_data = scores_data.append(temp_score_data)\n",
            "C:\\Users\\Kristina\\AppData\\Local\\Temp\\ipykernel_14212\\3033521014.py:13: FutureWarning: The frame.append method is deprecated and will be removed from pandas in a future version. Use pandas.concat instead.\n",
            "  scores_data = scores_data.append(temp_score_data)\n",
            "C:\\Users\\Kristina\\AppData\\Local\\Temp\\ipykernel_14212\\3033521014.py:13: FutureWarning: The frame.append method is deprecated and will be removed from pandas in a future version. Use pandas.concat instead.\n",
            "  scores_data = scores_data.append(temp_score_data)\n",
            "C:\\Users\\Kristina\\AppData\\Local\\Temp\\ipykernel_14212\\3033521014.py:13: FutureWarning: The frame.append method is deprecated and will be removed from pandas in a future version. Use pandas.concat instead.\n",
            "  scores_data = scores_data.append(temp_score_data)\n",
            "C:\\Users\\Kristina\\AppData\\Local\\Temp\\ipykernel_14212\\3033521014.py:13: FutureWarning: The frame.append method is deprecated and will be removed from pandas in a future version. Use pandas.concat instead.\n",
            "  scores_data = scores_data.append(temp_score_data)\n",
            "C:\\Users\\Kristina\\AppData\\Local\\Temp\\ipykernel_14212\\3033521014.py:13: FutureWarning: The frame.append method is deprecated and will be removed from pandas in a future version. Use pandas.concat instead.\n",
            "  scores_data = scores_data.append(temp_score_data)\n",
            "C:\\Users\\Kristina\\AppData\\Local\\Temp\\ipykernel_14212\\3033521014.py:13: FutureWarning: The frame.append method is deprecated and will be removed from pandas in a future version. Use pandas.concat instead.\n",
            "  scores_data = scores_data.append(temp_score_data)\n",
            "C:\\Users\\Kristina\\AppData\\Local\\Temp\\ipykernel_14212\\3033521014.py:13: FutureWarning: The frame.append method is deprecated and will be removed from pandas in a future version. Use pandas.concat instead.\n",
            "  scores_data = scores_data.append(temp_score_data)\n",
            "C:\\Users\\Kristina\\AppData\\Local\\Temp\\ipykernel_14212\\3033521014.py:13: FutureWarning: The frame.append method is deprecated and will be removed from pandas in a future version. Use pandas.concat instead.\n",
            "  scores_data = scores_data.append(temp_score_data)\n",
            "C:\\Users\\Kristina\\AppData\\Local\\Temp\\ipykernel_14212\\3033521014.py:13: FutureWarning: The frame.append method is deprecated and will be removed from pandas in a future version. Use pandas.concat instead.\n",
            "  scores_data = scores_data.append(temp_score_data)\n",
            "C:\\Users\\Kristina\\AppData\\Local\\Temp\\ipykernel_14212\\3033521014.py:13: FutureWarning: The frame.append method is deprecated and will be removed from pandas in a future version. Use pandas.concat instead.\n",
            "  scores_data = scores_data.append(temp_score_data)\n",
            "C:\\Users\\Kristina\\AppData\\Local\\Temp\\ipykernel_14212\\3033521014.py:13: FutureWarning: The frame.append method is deprecated and will be removed from pandas in a future version. Use pandas.concat instead.\n",
            "  scores_data = scores_data.append(temp_score_data)\n",
            "C:\\Users\\Kristina\\AppData\\Local\\Temp\\ipykernel_14212\\3033521014.py:13: FutureWarning: The frame.append method is deprecated and will be removed from pandas in a future version. Use pandas.concat instead.\n",
            "  scores_data = scores_data.append(temp_score_data)\n",
            "C:\\Users\\Kristina\\AppData\\Local\\Temp\\ipykernel_14212\\3033521014.py:13: FutureWarning: The frame.append method is deprecated and will be removed from pandas in a future version. Use pandas.concat instead.\n",
            "  scores_data = scores_data.append(temp_score_data)\n",
            "C:\\Users\\Kristina\\AppData\\Local\\Temp\\ipykernel_14212\\3033521014.py:13: FutureWarning: The frame.append method is deprecated and will be removed from pandas in a future version. Use pandas.concat instead.\n",
            "  scores_data = scores_data.append(temp_score_data)\n",
            "C:\\Users\\Kristina\\AppData\\Local\\Temp\\ipykernel_14212\\3033521014.py:13: FutureWarning: The frame.append method is deprecated and will be removed from pandas in a future version. Use pandas.concat instead.\n",
            "  scores_data = scores_data.append(temp_score_data)\n",
            "C:\\Users\\Kristina\\AppData\\Local\\Temp\\ipykernel_14212\\3033521014.py:13: FutureWarning: The frame.append method is deprecated and will be removed from pandas in a future version. Use pandas.concat instead.\n",
            "  scores_data = scores_data.append(temp_score_data)\n"
          ]
        },
        {
          "name": "stderr",
          "output_type": "stream",
          "text": [
            "C:\\Users\\Kristina\\AppData\\Local\\Temp\\ipykernel_14212\\3033521014.py:13: FutureWarning: The frame.append method is deprecated and will be removed from pandas in a future version. Use pandas.concat instead.\n",
            "  scores_data = scores_data.append(temp_score_data)\n",
            "C:\\Users\\Kristina\\AppData\\Local\\Temp\\ipykernel_14212\\3033521014.py:13: FutureWarning: The frame.append method is deprecated and will be removed from pandas in a future version. Use pandas.concat instead.\n",
            "  scores_data = scores_data.append(temp_score_data)\n",
            "C:\\Users\\Kristina\\AppData\\Local\\Temp\\ipykernel_14212\\3033521014.py:13: FutureWarning: The frame.append method is deprecated and will be removed from pandas in a future version. Use pandas.concat instead.\n",
            "  scores_data = scores_data.append(temp_score_data)\n",
            "C:\\Users\\Kristina\\AppData\\Local\\Temp\\ipykernel_14212\\3033521014.py:13: FutureWarning: The frame.append method is deprecated and will be removed from pandas in a future version. Use pandas.concat instead.\n",
            "  scores_data = scores_data.append(temp_score_data)\n",
            "C:\\Users\\Kristina\\AppData\\Local\\Temp\\ipykernel_14212\\3033521014.py:13: FutureWarning: The frame.append method is deprecated and will be removed from pandas in a future version. Use pandas.concat instead.\n",
            "  scores_data = scores_data.append(temp_score_data)\n",
            "C:\\Users\\Kristina\\AppData\\Local\\Temp\\ipykernel_14212\\3033521014.py:13: FutureWarning: The frame.append method is deprecated and will be removed from pandas in a future version. Use pandas.concat instead.\n",
            "  scores_data = scores_data.append(temp_score_data)\n",
            "C:\\Users\\Kristina\\AppData\\Local\\Temp\\ipykernel_14212\\3033521014.py:13: FutureWarning: The frame.append method is deprecated and will be removed from pandas in a future version. Use pandas.concat instead.\n",
            "  scores_data = scores_data.append(temp_score_data)\n",
            "C:\\Users\\Kristina\\AppData\\Local\\Temp\\ipykernel_14212\\3033521014.py:13: FutureWarning: The frame.append method is deprecated and will be removed from pandas in a future version. Use pandas.concat instead.\n",
            "  scores_data = scores_data.append(temp_score_data)\n",
            "C:\\Users\\Kristina\\AppData\\Local\\Temp\\ipykernel_14212\\3033521014.py:13: FutureWarning: The frame.append method is deprecated and will be removed from pandas in a future version. Use pandas.concat instead.\n",
            "  scores_data = scores_data.append(temp_score_data)\n",
            "C:\\Users\\Kristina\\AppData\\Local\\Temp\\ipykernel_14212\\3033521014.py:13: FutureWarning: The frame.append method is deprecated and will be removed from pandas in a future version. Use pandas.concat instead.\n",
            "  scores_data = scores_data.append(temp_score_data)\n",
            "C:\\Users\\Kristina\\AppData\\Local\\Temp\\ipykernel_14212\\3033521014.py:13: FutureWarning: The frame.append method is deprecated and will be removed from pandas in a future version. Use pandas.concat instead.\n",
            "  scores_data = scores_data.append(temp_score_data)\n",
            "C:\\Users\\Kristina\\AppData\\Local\\Temp\\ipykernel_14212\\3033521014.py:13: FutureWarning: The frame.append method is deprecated and will be removed from pandas in a future version. Use pandas.concat instead.\n",
            "  scores_data = scores_data.append(temp_score_data)\n",
            "C:\\Users\\Kristina\\AppData\\Local\\Temp\\ipykernel_14212\\3033521014.py:13: FutureWarning: The frame.append method is deprecated and will be removed from pandas in a future version. Use pandas.concat instead.\n",
            "  scores_data = scores_data.append(temp_score_data)\n",
            "C:\\Users\\Kristina\\AppData\\Local\\Temp\\ipykernel_14212\\3033521014.py:13: FutureWarning: The frame.append method is deprecated and will be removed from pandas in a future version. Use pandas.concat instead.\n",
            "  scores_data = scores_data.append(temp_score_data)\n",
            "C:\\Users\\Kristina\\AppData\\Local\\Temp\\ipykernel_14212\\3033521014.py:13: FutureWarning: The frame.append method is deprecated and will be removed from pandas in a future version. Use pandas.concat instead.\n",
            "  scores_data = scores_data.append(temp_score_data)\n",
            "C:\\Users\\Kristina\\AppData\\Local\\Temp\\ipykernel_14212\\3033521014.py:13: FutureWarning: The frame.append method is deprecated and will be removed from pandas in a future version. Use pandas.concat instead.\n",
            "  scores_data = scores_data.append(temp_score_data)\n",
            "C:\\Users\\Kristina\\AppData\\Local\\Temp\\ipykernel_14212\\3033521014.py:13: FutureWarning: The frame.append method is deprecated and will be removed from pandas in a future version. Use pandas.concat instead.\n",
            "  scores_data = scores_data.append(temp_score_data)\n",
            "C:\\Users\\Kristina\\AppData\\Local\\Temp\\ipykernel_14212\\3033521014.py:13: FutureWarning: The frame.append method is deprecated and will be removed from pandas in a future version. Use pandas.concat instead.\n",
            "  scores_data = scores_data.append(temp_score_data)\n",
            "C:\\Users\\Kristina\\AppData\\Local\\Temp\\ipykernel_14212\\3033521014.py:13: FutureWarning: The frame.append method is deprecated and will be removed from pandas in a future version. Use pandas.concat instead.\n",
            "  scores_data = scores_data.append(temp_score_data)\n",
            "C:\\Users\\Kristina\\AppData\\Local\\Temp\\ipykernel_14212\\3033521014.py:13: FutureWarning: The frame.append method is deprecated and will be removed from pandas in a future version. Use pandas.concat instead.\n",
            "  scores_data = scores_data.append(temp_score_data)\n",
            "C:\\Users\\Kristina\\AppData\\Local\\Temp\\ipykernel_14212\\3033521014.py:13: FutureWarning: The frame.append method is deprecated and will be removed from pandas in a future version. Use pandas.concat instead.\n",
            "  scores_data = scores_data.append(temp_score_data)\n",
            "C:\\Users\\Kristina\\AppData\\Local\\Temp\\ipykernel_14212\\3033521014.py:13: FutureWarning: The frame.append method is deprecated and will be removed from pandas in a future version. Use pandas.concat instead.\n",
            "  scores_data = scores_data.append(temp_score_data)\n",
            "C:\\Users\\Kristina\\AppData\\Local\\Temp\\ipykernel_14212\\3033521014.py:13: FutureWarning: The frame.append method is deprecated and will be removed from pandas in a future version. Use pandas.concat instead.\n",
            "  scores_data = scores_data.append(temp_score_data)\n",
            "C:\\Users\\Kristina\\AppData\\Local\\Temp\\ipykernel_14212\\3033521014.py:13: FutureWarning: The frame.append method is deprecated and will be removed from pandas in a future version. Use pandas.concat instead.\n",
            "  scores_data = scores_data.append(temp_score_data)\n",
            "C:\\Users\\Kristina\\AppData\\Local\\Temp\\ipykernel_14212\\3033521014.py:13: FutureWarning: The frame.append method is deprecated and will be removed from pandas in a future version. Use pandas.concat instead.\n",
            "  scores_data = scores_data.append(temp_score_data)\n",
            "C:\\Users\\Kristina\\AppData\\Local\\Temp\\ipykernel_14212\\3033521014.py:13: FutureWarning: The frame.append method is deprecated and will be removed from pandas in a future version. Use pandas.concat instead.\n",
            "  scores_data = scores_data.append(temp_score_data)\n",
            "C:\\Users\\Kristina\\AppData\\Local\\Temp\\ipykernel_14212\\3033521014.py:13: FutureWarning: The frame.append method is deprecated and will be removed from pandas in a future version. Use pandas.concat instead.\n",
            "  scores_data = scores_data.append(temp_score_data)\n",
            "C:\\Users\\Kristina\\AppData\\Local\\Temp\\ipykernel_14212\\3033521014.py:13: FutureWarning: The frame.append method is deprecated and will be removed from pandas in a future version. Use pandas.concat instead.\n",
            "  scores_data = scores_data.append(temp_score_data)\n",
            "C:\\Users\\Kristina\\AppData\\Local\\Temp\\ipykernel_14212\\3033521014.py:13: FutureWarning: The frame.append method is deprecated and will be removed from pandas in a future version. Use pandas.concat instead.\n",
            "  scores_data = scores_data.append(temp_score_data)\n",
            "C:\\Users\\Kristina\\AppData\\Local\\Temp\\ipykernel_14212\\3033521014.py:13: FutureWarning: The frame.append method is deprecated and will be removed from pandas in a future version. Use pandas.concat instead.\n",
            "  scores_data = scores_data.append(temp_score_data)\n",
            "C:\\Users\\Kristina\\AppData\\Local\\Temp\\ipykernel_14212\\3033521014.py:13: FutureWarning: The frame.append method is deprecated and will be removed from pandas in a future version. Use pandas.concat instead.\n",
            "  scores_data = scores_data.append(temp_score_data)\n",
            "C:\\Users\\Kristina\\AppData\\Local\\Temp\\ipykernel_14212\\3033521014.py:13: FutureWarning: The frame.append method is deprecated and will be removed from pandas in a future version. Use pandas.concat instead.\n",
            "  scores_data = scores_data.append(temp_score_data)\n",
            "C:\\Users\\Kristina\\AppData\\Local\\Temp\\ipykernel_14212\\3033521014.py:13: FutureWarning: The frame.append method is deprecated and will be removed from pandas in a future version. Use pandas.concat instead.\n",
            "  scores_data = scores_data.append(temp_score_data)\n",
            "C:\\Users\\Kristina\\AppData\\Local\\Temp\\ipykernel_14212\\3033521014.py:13: FutureWarning: The frame.append method is deprecated and will be removed from pandas in a future version. Use pandas.concat instead.\n",
            "  scores_data = scores_data.append(temp_score_data)\n",
            "C:\\Users\\Kristina\\AppData\\Local\\Temp\\ipykernel_14212\\3033521014.py:13: FutureWarning: The frame.append method is deprecated and will be removed from pandas in a future version. Use pandas.concat instead.\n",
            "  scores_data = scores_data.append(temp_score_data)\n",
            "C:\\Users\\Kristina\\AppData\\Local\\Temp\\ipykernel_14212\\3033521014.py:13: FutureWarning: The frame.append method is deprecated and will be removed from pandas in a future version. Use pandas.concat instead.\n",
            "  scores_data = scores_data.append(temp_score_data)\n",
            "C:\\Users\\Kristina\\AppData\\Local\\Temp\\ipykernel_14212\\3033521014.py:13: FutureWarning: The frame.append method is deprecated and will be removed from pandas in a future version. Use pandas.concat instead.\n",
            "  scores_data = scores_data.append(temp_score_data)\n"
          ]
        },
        {
          "name": "stderr",
          "output_type": "stream",
          "text": [
            "C:\\Users\\Kristina\\AppData\\Local\\Temp\\ipykernel_14212\\3033521014.py:13: FutureWarning: The frame.append method is deprecated and will be removed from pandas in a future version. Use pandas.concat instead.\n",
            "  scores_data = scores_data.append(temp_score_data)\n",
            "C:\\Users\\Kristina\\AppData\\Local\\Temp\\ipykernel_14212\\3033521014.py:13: FutureWarning: The frame.append method is deprecated and will be removed from pandas in a future version. Use pandas.concat instead.\n",
            "  scores_data = scores_data.append(temp_score_data)\n",
            "C:\\Users\\Kristina\\AppData\\Local\\Temp\\ipykernel_14212\\3033521014.py:13: FutureWarning: The frame.append method is deprecated and will be removed from pandas in a future version. Use pandas.concat instead.\n",
            "  scores_data = scores_data.append(temp_score_data)\n",
            "C:\\Users\\Kristina\\AppData\\Local\\Temp\\ipykernel_14212\\3033521014.py:13: FutureWarning: The frame.append method is deprecated and will be removed from pandas in a future version. Use pandas.concat instead.\n",
            "  scores_data = scores_data.append(temp_score_data)\n",
            "C:\\Users\\Kristina\\AppData\\Local\\Temp\\ipykernel_14212\\3033521014.py:13: FutureWarning: The frame.append method is deprecated and will be removed from pandas in a future version. Use pandas.concat instead.\n",
            "  scores_data = scores_data.append(temp_score_data)\n",
            "C:\\Users\\Kristina\\AppData\\Local\\Temp\\ipykernel_14212\\3033521014.py:13: FutureWarning: The frame.append method is deprecated and will be removed from pandas in a future version. Use pandas.concat instead.\n",
            "  scores_data = scores_data.append(temp_score_data)\n",
            "C:\\Users\\Kristina\\AppData\\Local\\Temp\\ipykernel_14212\\3033521014.py:13: FutureWarning: The frame.append method is deprecated and will be removed from pandas in a future version. Use pandas.concat instead.\n",
            "  scores_data = scores_data.append(temp_score_data)\n",
            "C:\\Users\\Kristina\\AppData\\Local\\Temp\\ipykernel_14212\\3033521014.py:13: FutureWarning: The frame.append method is deprecated and will be removed from pandas in a future version. Use pandas.concat instead.\n",
            "  scores_data = scores_data.append(temp_score_data)\n",
            "C:\\Users\\Kristina\\AppData\\Local\\Temp\\ipykernel_14212\\3033521014.py:13: FutureWarning: The frame.append method is deprecated and will be removed from pandas in a future version. Use pandas.concat instead.\n",
            "  scores_data = scores_data.append(temp_score_data)\n",
            "C:\\Users\\Kristina\\AppData\\Local\\Temp\\ipykernel_14212\\3033521014.py:13: FutureWarning: The frame.append method is deprecated and will be removed from pandas in a future version. Use pandas.concat instead.\n",
            "  scores_data = scores_data.append(temp_score_data)\n",
            "C:\\Users\\Kristina\\AppData\\Local\\Temp\\ipykernel_14212\\3033521014.py:13: FutureWarning: The frame.append method is deprecated and will be removed from pandas in a future version. Use pandas.concat instead.\n",
            "  scores_data = scores_data.append(temp_score_data)\n",
            "C:\\Users\\Kristina\\AppData\\Local\\Temp\\ipykernel_14212\\3033521014.py:13: FutureWarning: The frame.append method is deprecated and will be removed from pandas in a future version. Use pandas.concat instead.\n",
            "  scores_data = scores_data.append(temp_score_data)\n",
            "C:\\Users\\Kristina\\AppData\\Local\\Temp\\ipykernel_14212\\3033521014.py:13: FutureWarning: The frame.append method is deprecated and will be removed from pandas in a future version. Use pandas.concat instead.\n",
            "  scores_data = scores_data.append(temp_score_data)\n",
            "C:\\Users\\Kristina\\AppData\\Local\\Temp\\ipykernel_14212\\3033521014.py:13: FutureWarning: The frame.append method is deprecated and will be removed from pandas in a future version. Use pandas.concat instead.\n",
            "  scores_data = scores_data.append(temp_score_data)\n",
            "C:\\Users\\Kristina\\AppData\\Local\\Temp\\ipykernel_14212\\3033521014.py:13: FutureWarning: The frame.append method is deprecated and will be removed from pandas in a future version. Use pandas.concat instead.\n",
            "  scores_data = scores_data.append(temp_score_data)\n",
            "C:\\Users\\Kristina\\AppData\\Local\\Temp\\ipykernel_14212\\3033521014.py:13: FutureWarning: The frame.append method is deprecated and will be removed from pandas in a future version. Use pandas.concat instead.\n",
            "  scores_data = scores_data.append(temp_score_data)\n",
            "C:\\Users\\Kristina\\AppData\\Local\\Temp\\ipykernel_14212\\3033521014.py:13: FutureWarning: The frame.append method is deprecated and will be removed from pandas in a future version. Use pandas.concat instead.\n",
            "  scores_data = scores_data.append(temp_score_data)\n",
            "C:\\Users\\Kristina\\AppData\\Local\\Temp\\ipykernel_14212\\3033521014.py:13: FutureWarning: The frame.append method is deprecated and will be removed from pandas in a future version. Use pandas.concat instead.\n",
            "  scores_data = scores_data.append(temp_score_data)\n",
            "C:\\Users\\Kristina\\AppData\\Local\\Temp\\ipykernel_14212\\3033521014.py:13: FutureWarning: The frame.append method is deprecated and will be removed from pandas in a future version. Use pandas.concat instead.\n",
            "  scores_data = scores_data.append(temp_score_data)\n",
            "C:\\Users\\Kristina\\AppData\\Local\\Temp\\ipykernel_14212\\3033521014.py:13: FutureWarning: The frame.append method is deprecated and will be removed from pandas in a future version. Use pandas.concat instead.\n",
            "  scores_data = scores_data.append(temp_score_data)\n",
            "C:\\Users\\Kristina\\AppData\\Local\\Temp\\ipykernel_14212\\3033521014.py:13: FutureWarning: The frame.append method is deprecated and will be removed from pandas in a future version. Use pandas.concat instead.\n",
            "  scores_data = scores_data.append(temp_score_data)\n",
            "C:\\Users\\Kristina\\AppData\\Local\\Temp\\ipykernel_14212\\3033521014.py:13: FutureWarning: The frame.append method is deprecated and will be removed from pandas in a future version. Use pandas.concat instead.\n",
            "  scores_data = scores_data.append(temp_score_data)\n",
            "C:\\Users\\Kristina\\AppData\\Local\\Temp\\ipykernel_14212\\3033521014.py:13: FutureWarning: The frame.append method is deprecated and will be removed from pandas in a future version. Use pandas.concat instead.\n",
            "  scores_data = scores_data.append(temp_score_data)\n",
            "C:\\Users\\Kristina\\AppData\\Local\\Temp\\ipykernel_14212\\3033521014.py:13: FutureWarning: The frame.append method is deprecated and will be removed from pandas in a future version. Use pandas.concat instead.\n",
            "  scores_data = scores_data.append(temp_score_data)\n"
          ]
        }
      ],
      "source": [
        "for max_depth in max_depth_values:\n",
        "    clf = tree.DecisionTreeClassifier(criterion='entropy', max_depth=max_depth)\n",
        "    clf.fit(X_train, y_train)\n",
        "    train_score = clf.score(X_train, y_train)\n",
        "    test_score = clf.score(X_test,y_test)\n",
        "\n",
        "    mean_cross_val_score = cross_val_score(clf,X_train, y_train, cv=5).mean()\n",
        "    #записываем среднее значение и при кросс валидации\n",
        "    temp_score_data = pd.DataFrame({'max_depth': [max_depth],\n",
        "                                    'train_score': [train_score],\n",
        "                                    'test_score': [test_score],\n",
        "                                    'cross_val_score': [mean_cross_val_score]})\n",
        "    scores_data = scores_data.append(temp_score_data)\n",
        "# Прогоняем углубление дерева решения и для каждого варианта записываем дф"
      ]
    },
    {
      "cell_type": "code",
      "execution_count": null,
      "id": "65bd9503",
      "metadata": {
        "id": "65bd9503",
        "outputId": "178302ef-c418-4ed9-b309-92179ae27d8a"
      },
      "outputs": [
        {
          "data": {
            "text/html": [
              "<div>\n",
              "<style scoped>\n",
              "    .dataframe tbody tr th:only-of-type {\n",
              "        vertical-align: middle;\n",
              "    }\n",
              "\n",
              "    .dataframe tbody tr th {\n",
              "        vertical-align: top;\n",
              "    }\n",
              "\n",
              "    .dataframe thead th {\n",
              "        text-align: right;\n",
              "    }\n",
              "</style>\n",
              "<table border=\"1\" class=\"dataframe\">\n",
              "  <thead>\n",
              "    <tr style=\"text-align: right;\">\n",
              "      <th></th>\n",
              "      <th>max_depth</th>\n",
              "      <th>train_score</th>\n",
              "      <th>test_score</th>\n",
              "      <th>cross_val_score</th>\n",
              "    </tr>\n",
              "  </thead>\n",
              "  <tbody>\n",
              "    <tr>\n",
              "      <th>0</th>\n",
              "      <td>1</td>\n",
              "      <td>0.781879</td>\n",
              "      <td>0.796610</td>\n",
              "      <td>0.781961</td>\n",
              "    </tr>\n",
              "    <tr>\n",
              "      <th>0</th>\n",
              "      <td>2</td>\n",
              "      <td>0.805369</td>\n",
              "      <td>0.776271</td>\n",
              "      <td>0.770196</td>\n",
              "    </tr>\n",
              "    <tr>\n",
              "      <th>0</th>\n",
              "      <td>3</td>\n",
              "      <td>0.823826</td>\n",
              "      <td>0.820339</td>\n",
              "      <td>0.790322</td>\n",
              "    </tr>\n",
              "    <tr>\n",
              "      <th>0</th>\n",
              "      <td>4</td>\n",
              "      <td>0.833893</td>\n",
              "      <td>0.823729</td>\n",
              "      <td>0.788627</td>\n",
              "    </tr>\n",
              "    <tr>\n",
              "      <th>0</th>\n",
              "      <td>5</td>\n",
              "      <td>0.840604</td>\n",
              "      <td>0.810169</td>\n",
              "      <td>0.798711</td>\n",
              "    </tr>\n",
              "  </tbody>\n",
              "</table>\n",
              "</div>"
            ],
            "text/plain": [
              "   max_depth  train_score  test_score  cross_val_score\n",
              "0          1     0.781879    0.796610         0.781961\n",
              "0          2     0.805369    0.776271         0.770196\n",
              "0          3     0.823826    0.820339         0.790322\n",
              "0          4     0.833893    0.823729         0.788627\n",
              "0          5     0.840604    0.810169         0.798711"
            ]
          },
          "execution_count": 27,
          "metadata": {},
          "output_type": "execute_result"
        }
      ],
      "source": [
        "scores_data.head()"
      ]
    },
    {
      "cell_type": "code",
      "execution_count": null,
      "id": "4ceb5831",
      "metadata": {
        "id": "4ceb5831",
        "outputId": "d3826b39-2025-4a3c-8c77-09cd84a7a0b8"
      },
      "outputs": [
        {
          "ename": "NameError",
          "evalue": "name 'scores_data_long' is not defined",
          "output_type": "error",
          "traceback": [
            "\u001b[1;31m---------------------------------------------------------------------------\u001b[0m",
            "\u001b[1;31mNameError\u001b[0m                                 Traceback (most recent call last)",
            "Input \u001b[1;32mIn [28]\u001b[0m, in \u001b[0;36m<cell line: 1>\u001b[1;34m()\u001b[0m\n\u001b[1;32m----> 1\u001b[0m \u001b[43mscores_data_long\u001b[49m\u001b[38;5;241m.\u001b[39mquery(\u001b[38;5;124m'\u001b[39m\u001b[38;5;124mset_type == \u001b[39m\u001b[38;5;124m\"\u001b[39m\u001b[38;5;124mcross_val_score\u001b[39m\u001b[38;5;124m\"\u001b[39m\u001b[38;5;124m'\u001b[39m)\u001b[38;5;241m.\u001b[39mhead(\u001b[38;5;241m20\u001b[39m)\n",
            "\u001b[1;31mNameError\u001b[0m: name 'scores_data_long' is not defined"
          ]
        }
      ],
      "source": [
        "scores_data_long.query('set_type == \"cross_val_score\"').head(20)"
      ]
    },
    {
      "cell_type": "code",
      "execution_count": null,
      "id": "d9f1717b",
      "metadata": {
        "id": "d9f1717b"
      },
      "outputs": [],
      "source": []
    },
    {
      "cell_type": "code",
      "execution_count": null,
      "id": "b25279ca",
      "metadata": {
        "id": "b25279ca"
      },
      "outputs": [],
      "source": [
        "scores_data_long = pd.melt(scores_data, id_vars=['max_depth'], value_vars=['train_score', 'test_score', 'cross_val_score'],\n",
        "                          var_name='set_type', value_name='score')\n",
        "#преобразовываем в нужный формат данные"
      ]
    },
    {
      "cell_type": "code",
      "execution_count": null,
      "id": "0617fbc5",
      "metadata": {
        "id": "0617fbc5"
      },
      "outputs": [],
      "source": [
        "scores_data_long.head()"
      ]
    },
    {
      "cell_type": "code",
      "execution_count": null,
      "id": "62a3fb95",
      "metadata": {
        "id": "62a3fb95"
      },
      "outputs": [],
      "source": [
        "sns.lineplot(x = 'max_depth',y  = 'score', hue='set_type', data = scores_data_long, width=3)"
      ]
    },
    {
      "cell_type": "code",
      "execution_count": null,
      "id": "491e4096",
      "metadata": {
        "id": "491e4096"
      },
      "outputs": [],
      "source": [
        "best_clf = tree.DecisionTreeClassifier(criterion='entropy', max_depth=10)"
      ]
    },
    {
      "cell_type": "code",
      "execution_count": null,
      "id": "c0d5de06",
      "metadata": {
        "id": "c0d5de06"
      },
      "outputs": [],
      "source": [
        "cross_val_score(clf,X_test,y_test,cv=5).mean()"
      ]
    },
    {
      "cell_type": "code",
      "execution_count": null,
      "id": "3f17b02c",
      "metadata": {
        "id": "3f17b02c"
      },
      "outputs": [],
      "source": []
    },
    {
      "cell_type": "code",
      "execution_count": null,
      "id": "cf5cd337",
      "metadata": {
        "id": "cf5cd337"
      },
      "outputs": [],
      "source": [
        "GRUDSEARCHCV # помогает сделать код выше и быстрее"
      ]
    },
    {
      "cell_type": "code",
      "execution_count": null,
      "id": "5dca3e25",
      "metadata": {
        "id": "5dca3e25"
      },
      "outputs": [],
      "source": [
        "from sklearn.model_selection import GridSearchCV"
      ]
    },
    {
      "cell_type": "code",
      "execution_count": null,
      "id": "97b2b151",
      "metadata": {
        "id": "97b2b151",
        "outputId": "bdff7a90-0b62-435c-fbfa-2729aedb298a"
      },
      "outputs": [
        {
          "data": {
            "text/html": [
              "<style>#sk-container-id-3 {color: black;background-color: white;}#sk-container-id-3 pre{padding: 0;}#sk-container-id-3 div.sk-toggleable {background-color: white;}#sk-container-id-3 label.sk-toggleable__label {cursor: pointer;display: block;width: 100%;margin-bottom: 0;padding: 0.3em;box-sizing: border-box;text-align: center;}#sk-container-id-3 label.sk-toggleable__label-arrow:before {content: \"▸\";float: left;margin-right: 0.25em;color: #696969;}#sk-container-id-3 label.sk-toggleable__label-arrow:hover:before {color: black;}#sk-container-id-3 div.sk-estimator:hover label.sk-toggleable__label-arrow:before {color: black;}#sk-container-id-3 div.sk-toggleable__content {max-height: 0;max-width: 0;overflow: hidden;text-align: left;background-color: #f0f8ff;}#sk-container-id-3 div.sk-toggleable__content pre {margin: 0.2em;color: black;border-radius: 0.25em;background-color: #f0f8ff;}#sk-container-id-3 input.sk-toggleable__control:checked~div.sk-toggleable__content {max-height: 200px;max-width: 100%;overflow: auto;}#sk-container-id-3 input.sk-toggleable__control:checked~label.sk-toggleable__label-arrow:before {content: \"▾\";}#sk-container-id-3 div.sk-estimator input.sk-toggleable__control:checked~label.sk-toggleable__label {background-color: #d4ebff;}#sk-container-id-3 div.sk-label input.sk-toggleable__control:checked~label.sk-toggleable__label {background-color: #d4ebff;}#sk-container-id-3 input.sk-hidden--visually {border: 0;clip: rect(1px 1px 1px 1px);clip: rect(1px, 1px, 1px, 1px);height: 1px;margin: -1px;overflow: hidden;padding: 0;position: absolute;width: 1px;}#sk-container-id-3 div.sk-estimator {font-family: monospace;background-color: #f0f8ff;border: 1px dotted black;border-radius: 0.25em;box-sizing: border-box;margin-bottom: 0.5em;}#sk-container-id-3 div.sk-estimator:hover {background-color: #d4ebff;}#sk-container-id-3 div.sk-parallel-item::after {content: \"\";width: 100%;border-bottom: 1px solid gray;flex-grow: 1;}#sk-container-id-3 div.sk-label:hover label.sk-toggleable__label {background-color: #d4ebff;}#sk-container-id-3 div.sk-serial::before {content: \"\";position: absolute;border-left: 1px solid gray;box-sizing: border-box;top: 0;bottom: 0;left: 50%;z-index: 0;}#sk-container-id-3 div.sk-serial {display: flex;flex-direction: column;align-items: center;background-color: white;padding-right: 0.2em;padding-left: 0.2em;position: relative;}#sk-container-id-3 div.sk-item {position: relative;z-index: 1;}#sk-container-id-3 div.sk-parallel {display: flex;align-items: stretch;justify-content: center;background-color: white;position: relative;}#sk-container-id-3 div.sk-item::before, #sk-container-id-3 div.sk-parallel-item::before {content: \"\";position: absolute;border-left: 1px solid gray;box-sizing: border-box;top: 0;bottom: 0;left: 50%;z-index: -1;}#sk-container-id-3 div.sk-parallel-item {display: flex;flex-direction: column;z-index: 1;position: relative;background-color: white;}#sk-container-id-3 div.sk-parallel-item:first-child::after {align-self: flex-end;width: 50%;}#sk-container-id-3 div.sk-parallel-item:last-child::after {align-self: flex-start;width: 50%;}#sk-container-id-3 div.sk-parallel-item:only-child::after {width: 0;}#sk-container-id-3 div.sk-dashed-wrapped {border: 1px dashed gray;margin: 0 0.4em 0.5em 0.4em;box-sizing: border-box;padding-bottom: 0.4em;background-color: white;}#sk-container-id-3 div.sk-label label {font-family: monospace;font-weight: bold;display: inline-block;line-height: 1.2em;}#sk-container-id-3 div.sk-label-container {text-align: center;}#sk-container-id-3 div.sk-container {/* jupyter's `normalize.less` sets `[hidden] { display: none; }` but bootstrap.min.css set `[hidden] { display: none !important; }` so we also need the `!important` here to be able to override the default hidden behavior on the sphinx rendered scikit-learn.org. See: https://github.com/scikit-learn/scikit-learn/issues/21755 */display: inline-block !important;position: relative;}#sk-container-id-3 div.sk-text-repr-fallback {display: none;}</style><div id=\"sk-container-id-3\" class=\"sk-top-container\"><div class=\"sk-text-repr-fallback\"><pre>DecisionTreeClassifier()</pre><b>In a Jupyter environment, please rerun this cell to show the HTML representation or trust the notebook. <br />On GitHub, the HTML representation is unable to render, please try loading this page with nbviewer.org.</b></div><div class=\"sk-container\" hidden><div class=\"sk-item\"><div class=\"sk-estimator sk-toggleable\"><input class=\"sk-toggleable__control sk-hidden--visually\" id=\"sk-estimator-id-3\" type=\"checkbox\" checked><label for=\"sk-estimator-id-3\" class=\"sk-toggleable__label sk-toggleable__label-arrow\">DecisionTreeClassifier</label><div class=\"sk-toggleable__content\"><pre>DecisionTreeClassifier()</pre></div></div></div></div></div>"
            ],
            "text/plain": [
              "DecisionTreeClassifier()"
            ]
          },
          "execution_count": 31,
          "metadata": {},
          "output_type": "execute_result"
        }
      ],
      "source": [
        "clf = tree.DecisionTreeClassifier()\n",
        "clf"
      ]
    },
    {
      "cell_type": "code",
      "execution_count": null,
      "id": "62f7a422",
      "metadata": {
        "id": "62f7a422"
      },
      "outputs": [],
      "source": [
        "import numpy  as np"
      ]
    },
    {
      "cell_type": "code",
      "execution_count": null,
      "id": "d460eb30",
      "metadata": {
        "id": "d460eb30"
      },
      "outputs": [],
      "source": [
        "paramentrs = {'criterion': ['gini','entropy'],'max_depth': range(1,30)}"
      ]
    },
    {
      "cell_type": "code",
      "execution_count": null,
      "id": "4b1d5805",
      "metadata": {
        "id": "4b1d5805"
      },
      "outputs": [],
      "source": [
        "grid_search_cv_clf = GridSearchCV(clf, paramentrs, cv=5)"
      ]
    },
    {
      "cell_type": "code",
      "execution_count": null,
      "id": "2498d82a",
      "metadata": {
        "id": "2498d82a",
        "outputId": "9710b8d4-71b3-4bfe-bb18-238d7a2d6993"
      },
      "outputs": [
        {
          "data": {
            "text/html": [
              "<style>#sk-container-id-10 {color: black;background-color: white;}#sk-container-id-10 pre{padding: 0;}#sk-container-id-10 div.sk-toggleable {background-color: white;}#sk-container-id-10 label.sk-toggleable__label {cursor: pointer;display: block;width: 100%;margin-bottom: 0;padding: 0.3em;box-sizing: border-box;text-align: center;}#sk-container-id-10 label.sk-toggleable__label-arrow:before {content: \"▸\";float: left;margin-right: 0.25em;color: #696969;}#sk-container-id-10 label.sk-toggleable__label-arrow:hover:before {color: black;}#sk-container-id-10 div.sk-estimator:hover label.sk-toggleable__label-arrow:before {color: black;}#sk-container-id-10 div.sk-toggleable__content {max-height: 0;max-width: 0;overflow: hidden;text-align: left;background-color: #f0f8ff;}#sk-container-id-10 div.sk-toggleable__content pre {margin: 0.2em;color: black;border-radius: 0.25em;background-color: #f0f8ff;}#sk-container-id-10 input.sk-toggleable__control:checked~div.sk-toggleable__content {max-height: 200px;max-width: 100%;overflow: auto;}#sk-container-id-10 input.sk-toggleable__control:checked~label.sk-toggleable__label-arrow:before {content: \"▾\";}#sk-container-id-10 div.sk-estimator input.sk-toggleable__control:checked~label.sk-toggleable__label {background-color: #d4ebff;}#sk-container-id-10 div.sk-label input.sk-toggleable__control:checked~label.sk-toggleable__label {background-color: #d4ebff;}#sk-container-id-10 input.sk-hidden--visually {border: 0;clip: rect(1px 1px 1px 1px);clip: rect(1px, 1px, 1px, 1px);height: 1px;margin: -1px;overflow: hidden;padding: 0;position: absolute;width: 1px;}#sk-container-id-10 div.sk-estimator {font-family: monospace;background-color: #f0f8ff;border: 1px dotted black;border-radius: 0.25em;box-sizing: border-box;margin-bottom: 0.5em;}#sk-container-id-10 div.sk-estimator:hover {background-color: #d4ebff;}#sk-container-id-10 div.sk-parallel-item::after {content: \"\";width: 100%;border-bottom: 1px solid gray;flex-grow: 1;}#sk-container-id-10 div.sk-label:hover label.sk-toggleable__label {background-color: #d4ebff;}#sk-container-id-10 div.sk-serial::before {content: \"\";position: absolute;border-left: 1px solid gray;box-sizing: border-box;top: 0;bottom: 0;left: 50%;z-index: 0;}#sk-container-id-10 div.sk-serial {display: flex;flex-direction: column;align-items: center;background-color: white;padding-right: 0.2em;padding-left: 0.2em;position: relative;}#sk-container-id-10 div.sk-item {position: relative;z-index: 1;}#sk-container-id-10 div.sk-parallel {display: flex;align-items: stretch;justify-content: center;background-color: white;position: relative;}#sk-container-id-10 div.sk-item::before, #sk-container-id-10 div.sk-parallel-item::before {content: \"\";position: absolute;border-left: 1px solid gray;box-sizing: border-box;top: 0;bottom: 0;left: 50%;z-index: -1;}#sk-container-id-10 div.sk-parallel-item {display: flex;flex-direction: column;z-index: 1;position: relative;background-color: white;}#sk-container-id-10 div.sk-parallel-item:first-child::after {align-self: flex-end;width: 50%;}#sk-container-id-10 div.sk-parallel-item:last-child::after {align-self: flex-start;width: 50%;}#sk-container-id-10 div.sk-parallel-item:only-child::after {width: 0;}#sk-container-id-10 div.sk-dashed-wrapped {border: 1px dashed gray;margin: 0 0.4em 0.5em 0.4em;box-sizing: border-box;padding-bottom: 0.4em;background-color: white;}#sk-container-id-10 div.sk-label label {font-family: monospace;font-weight: bold;display: inline-block;line-height: 1.2em;}#sk-container-id-10 div.sk-label-container {text-align: center;}#sk-container-id-10 div.sk-container {/* jupyter's `normalize.less` sets `[hidden] { display: none; }` but bootstrap.min.css set `[hidden] { display: none !important; }` so we also need the `!important` here to be able to override the default hidden behavior on the sphinx rendered scikit-learn.org. See: https://github.com/scikit-learn/scikit-learn/issues/21755 */display: inline-block !important;position: relative;}#sk-container-id-10 div.sk-text-repr-fallback {display: none;}</style><div id=\"sk-container-id-10\" class=\"sk-top-container\"><div class=\"sk-text-repr-fallback\"><pre>GridSearchCV(cv=5, estimator=DecisionTreeClassifier(),\n",
              "             param_grid={&#x27;criterion&#x27;: [&#x27;gini&#x27;, &#x27;entropy&#x27;],\n",
              "                         &#x27;max_depth&#x27;: range(1, 30)})</pre><b>In a Jupyter environment, please rerun this cell to show the HTML representation or trust the notebook. <br />On GitHub, the HTML representation is unable to render, please try loading this page with nbviewer.org.</b></div><div class=\"sk-container\" hidden><div class=\"sk-item sk-dashed-wrapped\"><div class=\"sk-label-container\"><div class=\"sk-label sk-toggleable\"><input class=\"sk-toggleable__control sk-hidden--visually\" id=\"sk-estimator-id-20\" type=\"checkbox\" ><label for=\"sk-estimator-id-20\" class=\"sk-toggleable__label sk-toggleable__label-arrow\">GridSearchCV</label><div class=\"sk-toggleable__content\"><pre>GridSearchCV(cv=5, estimator=DecisionTreeClassifier(),\n",
              "             param_grid={&#x27;criterion&#x27;: [&#x27;gini&#x27;, &#x27;entropy&#x27;],\n",
              "                         &#x27;max_depth&#x27;: range(1, 30)})</pre></div></div></div><div class=\"sk-parallel\"><div class=\"sk-parallel-item\"><div class=\"sk-item\"><div class=\"sk-label-container\"><div class=\"sk-label sk-toggleable\"><input class=\"sk-toggleable__control sk-hidden--visually\" id=\"sk-estimator-id-21\" type=\"checkbox\" ><label for=\"sk-estimator-id-21\" class=\"sk-toggleable__label sk-toggleable__label-arrow\">estimator: DecisionTreeClassifier</label><div class=\"sk-toggleable__content\"><pre>DecisionTreeClassifier()</pre></div></div></div><div class=\"sk-serial\"><div class=\"sk-item\"><div class=\"sk-estimator sk-toggleable\"><input class=\"sk-toggleable__control sk-hidden--visually\" id=\"sk-estimator-id-22\" type=\"checkbox\" ><label for=\"sk-estimator-id-22\" class=\"sk-toggleable__label sk-toggleable__label-arrow\">DecisionTreeClassifier</label><div class=\"sk-toggleable__content\"><pre>DecisionTreeClassifier()</pre></div></div></div></div></div></div></div></div></div></div>"
            ],
            "text/plain": [
              "GridSearchCV(cv=5, estimator=DecisionTreeClassifier(),\n",
              "             param_grid={'criterion': ['gini', 'entropy'],\n",
              "                         'max_depth': range(1, 30)})"
            ]
          },
          "execution_count": 61,
          "metadata": {},
          "output_type": "execute_result"
        }
      ],
      "source": [
        "grid_search_cv_clf.fit(X_train,y_train)"
      ]
    },
    {
      "cell_type": "code",
      "execution_count": null,
      "id": "7284f57f",
      "metadata": {
        "id": "7284f57f",
        "outputId": "3a962639-2886-44af-be75-df2a3cb10a07"
      },
      "outputs": [
        {
          "data": {
            "text/plain": [
              "{'criterion': 'entropy', 'max_depth': 5}"
            ]
          },
          "execution_count": 62,
          "metadata": {},
          "output_type": "execute_result"
        }
      ],
      "source": [
        "# показывает лучшие параметры.\n",
        "#Лучше зафиксировать скорость, чтобы показывал одинаковый результат\n",
        "grid_search_cv_clf.best_params_"
      ]
    },
    {
      "cell_type": "code",
      "execution_count": null,
      "id": "140cd7c5",
      "metadata": {
        "id": "140cd7c5"
      },
      "outputs": [],
      "source": [
        "#сохранили дерево с подобранными выше параметрами\n",
        "best_clf = grid_search_cv_clf.best_estimator_"
      ]
    },
    {
      "cell_type": "code",
      "execution_count": null,
      "id": "9a9be7d3",
      "metadata": {
        "id": "9a9be7d3",
        "outputId": "fa9612be-ee69-4888-930b-f0ad427ffd8a"
      },
      "outputs": [
        {
          "data": {
            "text/html": [
              "<style>#sk-container-id-7 {color: black;background-color: white;}#sk-container-id-7 pre{padding: 0;}#sk-container-id-7 div.sk-toggleable {background-color: white;}#sk-container-id-7 label.sk-toggleable__label {cursor: pointer;display: block;width: 100%;margin-bottom: 0;padding: 0.3em;box-sizing: border-box;text-align: center;}#sk-container-id-7 label.sk-toggleable__label-arrow:before {content: \"▸\";float: left;margin-right: 0.25em;color: #696969;}#sk-container-id-7 label.sk-toggleable__label-arrow:hover:before {color: black;}#sk-container-id-7 div.sk-estimator:hover label.sk-toggleable__label-arrow:before {color: black;}#sk-container-id-7 div.sk-toggleable__content {max-height: 0;max-width: 0;overflow: hidden;text-align: left;background-color: #f0f8ff;}#sk-container-id-7 div.sk-toggleable__content pre {margin: 0.2em;color: black;border-radius: 0.25em;background-color: #f0f8ff;}#sk-container-id-7 input.sk-toggleable__control:checked~div.sk-toggleable__content {max-height: 200px;max-width: 100%;overflow: auto;}#sk-container-id-7 input.sk-toggleable__control:checked~label.sk-toggleable__label-arrow:before {content: \"▾\";}#sk-container-id-7 div.sk-estimator input.sk-toggleable__control:checked~label.sk-toggleable__label {background-color: #d4ebff;}#sk-container-id-7 div.sk-label input.sk-toggleable__control:checked~label.sk-toggleable__label {background-color: #d4ebff;}#sk-container-id-7 input.sk-hidden--visually {border: 0;clip: rect(1px 1px 1px 1px);clip: rect(1px, 1px, 1px, 1px);height: 1px;margin: -1px;overflow: hidden;padding: 0;position: absolute;width: 1px;}#sk-container-id-7 div.sk-estimator {font-family: monospace;background-color: #f0f8ff;border: 1px dotted black;border-radius: 0.25em;box-sizing: border-box;margin-bottom: 0.5em;}#sk-container-id-7 div.sk-estimator:hover {background-color: #d4ebff;}#sk-container-id-7 div.sk-parallel-item::after {content: \"\";width: 100%;border-bottom: 1px solid gray;flex-grow: 1;}#sk-container-id-7 div.sk-label:hover label.sk-toggleable__label {background-color: #d4ebff;}#sk-container-id-7 div.sk-serial::before {content: \"\";position: absolute;border-left: 1px solid gray;box-sizing: border-box;top: 0;bottom: 0;left: 50%;z-index: 0;}#sk-container-id-7 div.sk-serial {display: flex;flex-direction: column;align-items: center;background-color: white;padding-right: 0.2em;padding-left: 0.2em;position: relative;}#sk-container-id-7 div.sk-item {position: relative;z-index: 1;}#sk-container-id-7 div.sk-parallel {display: flex;align-items: stretch;justify-content: center;background-color: white;position: relative;}#sk-container-id-7 div.sk-item::before, #sk-container-id-7 div.sk-parallel-item::before {content: \"\";position: absolute;border-left: 1px solid gray;box-sizing: border-box;top: 0;bottom: 0;left: 50%;z-index: -1;}#sk-container-id-7 div.sk-parallel-item {display: flex;flex-direction: column;z-index: 1;position: relative;background-color: white;}#sk-container-id-7 div.sk-parallel-item:first-child::after {align-self: flex-end;width: 50%;}#sk-container-id-7 div.sk-parallel-item:last-child::after {align-self: flex-start;width: 50%;}#sk-container-id-7 div.sk-parallel-item:only-child::after {width: 0;}#sk-container-id-7 div.sk-dashed-wrapped {border: 1px dashed gray;margin: 0 0.4em 0.5em 0.4em;box-sizing: border-box;padding-bottom: 0.4em;background-color: white;}#sk-container-id-7 div.sk-label label {font-family: monospace;font-weight: bold;display: inline-block;line-height: 1.2em;}#sk-container-id-7 div.sk-label-container {text-align: center;}#sk-container-id-7 div.sk-container {/* jupyter's `normalize.less` sets `[hidden] { display: none; }` but bootstrap.min.css set `[hidden] { display: none !important; }` so we also need the `!important` here to be able to override the default hidden behavior on the sphinx rendered scikit-learn.org. See: https://github.com/scikit-learn/scikit-learn/issues/21755 */display: inline-block !important;position: relative;}#sk-container-id-7 div.sk-text-repr-fallback {display: none;}</style><div id=\"sk-container-id-7\" class=\"sk-top-container\"><div class=\"sk-text-repr-fallback\"><pre>DecisionTreeClassifier(criterion=&#x27;entropy&#x27;, max_depth=10)</pre><b>In a Jupyter environment, please rerun this cell to show the HTML representation or trust the notebook. <br />On GitHub, the HTML representation is unable to render, please try loading this page with nbviewer.org.</b></div><div class=\"sk-container\" hidden><div class=\"sk-item\"><div class=\"sk-estimator sk-toggleable\"><input class=\"sk-toggleable__control sk-hidden--visually\" id=\"sk-estimator-id-13\" type=\"checkbox\" checked><label for=\"sk-estimator-id-13\" class=\"sk-toggleable__label sk-toggleable__label-arrow\">DecisionTreeClassifier</label><div class=\"sk-toggleable__content\"><pre>DecisionTreeClassifier(criterion=&#x27;entropy&#x27;, max_depth=10)</pre></div></div></div></div></div>"
            ],
            "text/plain": [
              "DecisionTreeClassifier(criterion='entropy', max_depth=10)"
            ]
          },
          "execution_count": 43,
          "metadata": {},
          "output_type": "execute_result"
        }
      ],
      "source": [
        "best_clf"
      ]
    },
    {
      "cell_type": "code",
      "execution_count": null,
      "id": "fd2bb119",
      "metadata": {
        "id": "fd2bb119",
        "outputId": "0b00dc01-47fe-40f4-b0db-b4d84b602350"
      },
      "outputs": [
        {
          "data": {
            "text/plain": [
              "0.7932203389830509"
            ]
          },
          "execution_count": 44,
          "metadata": {},
          "output_type": "execute_result"
        }
      ],
      "source": [
        "#точность предсказания\n",
        "best_clf.score(X_test,y_test)"
      ]
    },
    {
      "cell_type": "code",
      "execution_count": null,
      "id": "be410573",
      "metadata": {
        "id": "be410573"
      },
      "outputs": [],
      "source": []
    },
    {
      "cell_type": "code",
      "execution_count": null,
      "id": "2ba199e8",
      "metadata": {
        "id": "2ba199e8"
      },
      "outputs": [],
      "source": []
    },
    {
      "cell_type": "code",
      "execution_count": null,
      "id": "a96faa50",
      "metadata": {
        "id": "a96faa50"
      },
      "outputs": [],
      "source": [
        "РАСЧЕТ МЕТРИК ДЛЯ ДЕРЕВА"
      ]
    },
    {
      "cell_type": "code",
      "execution_count": null,
      "id": "620c8358",
      "metadata": {
        "id": "620c8358"
      },
      "outputs": [],
      "source": [
        "#\n",
        "from sklearn.metrics import precision_score, recall_score"
      ]
    },
    {
      "cell_type": "code",
      "execution_count": null,
      "id": "c9ec9cf1",
      "metadata": {
        "id": "c9ec9cf1"
      },
      "outputs": [],
      "source": [
        "# предсказываем (y^) по тестовым х\n",
        "y_pred = best_clf.predict(X_test)"
      ]
    },
    {
      "cell_type": "code",
      "execution_count": null,
      "id": "5a9c25af",
      "metadata": {
        "id": "5a9c25af",
        "outputId": "d46c3a04-7e16-478d-ef86-5af5cecf32b8"
      },
      "outputs": [
        {
          "data": {
            "text/plain": [
              "0.8105263157894737"
            ]
          },
          "execution_count": 49,
          "metadata": {},
          "output_type": "execute_result"
        }
      ],
      "source": [
        "# вставляем предсказанные значения (y^) и фактические y\n",
        "precision_score(y_test,y_pred)"
      ]
    },
    {
      "cell_type": "code",
      "execution_count": null,
      "id": "ad321c82",
      "metadata": {
        "id": "ad321c82",
        "outputId": "ed7ff774-d439-47bf-afd6-6a8e3e6093fb"
      },
      "outputs": [
        {
          "data": {
            "text/plain": [
              "0.6416666666666667"
            ]
          },
          "execution_count": 51,
          "metadata": {},
          "output_type": "execute_result"
        }
      ],
      "source": [
        "recall_score(y_test,y_pred)"
      ]
    },
    {
      "cell_type": "code",
      "execution_count": null,
      "id": "2611f9e3",
      "metadata": {
        "id": "2611f9e3",
        "outputId": "5708d14e-0d9a-4c43-dc75-5c28aaa90b22"
      },
      "outputs": [
        {
          "data": {
            "text/plain": [
              "array([0, 0, 0, 1, 1, 0, 1, 0, 1, 1, 1, 0, 0, 0, 0, 1, 0, 0, 0, 0, 0, 0,\n",
              "       0, 0, 0, 0, 0, 0, 0, 0, 0, 1, 0, 1, 0, 0, 0, 1, 1, 0, 0, 0, 0, 0,\n",
              "       0, 0, 0, 0, 0, 0, 1, 1, 0, 1, 0, 1, 0, 0, 1, 0, 0, 1, 1, 0, 0, 1,\n",
              "       0, 0, 0, 1, 0, 1, 1, 1, 0, 0, 1, 1, 1, 0, 0, 1, 1, 0, 0, 0, 1, 1,\n",
              "       0, 0, 1, 0, 0, 0, 0, 0, 0, 0, 1, 0, 0, 0, 1, 0, 0, 0, 1, 0, 0, 0,\n",
              "       1, 0, 1, 1, 0, 0, 0, 0, 1, 0, 0, 1, 1, 1, 0, 0, 1, 1, 0, 0, 0, 0,\n",
              "       0, 1, 1, 0, 1, 0, 0, 0, 0, 1, 0, 0, 0, 1, 0, 0, 1, 0, 0, 0, 0, 0,\n",
              "       0, 0, 0, 0, 1, 1, 0, 0, 0, 1, 0, 1, 0, 1, 0, 0, 0, 1, 1, 1, 0, 0,\n",
              "       0, 1, 1, 0, 0, 1, 0, 0, 1, 0, 0, 0, 0, 1, 0, 0, 0, 0, 0, 1, 1, 0,\n",
              "       1, 0, 0, 0, 1, 0, 0, 1, 0, 1, 0, 0, 1, 0, 1, 0, 0, 1, 0, 1, 0, 0,\n",
              "       0, 1, 0, 0, 0, 1, 0, 1, 1, 0, 0, 1, 0, 1, 0, 0, 1, 0, 1, 0, 0, 1,\n",
              "       0, 0, 0, 0, 0, 0, 0, 0, 1, 0, 0, 0, 0, 0, 0, 0, 0, 1, 1, 0, 1, 0,\n",
              "       0, 0, 0, 0, 1, 0, 1, 0, 0, 1, 1, 0, 0, 0, 1, 0, 0, 0, 1, 0, 0, 0,\n",
              "       0, 0, 1, 1, 0, 0, 1, 1, 0], dtype=int64)"
            ]
          },
          "execution_count": 63,
          "metadata": {},
          "output_type": "execute_result"
        }
      ],
      "source": [
        "#относит к погибшим (0) или выжившим (1)\n",
        "y_pred"
      ]
    },
    {
      "cell_type": "code",
      "execution_count": null,
      "id": "f851f7c9",
      "metadata": {
        "id": "f851f7c9"
      },
      "outputs": [],
      "source": [
        "y_predicted_prob = best_clf.predict_proba(X_test)"
      ]
    },
    {
      "cell_type": "code",
      "execution_count": null,
      "id": "fd3673d2",
      "metadata": {
        "id": "fd3673d2",
        "outputId": "4511f574-2965-40e6-e355-1faa65ab8e3f"
      },
      "outputs": [
        {
          "data": {
            "text/plain": [
              "array([[0.55555556, 0.44444444],\n",
              "       [0.75      , 0.25      ],\n",
              "       [0.93913043, 0.06086957],\n",
              "       [0.        , 1.        ],\n",
              "       [0.        , 1.        ],\n",
              "       [1.        , 0.        ],\n",
              "       [0.25      , 0.75      ],\n",
              "       [0.93913043, 0.06086957],\n",
              "       [0.25      , 0.75      ],\n",
              "       [0.        , 1.        ],\n",
              "       [0.        , 1.        ],\n",
              "       [0.88      , 0.12      ],\n",
              "       [1.        , 0.        ],\n",
              "       [0.86666667, 0.13333333],\n",
              "       [0.88      , 0.12      ],\n",
              "       [0.        , 1.        ],\n",
              "       [1.        , 0.        ],\n",
              "       [0.66666667, 0.33333333],\n",
              "       [0.93913043, 0.06086957],\n",
              "       [1.        , 0.        ],\n",
              "       [0.93913043, 0.06086957],\n",
              "       [0.63157895, 0.36842105],\n",
              "       [0.66666667, 0.33333333],\n",
              "       [0.93913043, 0.06086957],\n",
              "       [0.93913043, 0.06086957],\n",
              "       [1.        , 0.        ],\n",
              "       [0.63157895, 0.36842105],\n",
              "       [0.75      , 0.25      ],\n",
              "       [1.        , 0.        ],\n",
              "       [0.66666667, 0.33333333],\n",
              "       [0.93913043, 0.06086957],\n",
              "       [0.        , 1.        ],\n",
              "       [0.63157895, 0.36842105],\n",
              "       [0.        , 1.        ],\n",
              "       [0.93913043, 0.06086957],\n",
              "       [0.55555556, 0.44444444],\n",
              "       [0.63157895, 0.36842105],\n",
              "       [0.25      , 0.75      ],\n",
              "       [0.        , 1.        ],\n",
              "       [0.93913043, 0.06086957],\n",
              "       [1.        , 0.        ],\n",
              "       [0.81818182, 0.18181818],\n",
              "       [0.93913043, 0.06086957],\n",
              "       [0.81818182, 0.18181818],\n",
              "       [1.        , 0.        ],\n",
              "       [0.93913043, 0.06086957],\n",
              "       [0.93913043, 0.06086957],\n",
              "       [0.93913043, 0.06086957],\n",
              "       [0.81818182, 0.18181818],\n",
              "       [1.        , 0.        ],\n",
              "       [0.        , 1.        ],\n",
              "       [0.        , 1.        ],\n",
              "       [1.        , 0.        ],\n",
              "       [0.        , 1.        ],\n",
              "       [1.        , 0.        ],\n",
              "       [0.        , 1.        ],\n",
              "       [0.75      , 0.25      ],\n",
              "       [1.        , 0.        ],\n",
              "       [0.        , 1.        ],\n",
              "       [0.66666667, 0.33333333],\n",
              "       [0.81818182, 0.18181818],\n",
              "       [0.        , 1.        ],\n",
              "       [0.        , 1.        ],\n",
              "       [1.        , 0.        ],\n",
              "       [0.81818182, 0.18181818],\n",
              "       [0.        , 1.        ],\n",
              "       [1.        , 0.        ],\n",
              "       [0.93913043, 0.06086957],\n",
              "       [0.86666667, 0.13333333],\n",
              "       [0.        , 1.        ],\n",
              "       [1.        , 0.        ],\n",
              "       [0.        , 1.        ],\n",
              "       [0.        , 1.        ],\n",
              "       [0.        , 1.        ],\n",
              "       [0.93913043, 0.06086957],\n",
              "       [1.        , 0.        ],\n",
              "       [0.25      , 0.75      ],\n",
              "       [0.        , 1.        ],\n",
              "       [0.        , 1.        ],\n",
              "       [1.        , 0.        ],\n",
              "       [1.        , 0.        ],\n",
              "       [0.        , 1.        ],\n",
              "       [0.        , 1.        ],\n",
              "       [0.81818182, 0.18181818],\n",
              "       [0.63157895, 0.36842105],\n",
              "       [1.        , 0.        ],\n",
              "       [0.        , 1.        ],\n",
              "       [0.        , 1.        ],\n",
              "       [1.        , 0.        ],\n",
              "       [0.81818182, 0.18181818],\n",
              "       [0.        , 1.        ],\n",
              "       [1.        , 0.        ],\n",
              "       [1.        , 0.        ],\n",
              "       [0.81818182, 0.18181818],\n",
              "       [0.93913043, 0.06086957],\n",
              "       [0.93913043, 0.06086957],\n",
              "       [1.        , 0.        ],\n",
              "       [0.88      , 0.12      ],\n",
              "       [0.        , 1.        ],\n",
              "       [0.93913043, 0.06086957],\n",
              "       [1.        , 0.        ],\n",
              "       [1.        , 0.        ],\n",
              "       [0.        , 1.        ],\n",
              "       [1.        , 0.        ],\n",
              "       [0.93913043, 0.06086957],\n",
              "       [0.81818182, 0.18181818],\n",
              "       [0.        , 1.        ],\n",
              "       [1.        , 0.        ],\n",
              "       [0.93913043, 0.06086957],\n",
              "       [0.63157895, 0.36842105],\n",
              "       [0.        , 1.        ],\n",
              "       [0.81818182, 0.18181818],\n",
              "       [0.        , 1.        ],\n",
              "       [0.        , 1.        ],\n",
              "       [1.        , 0.        ],\n",
              "       [0.93913043, 0.06086957],\n",
              "       [1.        , 0.        ],\n",
              "       [0.88      , 0.12      ],\n",
              "       [0.        , 1.        ],\n",
              "       [1.        , 0.        ],\n",
              "       [0.93913043, 0.06086957],\n",
              "       [0.        , 1.        ],\n",
              "       [0.        , 1.        ],\n",
              "       [0.        , 1.        ],\n",
              "       [0.81818182, 0.18181818],\n",
              "       [0.63157895, 0.36842105],\n",
              "       [0.        , 1.        ],\n",
              "       [0.        , 1.        ],\n",
              "       [1.        , 0.        ],\n",
              "       [0.93913043, 0.06086957],\n",
              "       [0.66666667, 0.33333333],\n",
              "       [0.55555556, 0.44444444],\n",
              "       [0.81818182, 0.18181818],\n",
              "       [0.        , 1.        ],\n",
              "       [0.        , 1.        ],\n",
              "       [1.        , 0.        ],\n",
              "       [0.        , 1.        ],\n",
              "       [0.81818182, 0.18181818],\n",
              "       [1.        , 0.        ],\n",
              "       [1.        , 0.        ],\n",
              "       [0.93913043, 0.06086957],\n",
              "       [0.        , 1.        ],\n",
              "       [0.93913043, 0.06086957],\n",
              "       [1.        , 0.        ],\n",
              "       [1.        , 0.        ],\n",
              "       [0.        , 1.        ],\n",
              "       [0.93913043, 0.06086957],\n",
              "       [0.88      , 0.12      ],\n",
              "       [0.        , 1.        ],\n",
              "       [0.88      , 0.12      ],\n",
              "       [0.55555556, 0.44444444],\n",
              "       [0.81818182, 0.18181818],\n",
              "       [0.81818182, 0.18181818],\n",
              "       [1.        , 0.        ],\n",
              "       [0.93913043, 0.06086957],\n",
              "       [0.81818182, 0.18181818],\n",
              "       [0.66666667, 0.33333333],\n",
              "       [0.66666667, 0.33333333],\n",
              "       [0.        , 1.        ],\n",
              "       [0.        , 1.        ],\n",
              "       [0.86666667, 0.13333333],\n",
              "       [0.63157895, 0.36842105],\n",
              "       [0.88      , 0.12      ],\n",
              "       [0.        , 1.        ],\n",
              "       [0.93913043, 0.06086957],\n",
              "       [0.        , 1.        ],\n",
              "       [0.93913043, 0.06086957],\n",
              "       [0.        , 1.        ],\n",
              "       [0.93913043, 0.06086957],\n",
              "       [1.        , 0.        ],\n",
              "       [1.        , 0.        ],\n",
              "       [0.        , 1.        ],\n",
              "       [0.        , 1.        ],\n",
              "       [0.        , 1.        ],\n",
              "       [0.81818182, 0.18181818],\n",
              "       [0.86666667, 0.13333333],\n",
              "       [1.        , 0.        ],\n",
              "       [0.        , 1.        ],\n",
              "       [0.        , 1.        ],\n",
              "       [0.63157895, 0.36842105],\n",
              "       [0.93913043, 0.06086957],\n",
              "       [0.33333333, 0.66666667],\n",
              "       [0.93913043, 0.06086957],\n",
              "       [1.        , 0.        ],\n",
              "       [0.        , 1.        ],\n",
              "       [0.63157895, 0.36842105],\n",
              "       [0.55555556, 0.44444444],\n",
              "       [0.93913043, 0.06086957],\n",
              "       [0.63157895, 0.36842105],\n",
              "       [0.        , 1.        ],\n",
              "       [1.        , 0.        ],\n",
              "       [0.88      , 0.12      ],\n",
              "       [0.81818182, 0.18181818],\n",
              "       [0.93913043, 0.06086957],\n",
              "       [1.        , 0.        ],\n",
              "       [0.        , 1.        ],\n",
              "       [0.        , 1.        ],\n",
              "       [0.88      , 0.12      ],\n",
              "       [0.        , 1.        ],\n",
              "       [1.        , 0.        ],\n",
              "       [1.        , 0.        ],\n",
              "       [0.66666667, 0.33333333],\n",
              "       [0.        , 1.        ],\n",
              "       [1.        , 0.        ],\n",
              "       [0.86666667, 0.13333333],\n",
              "       [0.        , 1.        ],\n",
              "       [0.93913043, 0.06086957],\n",
              "       [0.        , 1.        ],\n",
              "       [0.55555556, 0.44444444],\n",
              "       [0.88      , 0.12      ],\n",
              "       [0.        , 1.        ],\n",
              "       [0.81818182, 0.18181818],\n",
              "       [0.        , 1.        ],\n",
              "       [0.81818182, 0.18181818],\n",
              "       [1.        , 0.        ],\n",
              "       [0.        , 1.        ],\n",
              "       [1.        , 0.        ],\n",
              "       [0.        , 1.        ],\n",
              "       [1.        , 0.        ],\n",
              "       [0.81818182, 0.18181818],\n",
              "       [0.93913043, 0.06086957],\n",
              "       [0.        , 1.        ],\n",
              "       [0.93913043, 0.06086957],\n",
              "       [0.63157895, 0.36842105],\n",
              "       [0.81818182, 0.18181818],\n",
              "       [0.        , 1.        ],\n",
              "       [0.81818182, 0.18181818],\n",
              "       [0.        , 1.        ],\n",
              "       [0.        , 1.        ],\n",
              "       [0.66666667, 0.33333333],\n",
              "       [1.        , 0.        ],\n",
              "       [0.        , 1.        ],\n",
              "       [0.81818182, 0.18181818],\n",
              "       [0.        , 1.        ],\n",
              "       [0.93913043, 0.06086957],\n",
              "       [0.66666667, 0.33333333],\n",
              "       [0.        , 1.        ],\n",
              "       [1.        , 0.        ],\n",
              "       [0.        , 1.        ],\n",
              "       [0.88      , 0.12      ],\n",
              "       [0.81818182, 0.18181818],\n",
              "       [0.        , 1.        ],\n",
              "       [0.86666667, 0.13333333],\n",
              "       [0.66666667, 0.33333333],\n",
              "       [1.        , 0.        ],\n",
              "       [0.93913043, 0.06086957],\n",
              "       [0.93913043, 0.06086957],\n",
              "       [0.93913043, 0.06086957],\n",
              "       [0.81818182, 0.18181818],\n",
              "       [0.63157895, 0.36842105],\n",
              "       [0.        , 1.        ],\n",
              "       [1.        , 0.        ],\n",
              "       [0.81818182, 0.18181818],\n",
              "       [0.86666667, 0.13333333],\n",
              "       [1.        , 0.        ],\n",
              "       [0.81818182, 0.18181818],\n",
              "       [0.93913043, 0.06086957],\n",
              "       [1.        , 0.        ],\n",
              "       [0.88      , 0.12      ],\n",
              "       [0.        , 1.        ],\n",
              "       [0.        , 1.        ],\n",
              "       [1.        , 0.        ],\n",
              "       [0.        , 1.        ],\n",
              "       [0.93913043, 0.06086957],\n",
              "       [1.        , 0.        ],\n",
              "       [1.        , 0.        ],\n",
              "       [0.93913043, 0.06086957],\n",
              "       [0.63157895, 0.36842105],\n",
              "       [0.        , 1.        ],\n",
              "       [0.93913043, 0.06086957],\n",
              "       [0.        , 1.        ],\n",
              "       [1.        , 0.        ],\n",
              "       [1.        , 0.        ],\n",
              "       [0.        , 1.        ],\n",
              "       [0.        , 1.        ],\n",
              "       [0.93913043, 0.06086957],\n",
              "       [0.93913043, 0.06086957],\n",
              "       [0.55555556, 0.44444444],\n",
              "       [0.        , 1.        ],\n",
              "       [0.88      , 0.12      ],\n",
              "       [0.93913043, 0.06086957],\n",
              "       [0.81818182, 0.18181818],\n",
              "       [0.        , 1.        ],\n",
              "       [1.        , 0.        ],\n",
              "       [0.55555556, 0.44444444],\n",
              "       [1.        , 0.        ],\n",
              "       [0.66666667, 0.33333333],\n",
              "       [0.93913043, 0.06086957],\n",
              "       [0.        , 1.        ],\n",
              "       [0.        , 1.        ],\n",
              "       [0.81818182, 0.18181818],\n",
              "       [1.        , 0.        ],\n",
              "       [0.        , 1.        ],\n",
              "       [0.        , 1.        ],\n",
              "       [0.93913043, 0.06086957]])"
            ]
          },
          "execution_count": 65,
          "metadata": {},
          "output_type": "execute_result"
        }
      ],
      "source": [
        "#показывает с какой вероятности мы относим пассажира к выжившему или погибшему\n",
        "#сумма 1\n",
        "y_predicted_prob"
      ]
    },
    {
      "cell_type": "code",
      "execution_count": null,
      "id": "86e066ba",
      "metadata": {
        "id": "86e066ba",
        "outputId": "a0c931ce-d487-4f66-c143-5c68289d4698"
      },
      "outputs": [
        {
          "data": {
            "text/plain": [
              "<AxesSubplot:>"
            ]
          },
          "execution_count": 68,
          "metadata": {},
          "output_type": "execute_result"
        },
        {
          "data": {
            "image/png": "[encoded data removed]",
            "text/plain": [
              "<Figure size 432x288 with 1 Axes>"
            ]
          },
          "metadata": {
            "needs_background": "light"
          },
          "output_type": "display_data"
        }
      ],
      "source": [
        "pd.Series(y_predicted_prob[:,1]).hist()"
      ]
    },
    {
      "cell_type": "code",
      "execution_count": null,
      "id": "43d8999a",
      "metadata": {
        "id": "43d8999a",
        "outputId": "ad3ea13c-97de-419b-c6fa-e8f4e0b3cb71"
      },
      "outputs": [
        {
          "data": {
            "text/plain": [
              "count    295.000000\n",
              "mean       0.400412\n",
              "std        0.420104\n",
              "min        0.000000\n",
              "25%        0.060870\n",
              "50%        0.181818\n",
              "75%        1.000000\n",
              "max        1.000000\n",
              "dtype: float64"
            ]
          },
          "execution_count": 69,
          "metadata": {},
          "output_type": "execute_result"
        }
      ],
      "source": [
        "pd.Series(y_predicted_prob[:,1]).describe()"
      ]
    },
    {
      "cell_type": "code",
      "execution_count": null,
      "id": "08b9631a",
      "metadata": {
        "id": "08b9631a"
      },
      "outputs": [],
      "source": [
        "# меняем порог отнесения к выжившим\n",
        "y_pred_new = np.where(y_predicted_prob[:,1]>0.6, 1, 0)"
      ]
    },
    {
      "cell_type": "code",
      "execution_count": null,
      "id": "e24e89ad",
      "metadata": {
        "id": "e24e89ad",
        "outputId": "bcad173d-6d68-43fa-d3f2-892c4ee69111"
      },
      "outputs": [
        {
          "data": {
            "text/plain": [
              "0.8105263157894737"
            ]
          },
          "execution_count": 80,
          "metadata": {},
          "output_type": "execute_result"
        }
      ],
      "source": [
        "#точность\n",
        "precision_score(y_test,y_pred_new)"
      ]
    },
    {
      "cell_type": "code",
      "execution_count": null,
      "id": "e0afdb85",
      "metadata": {
        "id": "e0afdb85",
        "outputId": "b3539e1e-72d1-4a96-9899-48a960b0758d"
      },
      "outputs": [
        {
          "data": {
            "text/plain": [
              "0.6416666666666667"
            ]
          },
          "execution_count": 81,
          "metadata": {},
          "output_type": "execute_result"
        }
      ],
      "source": [
        "#полнота\n",
        "recall_score(y_test,y_pred_new)"
      ]
    },
    {
      "cell_type": "code",
      "execution_count": null,
      "id": "75ae29b8",
      "metadata": {
        "id": "75ae29b8"
      },
      "outputs": [],
      "source": []
    },
    {
      "cell_type": "code",
      "execution_count": null,
      "id": "9c985c01",
      "metadata": {
        "id": "9c985c01"
      },
      "outputs": [],
      "source": [
        "РОК КРИВАЯ\n"
      ]
    },
    {
      "cell_type": "code",
      "execution_count": null,
      "id": "46081f5f",
      "metadata": {
        "id": "46081f5f",
        "outputId": "9b16276f-95aa-4472-db84-d993488cf3fa"
      },
      "outputs": [
        {
          "data": {
            "image/png": "[encoded data removed]",
            "text/plain": [
              "<Figure size 432x288 with 1 Axes>"
            ]
          },
          "metadata": {
            "needs_background": "light"
          },
          "output_type": "display_data"
        }
      ],
      "source": [
        "from sklearn.metrics import roc_curve, auc\n",
        "fpr, tpr, thresholds = roc_curve(y_test, y_predicted_prob[:,1])\n",
        "roc_auc= auc(fpr, tpr)\n",
        "\n",
        "plt.figure()\n",
        "plt.plot(fpr, tpr, color='darkorange',\n",
        "         label='ROC curve (area = %0.2f)' % roc_auc)\n",
        "plt.plot([0, 1], [0, 1], color='navy', linestyle='--')\n",
        "plt.xlim([0.0, 1.0])\n",
        "plt.ylim([0.0, 1.05])\n",
        "plt.xlabel('False Positive Rate')\n",
        "plt.ylabel('True Positive Rate')\n",
        "plt.title('Receiver operating characteristic example')\n",
        "plt.legend(loc=\"lower right\")\n",
        "plt.show()"
      ]
    },
    {
      "cell_type": "code",
      "execution_count": null,
      "id": "8be5cdf2",
      "metadata": {
        "id": "8be5cdf2"
      },
      "outputs": [],
      "source": []
    }
  ],
  "metadata": {
    "kernelspec": {
      "display_name": "Python 3 (ipykernel)",
      "language": "python",
      "name": "python3"
    },
    "language_info": {
      "codemirror_mode": {
        "name": "ipython",
        "version": 3
      },
      "file_extension": ".py",
      "mimetype": "text/x-python",
      "name": "python",
      "nbconvert_exporter": "python",
      "pygments_lexer": "ipython3",
      "version": "3.10.5"
    },
    "colab": {
      "provenance": [],
      "include_colab_link": true
    }
  },
  "nbformat": 4,
  "nbformat_minor": 5
}